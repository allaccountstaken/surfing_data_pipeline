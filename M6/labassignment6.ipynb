{
 "cells": [
  {
   "cell_type": "markdown",
   "metadata": {},
   "source": [
    "# Lab Assignment 6: Creating and Connecting to Databases\n",
    "## DS 6001: Practice and Application of Data Science\n",
    "\n",
    "### Instructions\n",
    "Please answer the following questions as completely as possible using text, code, and the results of code as needed. To receive full credit, make sure you address every part of the problem, make sure your document is formatted in a clean and professional way, and make sure the notebook is converted to a PDF and submitted to Gradescope according to these instructions: https://docs.google.com/document/d/1B9ZkK7n_hP_hQ9lIGm31Web4S6hGnwMz9Ad7EWm3N50/edit?usp=sharing.\n",
    "\n",
    "**This assignment requires you to include tables and images.** \n",
    "\n",
    "To create a table in a markdown cell, I recommend using the markdown table generator here: https://www.tablesgenerator.com/markdown_tables. This interface allows you to choose the number of rows and columns, fill in those rows and colums, and push the \"generate\" button. The website will display markdown table code that looks like:\n",
    "```\n",
    "| Day       | Temp | Rain |\n",
    "|-----------|------|------|\n",
    "| Monday    | 74   | No   |\n",
    "| Tuesday   | 58   | Yes  |\n",
    "| Wednesday | 76   | No   |\n",
    "```\n",
    "Copy the markdown code and paste it into a markdown cell in your notebook. Markdown will read the code and display a table that looks like this:\n",
    "\n",
    "| Day       | Temp | Rain |\n",
    "|-----------|------|------|\n",
    "| Monday    | 74   | No   |\n",
    "| Tuesday   | 58   | Yes  |\n",
    "| Wednesday | 76   | No   |\n",
    "\n",
    "To put an image into a markdown cell in a Jupyter notebook, save the image as a .png or .jpg file in the same folder where you have saved your Jupyter notebook, and use markdown code that looks like this:\n",
    "```\n",
    "![](imagefile.png)\n",
    "```\n",
    "where you will need to replace `imagefile.png` with the name of your own image file. Alternatively, if you want to control the size of the image in your notebook, type the following code on its own line in the markdown cell:\n",
    "```\n",
    "<img src=\"imagefile.png\" width=\"600\">\n",
    "```\n",
    "Here the `width` option allows you to control the size of the image by making this number larger or smaller. When converting the notebook to ![PDF format](https://docs.google.com/document/d/1B9ZkK7n_hP_hQ9lIGm31Web4S6hGnwMz9Ad7EWm3N50/edit?usp=sharing), make sure that the images display correctly in the PDF prior to submitting to Gradescope."
   ]
  },
  {
   "cell_type": "markdown",
   "metadata": {},
   "source": [
    "### Problem 0\n",
    "Import the following libraries, load the `.env` file where you store your passwords (see the notebook for module 4 for details), and turn off the error tracebacks to make errors easier to read:"
   ]
  },
  {
   "cell_type": "code",
   "execution_count": 1,
   "metadata": {},
   "outputs": [
    {
     "data": {
      "text/plain": [
       "True"
      ]
     },
     "execution_count": 1,
     "metadata": {},
     "output_type": "execute_result"
    }
   ],
   "source": [
    "import numpy as np\n",
    "import pandas as pd\n",
    "import wget\n",
    "import sqlite3\n",
    "import sqlalchemy\n",
    "import requests\n",
    "import json\n",
    "import os\n",
    "import sys\n",
    "import dotenv\n",
    "os.chdir(\"/Users/dmitrymikhaylov/Documents/learn/uva/spring2022/DS6001/surfing_data_pipeline/M6\") # change to the directory where your .env file is\n",
    "dotenv.load_dotenv() # register the .env file where passwords are stored\n",
    "#sys.tracebacklimit = 0 # turn off the error tracebacks\n",
    "\n"
   ]
  },
  {
   "cell_type": "code",
   "execution_count": 6,
   "metadata": {},
   "outputs": [
    {
     "name": "stdout",
     "output_type": "stream",
     "text": [
      "M6_codealong.ipynb   Untitled.ipynb       nba.dn\r\n",
      "M6_codealong.pdf     labassignment6.ipynb\r\n"
     ]
    }
   ],
   "source": [
    "!ls"
   ]
  },
  {
   "cell_type": "markdown",
   "metadata": {},
   "source": [
    "### Problem 1 \n",
    "Suppose that we have (fake) data on people who are currently being hospitalized. Here are five records in the data:\n",
    "\n",
    "|patient|conditions|dateofbirth|age|sex|attendingphysician|APmedschool|APyearsexperiece|hospital|hospitallocation|\n",
    "|-|-|-|-|-|-|-|-|-|-|\n",
    "|Nkemdilim Arendonk|[Pneumonia, Diabetes]|2/21/1962|58|M|Earnest Caro|University of California (Irvine)|14|UPMC Presbyterian Shadyside|Pittsburgh, PA|\n",
    "|Raniero Coumans|[Appendicitis, Crohn's disease]|8/15/1990|29|M|Pamela English|University of Michigan|29|Northwestern Memorial Hospital|Chicago, IL|\n",
    "|Mizuki Debenham|[Kidney Cancer]|3/12/1977|43|F|Lewis Conti|North Carolina State University|8|Houston Methodist Hospital|Houston, TX|\n",
    "|Zoë De Witt|[Cardiomyopathy, Diabetes, Sciatica]|11/23/1947|72|F|Theresa Dahlmans|Lake Erie College of Medicine|17|Mount Sinai Hospital|New York, NY|\n",
    "|Bonnie Hooper|[Pancreatic Cancer, Sciatica]|7/4/1951|68|F|Steven Garbutt|Ohio State University|36|UCSF Medical Center|San Francisco, CA|\n",
    "\n",
    "The columns in this dataset are:\n",
    "\n",
    "* **patient**: Patient name\n",
    "* **conditions**: A list of the conditions that are relevant to the patient's hospitalization\n",
    "* **dateofbirth**: The patient's date of birth\n",
    "* **age**: The patient's age\n",
    "* **sex**: The patient's sex\n",
    "* **attendingphysician**: The name of the attending physician for the patient\n",
    "* **APmedschool**: The name of the school where the attending physician got a medical degree\n",
    "* **APyearsexperiece**: The attending physician's number of years of experience post-residency\n",
    "* **hospital**: The hospital where the attending physicial is employed\n",
    "* **hospitallocation**: The location of the hospital\n",
    "\n",
    "For this problem, assume that \n",
    "\n",
    "1. Some people in the data share the same name, but no two people in the data share the same name and date of birth.\n",
    "\n",
    "2. Every attending physician is employed at only one hospital.\n",
    "\n",
    "3. Every hospital exists at only one location.\n",
    "\n",
    "4. There's more than one doctor with the same name, but there are no doctors with the same name that work at the same hospital."
   ]
  },
  {
   "cell_type": "markdown",
   "metadata": {},
   "source": [
    "#### Part a \n",
    "Rearrange the data on the five patients into a group of data tables that together meet the requirements of first normal form. [2 points]"
   ]
  },
  {
   "cell_type": "markdown",
   "metadata": {},
   "source": [
    "#### Part b \n",
    "Rearrange the data on the five patients into a group of data tables that together meet the requirements of second normal form. [2 points]"
   ]
  },
  {
   "cell_type": "markdown",
   "metadata": {},
   "source": [
    "#### Part c \n",
    "Rearrange the data on the five patients into a group of data tables that together meet the requirements of third normal form. \n",
    "\n",
    "Note that the patient's age is a derived attribute from the patient's date of birth, but please don't make an extra data table just for age. In principle, if we are worried about data inconsistencies we can simply remove age from the database and calculate it when needed from date of birth. But for this exercise, leave age in the table and ignore its dependency with date of birth. [2 points]"
   ]
  },
  {
   "cell_type": "markdown",
   "metadata": {},
   "source": [
    "### Problem 2\n",
    "For this problem, create ER diagrams of the database you created in problem 1, part c using draw.io: https://app.diagrams.net/. The symbols used for both Chen's notation and IE notation are on the left-hand toolbar."
   ]
  },
  {
   "cell_type": "markdown",
   "metadata": {},
   "source": [
    "#### Part a \n",
    "Create a conceptual ER diagram using Chen's notation. [2 points]"
   ]
  },
  {
   "cell_type": "markdown",
   "metadata": {},
   "source": [
    "#### Part b \n",
    "Create a logical ER diagram using Chen's notation. [2 points]"
   ]
  },
  {
   "cell_type": "markdown",
   "metadata": {},
   "source": [
    "#### Part c \n",
    "Create a conceptual ER diagram using IE notation. [2 points]"
   ]
  },
  {
   "cell_type": "markdown",
   "metadata": {},
   "source": [
    "### Problem 3\n",
    "For this problem, you will download the individual CSV files that comprise a relational database on album reviews from [Pitchfork Magazine](https://pitchfork.com/), collected via webscraping by [Nolan B. Conaway](https://github.com/nolanbconaway/pitchfork-data), and use them to initialize local databases using SQlite, MySQL, and PostgreSQL. \n",
    "\n",
    "To get the data, first set the working directory the folder on your computer to the folder where you want the CSV files to be. This should be the same folder where you saved our lab notebook and all associated files. Then change this line of code to the address for that folder: "
   ]
  },
  {
   "cell_type": "code",
   "execution_count": 2,
   "metadata": {},
   "outputs": [],
   "source": [
    "os.chdir(\"/Users/dmitrymikhaylov/Documents/learn/uva/spring2022/DS6001/surfing_data_pipeline/M6\")"
   ]
  },
  {
   "cell_type": "markdown",
   "metadata": {},
   "source": [
    "The following code of code will download the CSV files. Please run this as is:"
   ]
  },
  {
   "cell_type": "code",
   "execution_count": 3,
   "metadata": {},
   "outputs": [],
   "source": [
    "url = \"https://github.com/nolanbconaway/pitchfork-data/raw/master/pitchfork.db\"\n",
    "pfork = wget.download(url)\n",
    "pitchfork = sqlite3.connect(pfork)\n",
    "for t in ['artists','content','genres','labels','reviews','years']:\n",
    "    datatable = pd.read_sql_query(\"SELECT * FROM {tab}\".format(tab=t), pitchfork)\n",
    "    datatable.to_csv(\"{tab}.csv\".format(tab=t))"
   ]
  },
  {
   "cell_type": "code",
   "execution_count": 4,
   "metadata": {},
   "outputs": [
    {
     "name": "stdout",
     "output_type": "stream",
     "text": [
      "M6_codealong.ipynb   database.db          pitchfork (1).db\r\n",
      "M6_codealong.pdf     genres.csv           pitchfork.db\r\n",
      "Untitled.ipynb       labassignment6.ipynb reviews.csv\r\n",
      "artists.csv          labels.csv           years.csv\r\n",
      "content.csv          nba.dn\r\n"
     ]
    }
   ],
   "source": [
    "!ls"
   ]
  },
  {
   "cell_type": "markdown",
   "metadata": {},
   "source": [
    "Note: this code downloaded a SQlite database and extracted the tables, saving each one as a CSV. That seems backwards, as the purpose of this exercise is to create databases. But the point is to practice creating databases from individual data frames. Next we load the CSVs to create the data frames in Python:"
   ]
  },
  {
   "cell_type": "code",
   "execution_count": 9,
   "metadata": {},
   "outputs": [],
   "source": [
    "reviews = pd.read_csv(\"reviews.csv\", index_col=0)\n",
    "artists = pd.read_csv(\"artists.csv\", index_col=0)\n",
    "content = pd.read_csv(\"content.csv\", index_col=0)\n",
    "genres = pd.read_csv(\"genres.csv\", index_col=0)\n",
    "labels = pd.read_csv(\"labels.csv\", index_col=0)\n",
    "years = pd.read_csv(\"years.csv\", index_col=0)"
   ]
  },
  {
   "cell_type": "markdown",
   "metadata": {},
   "source": [
    "#### Part a\n",
    "Initialize a new database using SQlite and the `sqlite3` library. Add the six dataframes to this database. Then issue the following query to the database\n",
    "```\n",
    "SELECT title, artist, score FROM reviews WHERE score=10\n",
    "```\n",
    "using two methods: first, using the `.cursor()` method, and second using `pd.read_sql_query()`. Finally, commit your changes to the database and close the database. (If you get a warning about spaces in the column names, feel free to ignore it this time.) [2 points]"
   ]
  },
  {
   "cell_type": "code",
   "execution_count": 27,
   "metadata": {},
   "outputs": [],
   "source": [
    "# Create and populate the database with 6 tables\n",
    "database = sqlite3.connect(\"database.db\")"
   ]
  },
  {
   "cell_type": "code",
   "execution_count": 28,
   "metadata": {},
   "outputs": [
    {
     "data": {
      "text/plain": [
       "18393"
      ]
     },
     "execution_count": 28,
     "metadata": {},
     "output_type": "execute_result"
    }
   ],
   "source": [
    "reviews.to_sql('reviews', database, index=False, chunksize=1000, if_exists = 'replace') # to be run"
   ]
  },
  {
   "cell_type": "code",
   "execution_count": 29,
   "metadata": {},
   "outputs": [
    {
     "data": {
      "text/plain": [
       "18393"
      ]
     },
     "execution_count": 29,
     "metadata": {},
     "output_type": "execute_result"
    }
   ],
   "source": [
    "reviews.to_sql('reviews', database, index=False, chunksize=1000, if_exists = 'replace') # to be run"
   ]
  },
  {
   "cell_type": "code",
   "execution_count": 30,
   "metadata": {},
   "outputs": [
    {
     "data": {
      "text/plain": [
       "18831"
      ]
     },
     "execution_count": 30,
     "metadata": {},
     "output_type": "execute_result"
    }
   ],
   "source": [
    "artists.to_sql('artists', database, index=False, chunksize=1000, if_exists = 'replace') # to be run"
   ]
  },
  {
   "cell_type": "code",
   "execution_count": 31,
   "metadata": {},
   "outputs": [
    {
     "data": {
      "text/plain": [
       "18393"
      ]
     },
     "execution_count": 31,
     "metadata": {},
     "output_type": "execute_result"
    }
   ],
   "source": [
    "content.to_sql('content', database, index=False, chunksize=1000, if_exists = 'replace') # to be run"
   ]
  },
  {
   "cell_type": "code",
   "execution_count": 32,
   "metadata": {},
   "outputs": [
    {
     "data": {
      "text/plain": [
       "22680"
      ]
     },
     "execution_count": 32,
     "metadata": {},
     "output_type": "execute_result"
    }
   ],
   "source": [
    "genres.to_sql('genres', database, index=False, chunksize=1000, if_exists = 'replace') # to be run"
   ]
  },
  {
   "cell_type": "code",
   "execution_count": 33,
   "metadata": {},
   "outputs": [
    {
     "data": {
      "text/plain": [
       "20190"
      ]
     },
     "execution_count": 33,
     "metadata": {},
     "output_type": "execute_result"
    }
   ],
   "source": [
    "labels.to_sql('labels', database, index=False, chunksize=1000, if_exists = 'replace') # to be run"
   ]
  },
  {
   "cell_type": "code",
   "execution_count": 34,
   "metadata": {},
   "outputs": [
    {
     "data": {
      "text/plain": [
       "19108"
      ]
     },
     "execution_count": 34,
     "metadata": {},
     "output_type": "execute_result"
    }
   ],
   "source": [
    "years.to_sql('years', database, index=False, chunksize=1000, if_exists = 'replace') # to be run"
   ]
  },
  {
   "cell_type": "code",
   "execution_count": 35,
   "metadata": {},
   "outputs": [],
   "source": [
    "database.commit()"
   ]
  },
  {
   "cell_type": "code",
   "execution_count": 36,
   "metadata": {},
   "outputs": [],
   "source": [
    "database.close()"
   ]
  },
  {
   "cell_type": "code",
   "execution_count": 37,
   "metadata": {},
   "outputs": [
    {
     "data": {
      "text/plain": [
       "<sqlite3.Cursor at 0x7fdf64b258f0>"
      ]
     },
     "execution_count": 37,
     "metadata": {},
     "output_type": "execute_result"
    }
   ],
   "source": [
    "# Query the database using .cursor\n",
    "conn = sqlite3.connect('database.db')\n",
    "cursor = conn.cursor()\n",
    "cursor"
   ]
  },
  {
   "cell_type": "code",
   "execution_count": 38,
   "metadata": {},
   "outputs": [
    {
     "name": "stdout",
     "output_type": "stream",
     "text": [
      "('metal box', 'public image ltd', 10.0)\n",
      "('blood on the tracks', 'bob dylan', 10.0)\n",
      "('another green world', 'brian eno', 10.0)\n",
      "('songs in the key of life', 'stevie wonder', 10.0)\n",
      "('in concert', 'nina simone', 10.0)\n",
      "(\"tonight's the night\", 'neil young', 10.0)\n",
      "('hounds of love', 'kate bush', 10.0)\n",
      "('sign \"o\" the times', 'prince', 10.0)\n",
      "('1999', 'prince', 10.0)\n",
      "('purple rain', 'prince, the revolution', 10.0)\n",
      "('dirty mind', 'prince', 10.0)\n",
      "('off the wall', 'michael jackson', 10.0)\n",
      "('\"heroes\"', 'david bowie', 10.0)\n",
      "('low', 'david bowie', 10.0)\n",
      "('a love supreme: the complete masters', 'john coltrane', 10.0)\n",
      "(\"people's instinctive travels and the paths of rhythm\", 'a tribe called quest', 10.0)\n",
      "('astral weeks', 'van morrison', 10.0)\n",
      "('loaded: re-loaded 45th anniversary edition', 'the velvet underground', 10.0)\n",
      "('sticky fingers', 'the rolling stones', 10.0)\n",
      "('it takes a nation of millions to hold us back', 'public enemy', 10.0)\n",
      "('the velvet underground  45th anniversary super deluxe edition', 'the velvet underground', 10.0)\n",
      "('spiderland', 'slint', 10.0)\n",
      "('the infamous', 'mobb deep', 10.0)\n",
      "('white light/white heat', 'the velvet underground', 10.0)\n",
      "('in utero: 20th anniversary edition', 'nirvana', 10.0)\n",
      "('rumours', 'fleetwood mac', 10.0)\n",
      "('illmatic', 'nas', 10.0)\n",
      "('donuts (45 box set)', 'j dilla', 10.0)\n",
      "('voodoo', 'dangelo', 10.0)\n",
      "('the disintegration loops', 'william basinski', 10.0)\n",
      "('liquid swords: chess box deluxe edition', 'gza', 10.0)\n",
      "(\"isn't anything\", 'my bloody valentine', 10.0)\n",
      "('tago mago [40th anniversary edition]', 'can', 10.0)\n",
      "('the smile sessions', 'the beach boys', 10.0)\n",
      "('laughing stock', 'talk talk', 10.0)\n",
      "('nevermind [20th anniversary edition]', 'nirvana', 10.0)\n",
      "('emergency & i [vinyl reissue]', 'the dismemberment plan', 10.0)\n",
      "('my beautiful dark twisted fantasy', 'kanye west', 10.0)\n",
      "('disintegration [deluxe edition]', 'the cure', 10.0)\n",
      "('exile on main st. [deluxe edition]', 'the rolling stones', 10.0)\n",
      "('quarantine the past', 'pavement', 10.0)\n",
      "(\"ladies and gentlemen we are floating in space [collector's editon]\", 'spiritualized', 10.0)\n",
      "('the stone roses', 'the stone roses', 10.0)\n",
      "('the beatles', 'the beatles', 10.0)\n",
      "('abbey road', 'the beatles', 10.0)\n",
      "('rubber soul', 'the beatles', 10.0)\n",
      "('revolver', 'the beatles', 10.0)\n",
      "(\"sgt. pepper's lonely hearts club band\", 'the beatles', 10.0)\n",
      "('magical mystery tour', 'the beatles', 10.0)\n",
      "('stereo box', 'the beatles', 10.0)\n",
      "('kid a: special collectors edition', 'radiohead', 10.0)\n",
      "('reckoning [deluxe edition]', 'r.e.m.', 10.0)\n",
      "('histoire de melody nelson', 'serge gainsbourg', 10.0)\n",
      "(\"paul's boutique\", 'beastie boys', 10.0)\n",
      "('murmur [deluxe edition]', 'r.e.m.', 10.0)\n",
      "(\"otis blue: otis redding sings soul [collector's edition]\", 'otis redding', 10.0)\n",
      "('unknown pleasures', 'joy division', 10.0)\n",
      "('daydream nation: deluxe edition', 'sonic youth', 10.0)\n",
      "('pink flag', 'wire', 10.0)\n",
      "('born to run: 30th anniversary edition', 'bruce springsteen', 10.0)\n",
      "('in the aeroplane over the sea', 'neutral milk hotel', 10.0)\n",
      "('endtroducing... [deluxe edition]', 'dj shadow', 10.0)\n",
      "(\"crooked rain, crooked rain: la's desert origins\", 'pavement', 10.0)\n",
      "('london calling: 25th anniversary legacy edition', 'the clash', 10.0)\n",
      "('music has the right to children', 'boards of canada', 10.0)\n",
      "('live at the apollo [expanded edition]', 'james brown', 10.0)\n",
      "('no thanks!: the 70s punk rebellion', 'various artists', 10.0)\n",
      "('marquee moon', 'television', 10.0)\n",
      "('the ascension', 'glenn branca', 10.0)\n",
      "(\"this year's model\", 'elvis costello & the attractions', 10.0)\n",
      "('yankee hotel foxtrot', 'wilco', 10.0)\n",
      "('source tags and codes', '...and you will know us by the trail of dead', 10.0)\n",
      "('the olatunji concert: the last live recording', 'john coltrane', 10.0)\n",
      "('kid a', 'radiohead', 10.0)\n",
      "('animals', 'pink floyd', 10.0)\n",
      "('i see a darkness', 'bonnie prince billy', 10.0)\n"
     ]
    }
   ],
   "source": [
    "cursor.execute(\"SELECT title, artist, score FROM reviews WHERE score=10\")\n",
    "rows = cursor.fetchall()\n",
    "for row in rows:\n",
    "    print(row)"
   ]
  },
  {
   "cell_type": "code",
   "execution_count": 39,
   "metadata": {},
   "outputs": [],
   "source": [
    "conn.commit()"
   ]
  },
  {
   "cell_type": "code",
   "execution_count": 41,
   "metadata": {},
   "outputs": [],
   "source": [
    "conn.close()"
   ]
  },
  {
   "cell_type": "code",
   "execution_count": 43,
   "metadata": {},
   "outputs": [
    {
     "data": {
      "text/html": [
       "<div>\n",
       "<style scoped>\n",
       "    .dataframe tbody tr th:only-of-type {\n",
       "        vertical-align: middle;\n",
       "    }\n",
       "\n",
       "    .dataframe tbody tr th {\n",
       "        vertical-align: top;\n",
       "    }\n",
       "\n",
       "    .dataframe thead th {\n",
       "        text-align: right;\n",
       "    }\n",
       "</style>\n",
       "<table border=\"1\" class=\"dataframe\">\n",
       "  <thead>\n",
       "    <tr style=\"text-align: right;\">\n",
       "      <th></th>\n",
       "      <th>title</th>\n",
       "      <th>artist</th>\n",
       "      <th>score</th>\n",
       "    </tr>\n",
       "  </thead>\n",
       "  <tbody>\n",
       "    <tr>\n",
       "      <th>0</th>\n",
       "      <td>metal box</td>\n",
       "      <td>public image ltd</td>\n",
       "      <td>10.0</td>\n",
       "    </tr>\n",
       "    <tr>\n",
       "      <th>1</th>\n",
       "      <td>blood on the tracks</td>\n",
       "      <td>bob dylan</td>\n",
       "      <td>10.0</td>\n",
       "    </tr>\n",
       "    <tr>\n",
       "      <th>2</th>\n",
       "      <td>another green world</td>\n",
       "      <td>brian eno</td>\n",
       "      <td>10.0</td>\n",
       "    </tr>\n",
       "    <tr>\n",
       "      <th>3</th>\n",
       "      <td>songs in the key of life</td>\n",
       "      <td>stevie wonder</td>\n",
       "      <td>10.0</td>\n",
       "    </tr>\n",
       "    <tr>\n",
       "      <th>4</th>\n",
       "      <td>in concert</td>\n",
       "      <td>nina simone</td>\n",
       "      <td>10.0</td>\n",
       "    </tr>\n",
       "    <tr>\n",
       "      <th>...</th>\n",
       "      <td>...</td>\n",
       "      <td>...</td>\n",
       "      <td>...</td>\n",
       "    </tr>\n",
       "    <tr>\n",
       "      <th>71</th>\n",
       "      <td>source tags and codes</td>\n",
       "      <td>...and you will know us by the trail of dead</td>\n",
       "      <td>10.0</td>\n",
       "    </tr>\n",
       "    <tr>\n",
       "      <th>72</th>\n",
       "      <td>the olatunji concert: the last live recording</td>\n",
       "      <td>john coltrane</td>\n",
       "      <td>10.0</td>\n",
       "    </tr>\n",
       "    <tr>\n",
       "      <th>73</th>\n",
       "      <td>kid a</td>\n",
       "      <td>radiohead</td>\n",
       "      <td>10.0</td>\n",
       "    </tr>\n",
       "    <tr>\n",
       "      <th>74</th>\n",
       "      <td>animals</td>\n",
       "      <td>pink floyd</td>\n",
       "      <td>10.0</td>\n",
       "    </tr>\n",
       "    <tr>\n",
       "      <th>75</th>\n",
       "      <td>i see a darkness</td>\n",
       "      <td>bonnie prince billy</td>\n",
       "      <td>10.0</td>\n",
       "    </tr>\n",
       "  </tbody>\n",
       "</table>\n",
       "<p>76 rows × 3 columns</p>\n",
       "</div>"
      ],
      "text/plain": [
       "                                            title  \\\n",
       "0                                       metal box   \n",
       "1                             blood on the tracks   \n",
       "2                             another green world   \n",
       "3                        songs in the key of life   \n",
       "4                                      in concert   \n",
       "..                                            ...   \n",
       "71                          source tags and codes   \n",
       "72  the olatunji concert: the last live recording   \n",
       "73                                          kid a   \n",
       "74                                        animals   \n",
       "75                               i see a darkness   \n",
       "\n",
       "                                          artist  score  \n",
       "0                               public image ltd   10.0  \n",
       "1                                      bob dylan   10.0  \n",
       "2                                      brian eno   10.0  \n",
       "3                                  stevie wonder   10.0  \n",
       "4                                    nina simone   10.0  \n",
       "..                                           ...    ...  \n",
       "71  ...and you will know us by the trail of dead   10.0  \n",
       "72                                 john coltrane   10.0  \n",
       "73                                     radiohead   10.0  \n",
       "74                                    pink floyd   10.0  \n",
       "75                           bonnie prince billy   10.0  \n",
       "\n",
       "[76 rows x 3 columns]"
      ]
     },
     "execution_count": 43,
     "metadata": {},
     "output_type": "execute_result"
    }
   ],
   "source": [
    "another_conn = sqlite3.connect('database.db')\n",
    "pd.read_sql_query(\"SELECT title, artist, score FROM reviews WHERE score=10\", another_conn)"
   ]
  },
  {
   "cell_type": "markdown",
   "metadata": {},
   "source": [
    "#### Part b\n",
    "Follow the instructions in the Jupyter notebook for this module to install MySQL and `mysql.connector` on your computer. Make sure the MySQL server is running. Then import `mysql.connector` and do all of the tasks listed for part a using a MySQL database (including commiting changes and closing the database connection). Take steps to hide your password - do not let it display in your notebook. [2 points]"
   ]
  },
  {
   "cell_type": "markdown",
   "metadata": {},
   "source": [
    "#### Part c\n",
    "Follow the instructions in the Jupyter notebook for this module to install PostgreSQL and `psycopg2` on your computer. Then import `psycopg2` and do all of the tasks listed for part a using a PostgreSQL database (including commiting changes and closing the database connection). Take steps to hide your password - do not let it display in your notebook. [2 points]"
   ]
  },
  {
   "cell_type": "markdown",
   "metadata": {},
   "source": [
    "### Problem 4\n",
    "[Colin Mitchell](http://muffinlabs.com/) is a web-developer and artist who has a bunch of [cool projects](http://muffinlabs.com/projects.html) that play with what data can do on the internet. One of his projects is [Today in History](https://history.muffinlabs.com/), which provides an API to access all the Wikipedia pages for historical events that happened on this day in JSON format. The records in this JSON are stored in the `['data']['events']` path. Here's the first listing for today:"
   ]
  },
  {
   "cell_type": "code",
   "execution_count": 44,
   "metadata": {},
   "outputs": [
    {
     "data": {
      "text/plain": [
       "{'year': '1400',\n",
       " 'text': 'The Trần dynasty of Vietnam is deposed, after one hundred and seventy-five years of rule, by Hồ Quý Ly, a court official.',\n",
       " 'html': '1400 - The <a href=\"https://wikipedia.org/wiki/Tr%E1%BA%A7n_dynasty\" title=\"Trần dynasty\">Trần dynasty</a> of <a href=\"https://wikipedia.org/wiki/Vietnam\" title=\"Vietnam\">Vietnam</a> is deposed, after one hundred and seventy-five years of rule, by <a href=\"https://wikipedia.org/wiki/H%E1%BB%93_Qu%C3%BD_Ly\" title=\"Hồ Quý Ly\">Hồ Quý Ly</a>, a court official.',\n",
       " 'no_year_html': 'The <a href=\"https://wikipedia.org/wiki/Tr%E1%BA%A7n_dynasty\" title=\"Trần dynasty\">Trần dynasty</a> of <a href=\"https://wikipedia.org/wiki/Vietnam\" title=\"Vietnam\">Vietnam</a> is deposed, after one hundred and seventy-five years of rule, by <a href=\"https://wikipedia.org/wiki/H%E1%BB%93_Qu%C3%BD_Ly\" title=\"Hồ Quý Ly\">Hồ Quý Ly</a>, a court official.',\n",
       " 'links': [{'title': 'Trần dynasty',\n",
       "   'link': 'https://wikipedia.org/wiki/Tr%E1%BA%A7n_dynasty'},\n",
       "  {'title': 'Vietnam', 'link': 'https://wikipedia.org/wiki/Vietnam'},\n",
       "  {'title': 'Hồ Quý Ly',\n",
       "   'link': 'https://wikipedia.org/wiki/H%E1%BB%93_Qu%C3%BD_Ly'}]}"
      ]
     },
     "execution_count": 44,
     "metadata": {},
     "output_type": "execute_result"
    }
   ],
   "source": [
    "history = requests.get(\"https://history.muffinlabs.com/date\")\n",
    "history_json = json.loads(history.text)\n",
    "events = history_json['data']['Events']\n",
    "events[0]"
   ]
  },
  {
   "cell_type": "markdown",
   "metadata": {},
   "source": [
    "For this problem, you will use MongoDB and the `pymongo` library to create a local document store NoSQL database containing these historical events.\n",
    "\n",
    "Follow the instructions in the Jupyter notebook for this module to install MongoDB and `pymongo` on your computer. Make sure the local MongoDB server is running. Then import `pymongo`, connect to the local MongoDB client, create a database named \"history\" and a collection within that database named \"today\". Insert all of the records in `events` into this collection. Then issue the following query to find all of the records whose text contain the word \"Virginia\":\n",
    "```\n",
    "query = {\n",
    "    \"text\":{\n",
    "        \"$regex\": 'Virginia'\n",
    "    }\n",
    "}\n",
    "```\n",
    "If there are no results that contain the word \"Virginia\", choose a different work like \"England\" or \"China\". Display the count of the number of documents that match this query, display the output of the query, and generate a JSON formatted variable containing the output. [2 points]"
   ]
  }
 ],
 "metadata": {
  "kernelspec": {
   "display_name": "Python 3",
   "language": "python",
   "name": "python3"
  },
  "language_info": {
   "codemirror_mode": {
    "name": "ipython",
    "version": 3
   },
   "file_extension": ".py",
   "mimetype": "text/x-python",
   "name": "python",
   "nbconvert_exporter": "python",
   "pygments_lexer": "ipython3",
   "version": "3.8.3"
  }
 },
 "nbformat": 4,
 "nbformat_minor": 4
}
