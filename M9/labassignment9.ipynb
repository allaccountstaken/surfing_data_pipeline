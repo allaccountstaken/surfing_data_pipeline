{
 "cells": [
  {
   "cell_type": "markdown",
   "metadata": {},
   "source": [
    "# Lab Assignment 9: Data Management Using `pandas`, Part 2\n",
    "## DS 6001: Practice and Application of Data Science\n",
    "\n",
    "### Instructions\n",
    "Please answer the following questions as completely as possible using text, code, and the results of code as needed. Format your answers in a Jupyter notebook. To receive full credit, make sure you address every part of the problem, and make sure your document is formatted in a clean and professional way.\n",
    "\n",
    "## Problem 0\n",
    "Import the following libraries:"
   ]
  },
  {
   "cell_type": "code",
   "execution_count": 6,
   "metadata": {},
   "outputs": [],
   "source": [
    "import numpy as np\n",
    "import pandas as pd"
   ]
  },
  {
   "cell_type": "markdown",
   "metadata": {},
   "source": [
    "## Problem 1\n",
    "In the first part of this lab, the goal is to merge data from the United Nations World Health Organization (https://www.who.int/who-un/en/) with data from the Varieties of Democracy Project (https://www.v-dem.net/en/). The UN-WHO studies health outcomes in a cross-national context, and V-Dem studies the quality of democracy as it changes across countries and over time. We would want to merge these two datasets together if we wanted to study whether democratic quality can predict health outcomes.\n",
    "\n",
    "The UN data contains cross-national time series data from the United Nations and World Health Organization, and includes three features:\n",
    "\n",
    "* The number of physicians per 1000 people\n",
    "* The percent of the population that is malnourished\n",
    "* Health expenditure per capita\n",
    "\n",
    "The VDem data comes from the Varieties of Democracy project, which aims to measure the quality of democracy and the amount of corruption in different countries over time (https://www.v-dem.net/en/data/data-version-8/). This data file contains indices regarding a country’s democractic quality, level of civil liberites, and corruption. It also contains a binary indicator that separates countries into democratic and nondemocratic states, and it includes a categorizaton of the corruption scale.\n",
    "\n",
    "The URLs for the two datasets are:"
   ]
  },
  {
   "cell_type": "code",
   "execution_count": 7,
   "metadata": {},
   "outputs": [],
   "source": [
    "undata_url = \"https://github.com/jkropko/DS-6001/raw/master/localdata/UNdata.csv\"\n",
    "VDem_url = \"https://github.com/jkropko/DS-6001/raw/master/localdata/vdem.csv\""
   ]
  },
  {
   "cell_type": "markdown",
   "metadata": {},
   "source": [
    "### Part a\n",
    "Load both CSV files. Make sure to check whether there are rows that should not be included in the dataframe, and whether there are missing codes that should be replaced with `NaN`. Fix these problems at the data loading stage, if you can. (Don't worry about column names or category labels yet.) Also, the UN data covers the years 1960-2014, and the VDem data covers the years 1960-2015. To make the timeframe match up, delete rows in the VDem data from 2015. (1 point)"
   ]
  },
  {
   "cell_type": "code",
   "execution_count": 70,
   "metadata": {},
   "outputs": [
    {
     "data": {
      "text/html": [
       "<div>\n",
       "<style scoped>\n",
       "    .dataframe tbody tr th:only-of-type {\n",
       "        vertical-align: middle;\n",
       "    }\n",
       "\n",
       "    .dataframe tbody tr th {\n",
       "        vertical-align: top;\n",
       "    }\n",
       "\n",
       "    .dataframe thead th {\n",
       "        text-align: right;\n",
       "    }\n",
       "</style>\n",
       "<table border=\"1\" class=\"dataframe\">\n",
       "  <thead>\n",
       "    <tr style=\"text-align: right;\">\n",
       "      <th></th>\n",
       "      <th>Series Name</th>\n",
       "      <th>Series Code</th>\n",
       "      <th>Country Name</th>\n",
       "      <th>Country Code</th>\n",
       "      <th>1960 [YR1960]</th>\n",
       "      <th>1961 [YR1961]</th>\n",
       "      <th>1962 [YR1962]</th>\n",
       "      <th>1963 [YR1963]</th>\n",
       "      <th>1964 [YR1964]</th>\n",
       "      <th>1965 [YR1965]</th>\n",
       "      <th>...</th>\n",
       "      <th>2006 [YR2006]</th>\n",
       "      <th>2007 [YR2007]</th>\n",
       "      <th>2008 [YR2008]</th>\n",
       "      <th>2009 [YR2009]</th>\n",
       "      <th>2010 [YR2010]</th>\n",
       "      <th>2011 [YR2011]</th>\n",
       "      <th>2012 [YR2012]</th>\n",
       "      <th>2013 [YR2013]</th>\n",
       "      <th>2014 [YR2014]</th>\n",
       "      <th>2015 [YR2015]</th>\n",
       "    </tr>\n",
       "  </thead>\n",
       "  <tbody>\n",
       "    <tr>\n",
       "      <th>0</th>\n",
       "      <td>Physicians (per 1,000 people)</td>\n",
       "      <td>SH.MED.PHYS.ZS</td>\n",
       "      <td>Afghanistan</td>\n",
       "      <td>AFG</td>\n",
       "      <td>0.0348442494869232</td>\n",
       "      <td>..</td>\n",
       "      <td>..</td>\n",
       "      <td>..</td>\n",
       "      <td>..</td>\n",
       "      <td>0.0634277984499931</td>\n",
       "      <td>...</td>\n",
       "      <td>0.136</td>\n",
       "      <td>0.146</td>\n",
       "      <td>0.145</td>\n",
       "      <td>0.175</td>\n",
       "      <td>0.194</td>\n",
       "      <td>0.234</td>\n",
       "      <td>0.225</td>\n",
       "      <td>0.266</td>\n",
       "      <td>..</td>\n",
       "      <td>..</td>\n",
       "    </tr>\n",
       "    <tr>\n",
       "      <th>1</th>\n",
       "      <td>Physicians (per 1,000 people)</td>\n",
       "      <td>SH.MED.PHYS.ZS</td>\n",
       "      <td>Albania</td>\n",
       "      <td>ALB</td>\n",
       "      <td>0.276291221380234</td>\n",
       "      <td>..</td>\n",
       "      <td>..</td>\n",
       "      <td>..</td>\n",
       "      <td>..</td>\n",
       "      <td>0.48128342628479</td>\n",
       "      <td>...</td>\n",
       "      <td>1.15</td>\n",
       "      <td>1.146</td>\n",
       "      <td>..</td>\n",
       "      <td>1.144</td>\n",
       "      <td>1.132</td>\n",
       "      <td>1.113</td>\n",
       "      <td>1.145</td>\n",
       "      <td>1.145</td>\n",
       "      <td>..</td>\n",
       "      <td>..</td>\n",
       "    </tr>\n",
       "    <tr>\n",
       "      <th>2</th>\n",
       "      <td>Physicians (per 1,000 people)</td>\n",
       "      <td>SH.MED.PHYS.ZS</td>\n",
       "      <td>Algeria</td>\n",
       "      <td>DZA</td>\n",
       "      <td>0.173148155212402</td>\n",
       "      <td>..</td>\n",
       "      <td>..</td>\n",
       "      <td>..</td>\n",
       "      <td>..</td>\n",
       "      <td>0.116413652896881</td>\n",
       "      <td>...</td>\n",
       "      <td>..</td>\n",
       "      <td>1.207</td>\n",
       "      <td>..</td>\n",
       "      <td>..</td>\n",
       "      <td>1.207</td>\n",
       "      <td>..</td>\n",
       "      <td>..</td>\n",
       "      <td>..</td>\n",
       "      <td>..</td>\n",
       "      <td>..</td>\n",
       "    </tr>\n",
       "    <tr>\n",
       "      <th>3</th>\n",
       "      <td>Physicians (per 1,000 people)</td>\n",
       "      <td>SH.MED.PHYS.ZS</td>\n",
       "      <td>American Samoa</td>\n",
       "      <td>ASM</td>\n",
       "      <td>..</td>\n",
       "      <td>..</td>\n",
       "      <td>..</td>\n",
       "      <td>..</td>\n",
       "      <td>..</td>\n",
       "      <td>..</td>\n",
       "      <td>...</td>\n",
       "      <td>..</td>\n",
       "      <td>..</td>\n",
       "      <td>..</td>\n",
       "      <td>..</td>\n",
       "      <td>..</td>\n",
       "      <td>..</td>\n",
       "      <td>..</td>\n",
       "      <td>..</td>\n",
       "      <td>..</td>\n",
       "      <td>..</td>\n",
       "    </tr>\n",
       "    <tr>\n",
       "      <th>4</th>\n",
       "      <td>Physicians (per 1,000 people)</td>\n",
       "      <td>SH.MED.PHYS.ZS</td>\n",
       "      <td>Andorra</td>\n",
       "      <td>ADO</td>\n",
       "      <td>..</td>\n",
       "      <td>..</td>\n",
       "      <td>..</td>\n",
       "      <td>..</td>\n",
       "      <td>..</td>\n",
       "      <td>..</td>\n",
       "      <td>...</td>\n",
       "      <td>3.64</td>\n",
       "      <td>3.716</td>\n",
       "      <td>..</td>\n",
       "      <td>3.912</td>\n",
       "      <td>4</td>\n",
       "      <td>..</td>\n",
       "      <td>..</td>\n",
       "      <td>..</td>\n",
       "      <td>..</td>\n",
       "      <td>..</td>\n",
       "    </tr>\n",
       "  </tbody>\n",
       "</table>\n",
       "<p>5 rows × 60 columns</p>\n",
       "</div>"
      ],
      "text/plain": [
       "                     Series Name     Series Code    Country Name Country Code  \\\n",
       "0  Physicians (per 1,000 people)  SH.MED.PHYS.ZS     Afghanistan          AFG   \n",
       "1  Physicians (per 1,000 people)  SH.MED.PHYS.ZS         Albania          ALB   \n",
       "2  Physicians (per 1,000 people)  SH.MED.PHYS.ZS         Algeria          DZA   \n",
       "3  Physicians (per 1,000 people)  SH.MED.PHYS.ZS  American Samoa          ASM   \n",
       "4  Physicians (per 1,000 people)  SH.MED.PHYS.ZS         Andorra          ADO   \n",
       "\n",
       "        1960 [YR1960] 1961 [YR1961] 1962 [YR1962] 1963 [YR1963] 1964 [YR1964]  \\\n",
       "0  0.0348442494869232            ..            ..            ..            ..   \n",
       "1   0.276291221380234            ..            ..            ..            ..   \n",
       "2   0.173148155212402            ..            ..            ..            ..   \n",
       "3                  ..            ..            ..            ..            ..   \n",
       "4                  ..            ..            ..            ..            ..   \n",
       "\n",
       "        1965 [YR1965]  ... 2006 [YR2006] 2007 [YR2007] 2008 [YR2008]  \\\n",
       "0  0.0634277984499931  ...         0.136         0.146         0.145   \n",
       "1    0.48128342628479  ...          1.15         1.146            ..   \n",
       "2   0.116413652896881  ...            ..         1.207            ..   \n",
       "3                  ..  ...            ..            ..            ..   \n",
       "4                  ..  ...          3.64         3.716            ..   \n",
       "\n",
       "  2009 [YR2009] 2010 [YR2010] 2011 [YR2011] 2012 [YR2012] 2013 [YR2013]  \\\n",
       "0         0.175         0.194         0.234         0.225         0.266   \n",
       "1         1.144         1.132         1.113         1.145         1.145   \n",
       "2            ..         1.207            ..            ..            ..   \n",
       "3            ..            ..            ..            ..            ..   \n",
       "4         3.912             4            ..            ..            ..   \n",
       "\n",
       "  2014 [YR2014] 2015 [YR2015]  \n",
       "0            ..            ..  \n",
       "1            ..            ..  \n",
       "2            ..            ..  \n",
       "3            ..            ..  \n",
       "4            ..            ..  \n",
       "\n",
       "[5 rows x 60 columns]"
      ]
     },
     "execution_count": 70,
     "metadata": {},
     "output_type": "execute_result"
    }
   ],
   "source": [
    "# Load the data and inspect the head\n",
    "undata = pd.read_csv(undata_url)\n",
    "undata.head()"
   ]
  },
  {
   "cell_type": "code",
   "execution_count": 71,
   "metadata": {},
   "outputs": [
    {
     "data": {
      "text/plain": [
       "True"
      ]
     },
     "execution_count": 71,
     "metadata": {},
     "output_type": "execute_result"
    }
   ],
   "source": [
    "# Check if there are any `NaN` values -- it turns out Yes!\n",
    "undata.isnull().values.any()"
   ]
  },
  {
   "cell_type": "code",
   "execution_count": 72,
   "metadata": {},
   "outputs": [
    {
     "data": {
      "text/plain": [
       "Index(['Series Name', 'Series Code', 'Country Name', 'Country Code',\n",
       "       '1960 [YR1960]', '1961 [YR1961]', '1962 [YR1962]', '1963 [YR1963]',\n",
       "       '1964 [YR1964]', '1965 [YR1965]', '1966 [YR1966]', '1967 [YR1967]',\n",
       "       '1968 [YR1968]', '1969 [YR1969]', '1970 [YR1970]', '1971 [YR1971]',\n",
       "       '1972 [YR1972]', '1973 [YR1973]', '1974 [YR1974]', '1975 [YR1975]',\n",
       "       '1976 [YR1976]', '1977 [YR1977]', '1978 [YR1978]', '1979 [YR1979]',\n",
       "       '1980 [YR1980]', '1981 [YR1981]', '1982 [YR1982]', '1983 [YR1983]',\n",
       "       '1984 [YR1984]', '1985 [YR1985]', '1986 [YR1986]', '1987 [YR1987]',\n",
       "       '1988 [YR1988]', '1989 [YR1989]', '1990 [YR1990]', '1991 [YR1991]',\n",
       "       '1992 [YR1992]', '1993 [YR1993]', '1994 [YR1994]', '1995 [YR1995]',\n",
       "       '1996 [YR1996]', '1997 [YR1997]', '1998 [YR1998]', '1999 [YR1999]',\n",
       "       '2000 [YR2000]', '2001 [YR2001]', '2002 [YR2002]', '2003 [YR2003]',\n",
       "       '2004 [YR2004]', '2005 [YR2005]', '2006 [YR2006]', '2007 [YR2007]',\n",
       "       '2008 [YR2008]', '2009 [YR2009]', '2010 [YR2010]', '2011 [YR2011]',\n",
       "       '2012 [YR2012]', '2013 [YR2013]', '2014 [YR2014]', '2015 [YR2015]'],\n",
       "      dtype='object')"
      ]
     },
     "execution_count": 72,
     "metadata": {},
     "output_type": "execute_result"
    }
   ],
   "source": [
    "# Check column names\n",
    "undata.columns"
   ]
  },
  {
   "cell_type": "code",
   "execution_count": 73,
   "metadata": {},
   "outputs": [
    {
     "data": {
      "text/plain": [
       "3"
      ]
     },
     "execution_count": 73,
     "metadata": {},
     "output_type": "execute_result"
    }
   ],
   "source": [
    "# Check if there are in Series Names -- 3 rows\n",
    "undata['Series Name'].isnull().sum()"
   ]
  },
  {
   "cell_type": "code",
   "execution_count": 74,
   "metadata": {
    "scrolled": true
   },
   "outputs": [
    {
     "data": {
      "text/html": [
       "<div>\n",
       "<style scoped>\n",
       "    .dataframe tbody tr th:only-of-type {\n",
       "        vertical-align: middle;\n",
       "    }\n",
       "\n",
       "    .dataframe tbody tr th {\n",
       "        vertical-align: top;\n",
       "    }\n",
       "\n",
       "    .dataframe thead th {\n",
       "        text-align: right;\n",
       "    }\n",
       "</style>\n",
       "<table border=\"1\" class=\"dataframe\">\n",
       "  <thead>\n",
       "    <tr style=\"text-align: right;\">\n",
       "      <th></th>\n",
       "      <th>Series Name</th>\n",
       "      <th>Series Code</th>\n",
       "      <th>Country Name</th>\n",
       "      <th>Country Code</th>\n",
       "      <th>1960 [YR1960]</th>\n",
       "      <th>1961 [YR1961]</th>\n",
       "      <th>1962 [YR1962]</th>\n",
       "      <th>1963 [YR1963]</th>\n",
       "      <th>1964 [YR1964]</th>\n",
       "      <th>1965 [YR1965]</th>\n",
       "      <th>...</th>\n",
       "      <th>2006 [YR2006]</th>\n",
       "      <th>2007 [YR2007]</th>\n",
       "      <th>2008 [YR2008]</th>\n",
       "      <th>2009 [YR2009]</th>\n",
       "      <th>2010 [YR2010]</th>\n",
       "      <th>2011 [YR2011]</th>\n",
       "      <th>2012 [YR2012]</th>\n",
       "      <th>2013 [YR2013]</th>\n",
       "      <th>2014 [YR2014]</th>\n",
       "      <th>2015 [YR2015]</th>\n",
       "    </tr>\n",
       "  </thead>\n",
       "  <tbody>\n",
       "    <tr>\n",
       "      <th>774</th>\n",
       "      <td>NaN</td>\n",
       "      <td>NaN</td>\n",
       "      <td>NaN</td>\n",
       "      <td>NaN</td>\n",
       "      <td>NaN</td>\n",
       "      <td>NaN</td>\n",
       "      <td>NaN</td>\n",
       "      <td>NaN</td>\n",
       "      <td>NaN</td>\n",
       "      <td>NaN</td>\n",
       "      <td>...</td>\n",
       "      <td>NaN</td>\n",
       "      <td>NaN</td>\n",
       "      <td>NaN</td>\n",
       "      <td>NaN</td>\n",
       "      <td>NaN</td>\n",
       "      <td>NaN</td>\n",
       "      <td>NaN</td>\n",
       "      <td>NaN</td>\n",
       "      <td>NaN</td>\n",
       "      <td>NaN</td>\n",
       "    </tr>\n",
       "    <tr>\n",
       "      <th>775</th>\n",
       "      <td>NaN</td>\n",
       "      <td>NaN</td>\n",
       "      <td>NaN</td>\n",
       "      <td>NaN</td>\n",
       "      <td>NaN</td>\n",
       "      <td>NaN</td>\n",
       "      <td>NaN</td>\n",
       "      <td>NaN</td>\n",
       "      <td>NaN</td>\n",
       "      <td>NaN</td>\n",
       "      <td>...</td>\n",
       "      <td>NaN</td>\n",
       "      <td>NaN</td>\n",
       "      <td>NaN</td>\n",
       "      <td>NaN</td>\n",
       "      <td>NaN</td>\n",
       "      <td>NaN</td>\n",
       "      <td>NaN</td>\n",
       "      <td>NaN</td>\n",
       "      <td>NaN</td>\n",
       "      <td>NaN</td>\n",
       "    </tr>\n",
       "    <tr>\n",
       "      <th>776</th>\n",
       "      <td>NaN</td>\n",
       "      <td>NaN</td>\n",
       "      <td>NaN</td>\n",
       "      <td>NaN</td>\n",
       "      <td>NaN</td>\n",
       "      <td>NaN</td>\n",
       "      <td>NaN</td>\n",
       "      <td>NaN</td>\n",
       "      <td>NaN</td>\n",
       "      <td>NaN</td>\n",
       "      <td>...</td>\n",
       "      <td>NaN</td>\n",
       "      <td>NaN</td>\n",
       "      <td>NaN</td>\n",
       "      <td>NaN</td>\n",
       "      <td>NaN</td>\n",
       "      <td>NaN</td>\n",
       "      <td>NaN</td>\n",
       "      <td>NaN</td>\n",
       "      <td>NaN</td>\n",
       "      <td>NaN</td>\n",
       "    </tr>\n",
       "  </tbody>\n",
       "</table>\n",
       "<p>3 rows × 60 columns</p>\n",
       "</div>"
      ],
      "text/plain": [
       "    Series Name Series Code Country Name Country Code 1960 [YR1960]  \\\n",
       "774         NaN         NaN          NaN          NaN           NaN   \n",
       "775         NaN         NaN          NaN          NaN           NaN   \n",
       "776         NaN         NaN          NaN          NaN           NaN   \n",
       "\n",
       "    1961 [YR1961] 1962 [YR1962] 1963 [YR1963] 1964 [YR1964] 1965 [YR1965]  \\\n",
       "774           NaN           NaN           NaN           NaN           NaN   \n",
       "775           NaN           NaN           NaN           NaN           NaN   \n",
       "776           NaN           NaN           NaN           NaN           NaN   \n",
       "\n",
       "     ... 2006 [YR2006] 2007 [YR2007] 2008 [YR2008] 2009 [YR2009]  \\\n",
       "774  ...           NaN           NaN           NaN           NaN   \n",
       "775  ...           NaN           NaN           NaN           NaN   \n",
       "776  ...           NaN           NaN           NaN           NaN   \n",
       "\n",
       "    2010 [YR2010] 2011 [YR2011] 2012 [YR2012] 2013 [YR2013] 2014 [YR2014]  \\\n",
       "774           NaN           NaN           NaN           NaN           NaN   \n",
       "775           NaN           NaN           NaN           NaN           NaN   \n",
       "776           NaN           NaN           NaN           NaN           NaN   \n",
       "\n",
       "    2015 [YR2015]  \n",
       "774           NaN  \n",
       "775           NaN  \n",
       "776           NaN  \n",
       "\n",
       "[3 rows x 60 columns]"
      ]
     },
     "execution_count": 74,
     "metadata": {},
     "output_type": "execute_result"
    }
   ],
   "source": [
    "# Visual check of the missing records\n",
    "undata[undata['Series Name'].isna()]"
   ]
  },
  {
   "cell_type": "code",
   "execution_count": 75,
   "metadata": {},
   "outputs": [
    {
     "data": {
      "text/plain": [
       "5"
      ]
     },
     "execution_count": 75,
     "metadata": {},
     "output_type": "execute_result"
    }
   ],
   "source": [
    "# Check if there are in Series Code -- 5 rows\n",
    "undata['Series Code'].isnull().sum()"
   ]
  },
  {
   "cell_type": "code",
   "execution_count": 76,
   "metadata": {},
   "outputs": [
    {
     "data": {
      "text/html": [
       "<div>\n",
       "<style scoped>\n",
       "    .dataframe tbody tr th:only-of-type {\n",
       "        vertical-align: middle;\n",
       "    }\n",
       "\n",
       "    .dataframe tbody tr th {\n",
       "        vertical-align: top;\n",
       "    }\n",
       "\n",
       "    .dataframe thead th {\n",
       "        text-align: right;\n",
       "    }\n",
       "</style>\n",
       "<table border=\"1\" class=\"dataframe\">\n",
       "  <thead>\n",
       "    <tr style=\"text-align: right;\">\n",
       "      <th></th>\n",
       "      <th>Series Name</th>\n",
       "      <th>Series Code</th>\n",
       "      <th>Country Name</th>\n",
       "      <th>Country Code</th>\n",
       "      <th>1960 [YR1960]</th>\n",
       "      <th>1961 [YR1961]</th>\n",
       "      <th>1962 [YR1962]</th>\n",
       "      <th>1963 [YR1963]</th>\n",
       "      <th>1964 [YR1964]</th>\n",
       "      <th>1965 [YR1965]</th>\n",
       "      <th>...</th>\n",
       "      <th>2006 [YR2006]</th>\n",
       "      <th>2007 [YR2007]</th>\n",
       "      <th>2008 [YR2008]</th>\n",
       "      <th>2009 [YR2009]</th>\n",
       "      <th>2010 [YR2010]</th>\n",
       "      <th>2011 [YR2011]</th>\n",
       "      <th>2012 [YR2012]</th>\n",
       "      <th>2013 [YR2013]</th>\n",
       "      <th>2014 [YR2014]</th>\n",
       "      <th>2015 [YR2015]</th>\n",
       "    </tr>\n",
       "  </thead>\n",
       "  <tbody>\n",
       "    <tr>\n",
       "      <th>774</th>\n",
       "      <td>NaN</td>\n",
       "      <td>NaN</td>\n",
       "      <td>NaN</td>\n",
       "      <td>NaN</td>\n",
       "      <td>NaN</td>\n",
       "      <td>NaN</td>\n",
       "      <td>NaN</td>\n",
       "      <td>NaN</td>\n",
       "      <td>NaN</td>\n",
       "      <td>NaN</td>\n",
       "      <td>...</td>\n",
       "      <td>NaN</td>\n",
       "      <td>NaN</td>\n",
       "      <td>NaN</td>\n",
       "      <td>NaN</td>\n",
       "      <td>NaN</td>\n",
       "      <td>NaN</td>\n",
       "      <td>NaN</td>\n",
       "      <td>NaN</td>\n",
       "      <td>NaN</td>\n",
       "      <td>NaN</td>\n",
       "    </tr>\n",
       "    <tr>\n",
       "      <th>775</th>\n",
       "      <td>NaN</td>\n",
       "      <td>NaN</td>\n",
       "      <td>NaN</td>\n",
       "      <td>NaN</td>\n",
       "      <td>NaN</td>\n",
       "      <td>NaN</td>\n",
       "      <td>NaN</td>\n",
       "      <td>NaN</td>\n",
       "      <td>NaN</td>\n",
       "      <td>NaN</td>\n",
       "      <td>...</td>\n",
       "      <td>NaN</td>\n",
       "      <td>NaN</td>\n",
       "      <td>NaN</td>\n",
       "      <td>NaN</td>\n",
       "      <td>NaN</td>\n",
       "      <td>NaN</td>\n",
       "      <td>NaN</td>\n",
       "      <td>NaN</td>\n",
       "      <td>NaN</td>\n",
       "      <td>NaN</td>\n",
       "    </tr>\n",
       "    <tr>\n",
       "      <th>776</th>\n",
       "      <td>NaN</td>\n",
       "      <td>NaN</td>\n",
       "      <td>NaN</td>\n",
       "      <td>NaN</td>\n",
       "      <td>NaN</td>\n",
       "      <td>NaN</td>\n",
       "      <td>NaN</td>\n",
       "      <td>NaN</td>\n",
       "      <td>NaN</td>\n",
       "      <td>NaN</td>\n",
       "      <td>...</td>\n",
       "      <td>NaN</td>\n",
       "      <td>NaN</td>\n",
       "      <td>NaN</td>\n",
       "      <td>NaN</td>\n",
       "      <td>NaN</td>\n",
       "      <td>NaN</td>\n",
       "      <td>NaN</td>\n",
       "      <td>NaN</td>\n",
       "      <td>NaN</td>\n",
       "      <td>NaN</td>\n",
       "    </tr>\n",
       "    <tr>\n",
       "      <th>777</th>\n",
       "      <td>Data from database: Health Nutrition and Popul...</td>\n",
       "      <td>NaN</td>\n",
       "      <td>NaN</td>\n",
       "      <td>NaN</td>\n",
       "      <td>NaN</td>\n",
       "      <td>NaN</td>\n",
       "      <td>NaN</td>\n",
       "      <td>NaN</td>\n",
       "      <td>NaN</td>\n",
       "      <td>NaN</td>\n",
       "      <td>...</td>\n",
       "      <td>NaN</td>\n",
       "      <td>NaN</td>\n",
       "      <td>NaN</td>\n",
       "      <td>NaN</td>\n",
       "      <td>NaN</td>\n",
       "      <td>NaN</td>\n",
       "      <td>NaN</td>\n",
       "      <td>NaN</td>\n",
       "      <td>NaN</td>\n",
       "      <td>NaN</td>\n",
       "    </tr>\n",
       "    <tr>\n",
       "      <th>778</th>\n",
       "      <td>Last Updated: 12/16/2016</td>\n",
       "      <td>NaN</td>\n",
       "      <td>NaN</td>\n",
       "      <td>NaN</td>\n",
       "      <td>NaN</td>\n",
       "      <td>NaN</td>\n",
       "      <td>NaN</td>\n",
       "      <td>NaN</td>\n",
       "      <td>NaN</td>\n",
       "      <td>NaN</td>\n",
       "      <td>...</td>\n",
       "      <td>NaN</td>\n",
       "      <td>NaN</td>\n",
       "      <td>NaN</td>\n",
       "      <td>NaN</td>\n",
       "      <td>NaN</td>\n",
       "      <td>NaN</td>\n",
       "      <td>NaN</td>\n",
       "      <td>NaN</td>\n",
       "      <td>NaN</td>\n",
       "      <td>NaN</td>\n",
       "    </tr>\n",
       "  </tbody>\n",
       "</table>\n",
       "<p>5 rows × 60 columns</p>\n",
       "</div>"
      ],
      "text/plain": [
       "                                           Series Name Series Code  \\\n",
       "774                                                NaN         NaN   \n",
       "775                                                NaN         NaN   \n",
       "776                                                NaN         NaN   \n",
       "777  Data from database: Health Nutrition and Popul...         NaN   \n",
       "778                           Last Updated: 12/16/2016         NaN   \n",
       "\n",
       "    Country Name Country Code 1960 [YR1960] 1961 [YR1961] 1962 [YR1962]  \\\n",
       "774          NaN          NaN           NaN           NaN           NaN   \n",
       "775          NaN          NaN           NaN           NaN           NaN   \n",
       "776          NaN          NaN           NaN           NaN           NaN   \n",
       "777          NaN          NaN           NaN           NaN           NaN   \n",
       "778          NaN          NaN           NaN           NaN           NaN   \n",
       "\n",
       "    1963 [YR1963] 1964 [YR1964] 1965 [YR1965]  ... 2006 [YR2006]  \\\n",
       "774           NaN           NaN           NaN  ...           NaN   \n",
       "775           NaN           NaN           NaN  ...           NaN   \n",
       "776           NaN           NaN           NaN  ...           NaN   \n",
       "777           NaN           NaN           NaN  ...           NaN   \n",
       "778           NaN           NaN           NaN  ...           NaN   \n",
       "\n",
       "    2007 [YR2007] 2008 [YR2008] 2009 [YR2009] 2010 [YR2010] 2011 [YR2011]  \\\n",
       "774           NaN           NaN           NaN           NaN           NaN   \n",
       "775           NaN           NaN           NaN           NaN           NaN   \n",
       "776           NaN           NaN           NaN           NaN           NaN   \n",
       "777           NaN           NaN           NaN           NaN           NaN   \n",
       "778           NaN           NaN           NaN           NaN           NaN   \n",
       "\n",
       "    2012 [YR2012] 2013 [YR2013] 2014 [YR2014] 2015 [YR2015]  \n",
       "774           NaN           NaN           NaN           NaN  \n",
       "775           NaN           NaN           NaN           NaN  \n",
       "776           NaN           NaN           NaN           NaN  \n",
       "777           NaN           NaN           NaN           NaN  \n",
       "778           NaN           NaN           NaN           NaN  \n",
       "\n",
       "[5 rows x 60 columns]"
      ]
     },
     "execution_count": 76,
     "metadata": {},
     "output_type": "execute_result"
    }
   ],
   "source": [
    "# Visual check of the missing records -- same missing values for Country Code and Country Name\n",
    "undata[undata['Series Code'].isnull()] "
   ]
  },
  {
   "cell_type": "code",
   "execution_count": 77,
   "metadata": {},
   "outputs": [],
   "source": [
    "undata = undata.dropna(subset=['Series Code'])"
   ]
  },
  {
   "cell_type": "code",
   "execution_count": 78,
   "metadata": {},
   "outputs": [
    {
     "data": {
      "text/plain": [
       "False"
      ]
     },
     "execution_count": 78,
     "metadata": {},
     "output_type": "execute_result"
    }
   ],
   "source": [
    "# Check if there are any `NaN` values after dropping \"Series Code\" -- turns out No!\n",
    "undata.isnull().values.any()"
   ]
  },
  {
   "cell_type": "code",
   "execution_count": 79,
   "metadata": {},
   "outputs": [
    {
     "data": {
      "text/html": [
       "<div>\n",
       "<style scoped>\n",
       "    .dataframe tbody tr th:only-of-type {\n",
       "        vertical-align: middle;\n",
       "    }\n",
       "\n",
       "    .dataframe tbody tr th {\n",
       "        vertical-align: top;\n",
       "    }\n",
       "\n",
       "    .dataframe thead th {\n",
       "        text-align: right;\n",
       "    }\n",
       "</style>\n",
       "<table border=\"1\" class=\"dataframe\">\n",
       "  <thead>\n",
       "    <tr style=\"text-align: right;\">\n",
       "      <th></th>\n",
       "      <th>X1</th>\n",
       "      <th>country_name</th>\n",
       "      <th>country_id</th>\n",
       "      <th>country_text_id</th>\n",
       "      <th>year</th>\n",
       "      <th>historical_date</th>\n",
       "      <th>codingstart</th>\n",
       "      <th>gapstart</th>\n",
       "      <th>gapend</th>\n",
       "      <th>codingend</th>\n",
       "      <th>...</th>\n",
       "      <th>v2xcs_ccsi_codehigh</th>\n",
       "      <th>v2xcs_ccsi_codelow</th>\n",
       "      <th>v2xps_party</th>\n",
       "      <th>v2xps_party_codehigh</th>\n",
       "      <th>v2xps_party_codelow</th>\n",
       "      <th>v2x_gender</th>\n",
       "      <th>v2x_gender_codehigh</th>\n",
       "      <th>v2x_gender_codelow</th>\n",
       "      <th>v2x_gencl</th>\n",
       "      <th>v2x_gencl_codehigh</th>\n",
       "    </tr>\n",
       "  </thead>\n",
       "  <tbody>\n",
       "    <tr>\n",
       "      <th>0</th>\n",
       "      <td>1</td>\n",
       "      <td>Mexico</td>\n",
       "      <td>3</td>\n",
       "      <td>MEX</td>\n",
       "      <td>1960</td>\n",
       "      <td>1960-01-01</td>\n",
       "      <td>1900</td>\n",
       "      <td>NaN</td>\n",
       "      <td>NaN</td>\n",
       "      <td>2014</td>\n",
       "      <td>...</td>\n",
       "      <td>0.451123</td>\n",
       "      <td>0.170201</td>\n",
       "      <td>0.681416</td>\n",
       "      <td>0.811379</td>\n",
       "      <td>0.524055</td>\n",
       "      <td>0.347498</td>\n",
       "      <td>0.421270</td>\n",
       "      <td>0.273726</td>\n",
       "      <td>0.555367</td>\n",
       "      <td>0.714971</td>\n",
       "    </tr>\n",
       "    <tr>\n",
       "      <th>1</th>\n",
       "      <td>2</td>\n",
       "      <td>Mexico</td>\n",
       "      <td>3</td>\n",
       "      <td>MEX</td>\n",
       "      <td>1961</td>\n",
       "      <td>1961-01-01</td>\n",
       "      <td>1900</td>\n",
       "      <td>NaN</td>\n",
       "      <td>NaN</td>\n",
       "      <td>2014</td>\n",
       "      <td>...</td>\n",
       "      <td>0.461693</td>\n",
       "      <td>0.175715</td>\n",
       "      <td>0.681416</td>\n",
       "      <td>0.811379</td>\n",
       "      <td>0.524055</td>\n",
       "      <td>0.344214</td>\n",
       "      <td>0.417813</td>\n",
       "      <td>0.270614</td>\n",
       "      <td>0.555367</td>\n",
       "      <td>0.714971</td>\n",
       "    </tr>\n",
       "    <tr>\n",
       "      <th>2</th>\n",
       "      <td>3</td>\n",
       "      <td>Mexico</td>\n",
       "      <td>3</td>\n",
       "      <td>MEX</td>\n",
       "      <td>1962</td>\n",
       "      <td>1962-01-01</td>\n",
       "      <td>1900</td>\n",
       "      <td>NaN</td>\n",
       "      <td>NaN</td>\n",
       "      <td>2014</td>\n",
       "      <td>...</td>\n",
       "      <td>0.461693</td>\n",
       "      <td>0.175715</td>\n",
       "      <td>0.681416</td>\n",
       "      <td>0.811379</td>\n",
       "      <td>0.524055</td>\n",
       "      <td>0.344214</td>\n",
       "      <td>0.417813</td>\n",
       "      <td>0.270614</td>\n",
       "      <td>0.555367</td>\n",
       "      <td>0.714971</td>\n",
       "    </tr>\n",
       "    <tr>\n",
       "      <th>3</th>\n",
       "      <td>4</td>\n",
       "      <td>Mexico</td>\n",
       "      <td>3</td>\n",
       "      <td>MEX</td>\n",
       "      <td>1963</td>\n",
       "      <td>1963-01-01</td>\n",
       "      <td>1900</td>\n",
       "      <td>NaN</td>\n",
       "      <td>NaN</td>\n",
       "      <td>2014</td>\n",
       "      <td>...</td>\n",
       "      <td>0.461693</td>\n",
       "      <td>0.175715</td>\n",
       "      <td>0.681416</td>\n",
       "      <td>0.811379</td>\n",
       "      <td>0.524055</td>\n",
       "      <td>0.344214</td>\n",
       "      <td>0.417813</td>\n",
       "      <td>0.270614</td>\n",
       "      <td>0.555367</td>\n",
       "      <td>0.714971</td>\n",
       "    </tr>\n",
       "    <tr>\n",
       "      <th>4</th>\n",
       "      <td>5</td>\n",
       "      <td>Mexico</td>\n",
       "      <td>3</td>\n",
       "      <td>MEX</td>\n",
       "      <td>1964</td>\n",
       "      <td>1964-01-01</td>\n",
       "      <td>1900</td>\n",
       "      <td>NaN</td>\n",
       "      <td>NaN</td>\n",
       "      <td>2014</td>\n",
       "      <td>...</td>\n",
       "      <td>0.461693</td>\n",
       "      <td>0.175715</td>\n",
       "      <td>0.681416</td>\n",
       "      <td>0.811379</td>\n",
       "      <td>0.524055</td>\n",
       "      <td>0.356873</td>\n",
       "      <td>0.428861</td>\n",
       "      <td>0.284885</td>\n",
       "      <td>0.555367</td>\n",
       "      <td>0.714971</td>\n",
       "    </tr>\n",
       "  </tbody>\n",
       "</table>\n",
       "<p>5 rows × 100 columns</p>\n",
       "</div>"
      ],
      "text/plain": [
       "   X1 country_name  country_id country_text_id  year historical_date  \\\n",
       "0   1       Mexico           3             MEX  1960      1960-01-01   \n",
       "1   2       Mexico           3             MEX  1961      1961-01-01   \n",
       "2   3       Mexico           3             MEX  1962      1962-01-01   \n",
       "3   4       Mexico           3             MEX  1963      1963-01-01   \n",
       "4   5       Mexico           3             MEX  1964      1964-01-01   \n",
       "\n",
       "   codingstart  gapstart  gapend  codingend  ...  v2xcs_ccsi_codehigh  \\\n",
       "0         1900       NaN     NaN       2014  ...             0.451123   \n",
       "1         1900       NaN     NaN       2014  ...             0.461693   \n",
       "2         1900       NaN     NaN       2014  ...             0.461693   \n",
       "3         1900       NaN     NaN       2014  ...             0.461693   \n",
       "4         1900       NaN     NaN       2014  ...             0.461693   \n",
       "\n",
       "   v2xcs_ccsi_codelow  v2xps_party  v2xps_party_codehigh  v2xps_party_codelow  \\\n",
       "0            0.170201     0.681416              0.811379             0.524055   \n",
       "1            0.175715     0.681416              0.811379             0.524055   \n",
       "2            0.175715     0.681416              0.811379             0.524055   \n",
       "3            0.175715     0.681416              0.811379             0.524055   \n",
       "4            0.175715     0.681416              0.811379             0.524055   \n",
       "\n",
       "   v2x_gender  v2x_gender_codehigh  v2x_gender_codelow  v2x_gencl  \\\n",
       "0    0.347498             0.421270            0.273726   0.555367   \n",
       "1    0.344214             0.417813            0.270614   0.555367   \n",
       "2    0.344214             0.417813            0.270614   0.555367   \n",
       "3    0.344214             0.417813            0.270614   0.555367   \n",
       "4    0.356873             0.428861            0.284885   0.555367   \n",
       "\n",
       "   v2x_gencl_codehigh  \n",
       "0            0.714971  \n",
       "1            0.714971  \n",
       "2            0.714971  \n",
       "3            0.714971  \n",
       "4            0.714971  \n",
       "\n",
       "[5 rows x 100 columns]"
      ]
     },
     "execution_count": 79,
     "metadata": {},
     "output_type": "execute_result"
    }
   ],
   "source": [
    "# Load and inspect the democracy data\n",
    "VDem = pd.read_csv(VDem_url)\n",
    "VDem.head()"
   ]
  },
  {
   "cell_type": "code",
   "execution_count": 80,
   "metadata": {},
   "outputs": [
    {
     "data": {
      "text/plain": [
       "True"
      ]
     },
     "execution_count": 80,
     "metadata": {},
     "output_type": "execute_result"
    }
   ],
   "source": [
    "# Check if there are any `NaN` values after dropping \"Series Code\" -- turns out Yes!\n",
    "VDem.isnull().values.any()"
   ]
  },
  {
   "cell_type": "code",
   "execution_count": 67,
   "metadata": {},
   "outputs": [
    {
     "data": {
      "text/plain": [
       "Index(['X1', 'country_name', 'country_id', 'country_text_id', 'year',\n",
       "       'historical_date', 'codingstart', 'gapstart', 'gapend', 'codingend',\n",
       "       'COWcode', 'v2x_polyarchy', 'v2x_polyarchy_codehigh',\n",
       "       'v2x_polyarchy_codelow', 'v2x_api', 'v2x_api_codehigh',\n",
       "       'v2x_api_codelow', 'v2x_mpi', 'v2x_mpi_codehigh', 'v2x_mpi_codelow',\n",
       "       'v2x_EDcomp_thick', 'v2x_EDcomp_thick_codehigh',\n",
       "       'v2x_EDcomp_thick_codelow', 'v2x_libdem', 'v2x_libdem_codehigh',\n",
       "       'v2x_libdem_codelow', 'v2x_liberal', 'v2x_liberal_codehigh',\n",
       "       'v2x_liberal_codelow', 'v2x_partipdem', 'v2x_partipdem_codehigh',\n",
       "       'v2x_partipdem_codelow', 'v2x_partip', 'v2x_partip_codehigh',\n",
       "       'v2x_partip_codelow', 'v2x_delibdem', 'v2x_delibdem_codehigh',\n",
       "       'v2x_delibdem_codelow', 'v2xdl_delib', 'v2xdl_delib_codehigh',\n",
       "       'v2xdl_delib_codelow', 'v2x_egaldem', 'v2x_egaldem_codehigh',\n",
       "       'v2x_egaldem_codelow', 'v2x_egal', 'v2x_egal_codehigh',\n",
       "       'v2x_egal_codelow', 'v2x_frassoc_thick', 'v2x_frassoc_thick_codehigh',\n",
       "       'v2x_frassoc_thick_codelow', 'v2x_freexp_thick',\n",
       "       'v2x_freexp_thick_codehigh', 'v2x_freexp_thick_codelow', 'v2x_freexp',\n",
       "       'v2x_freexp_codehigh', 'v2x_freexp_codelow', 'v2xme_altinf',\n",
       "       'v2xme_altinf_codehigh', 'v2xme_altinf_codelow', 'v2x_suffr',\n",
       "       'v2xel_frefair', 'v2xel_frefair_codehigh', 'v2xel_frefair_codelow',\n",
       "       'v2x_accex', 'v2xcl_rol', 'v2xcl_rol_codehigh', 'v2xcl_rol_codelow',\n",
       "       'v2x_jucon', 'v2x_jucon_codehigh', 'v2x_jucon_codelow', 'v2xlg_legcon',\n",
       "       'v2xlg_legcon_codehigh', 'v2xlg_legcon_codelow', 'v2x_cspart',\n",
       "       'v2x_cspart_codehigh', 'v2x_cspart_codelow', 'v2xdd_dd',\n",
       "       'v2xel_locelec', 'v2xel_locelec_codehigh', 'v2xel_locelec_codelow',\n",
       "       'v2xel_regelec', 'v2xel_regelec_codehigh', 'v2xel_regelec_codelow',\n",
       "       'v2xeg_eqprotec', 'v2xeg_eqprotec_codehigh', 'v2xeg_eqprotec_codelow',\n",
       "       'v2xeg_eqdr', 'v2xeg_eqdr_codehigh', 'v2xeg_eqdr_codelow', 'v2xcs_ccsi',\n",
       "       'v2xcs_ccsi_codehigh', 'v2xcs_ccsi_codelow', 'v2xps_party',\n",
       "       'v2xps_party_codehigh', 'v2xps_party_codelow', 'v2x_gender',\n",
       "       'v2x_gender_codehigh', 'v2x_gender_codelow', 'v2x_gencl',\n",
       "       'v2x_gencl_codehigh'],\n",
       "      dtype='object')"
      ]
     },
     "execution_count": 67,
     "metadata": {},
     "output_type": "execute_result"
    }
   ],
   "source": [
    "# Check columns -- probably \"Country Name\" and \"year\" are of most importance\n",
    "VDem.columns"
   ]
  },
  {
   "cell_type": "code",
   "execution_count": 82,
   "metadata": {},
   "outputs": [
    {
     "data": {
      "text/plain": [
       "0"
      ]
     },
     "execution_count": 82,
     "metadata": {},
     "output_type": "execute_result"
    }
   ],
   "source": [
    "# Check if there are in missing values for countries -- 0 rows\n",
    "VDem['country_name'].isnull().sum()"
   ]
  },
  {
   "cell_type": "code",
   "execution_count": 83,
   "metadata": {},
   "outputs": [
    {
     "data": {
      "text/plain": [
       "0"
      ]
     },
     "execution_count": 83,
     "metadata": {},
     "output_type": "execute_result"
    }
   ],
   "source": [
    "# Check the year -- also 0, probably good to go for now...\n",
    "VDem['year'].isnull().sum()"
   ]
  },
  {
   "cell_type": "code",
   "execution_count": 84,
   "metadata": {},
   "outputs": [
    {
     "data": {
      "text/plain": [
       "8534"
      ]
     },
     "execution_count": 84,
     "metadata": {},
     "output_type": "execute_result"
    }
   ],
   "source": [
    "len(VDem)"
   ]
  },
  {
   "cell_type": "markdown",
   "metadata": {},
   "source": [
    "### Part b\n",
    "The UN data contain certain rows that refer to groups of countries instead of to individual countries. Here’s a list of these non-countries:"
   ]
  },
  {
   "cell_type": "code",
   "execution_count": 85,
   "metadata": {},
   "outputs": [],
   "source": [
    "noncountries = ['Arab World',  'Caribbean small states',  'Central Europe and the Baltics', \n",
    "    'Early-demographic dividend',  'East Asia & Pacific', 'East Asia & Pacific (excluding high income)', \n",
    "    'East Asia & Pacific (IDA & IBRD countries)', 'Euro area', 'Europe & Central Asia', \n",
    "    'Europe & Central Asia (excluding high income)', 'Europe & Central Asia (IDA & IBRD countries)', 'European Union', \n",
    "    'Fragile and conflict affected situations', 'Heavily indebted poor countries (HIPC)', \n",
    "    'High income', 'Late-demographic dividend', 'Latin America & Caribbean', \n",
    "    'Latin America & Caribbean (excluding high income)', \n",
    "    'Latin America & the Caribbean (IDA & IBRD countries)', 'Least developed countries: UN classification', \n",
    "    'Low & middle income', 'Low income', 'Lower middle income', \n",
    "    'Middle East & North Africa', 'Middle East & North Africa (excluding high income)',\n",
    "    'Middle East & North Africa (IDA & IBRD countries)', \n",
    "    'Middle income', 'North America', 'OECD members', \n",
    "    'Other small states', 'Pacific island small states', 'Post-demographic dividend', \n",
    "    'Pre-demographic dividend', 'Small states', 'South Asia', \n",
    "    'South Asia (IDA & IBRD)', 'Sub-Saharan Africa', 'Sub-Saharan Africa (excluding high income)', \n",
    "    'Sub-Saharan Africa (IDA & IBRD countries)', 'Upper middle income', 'World']\n",
    "\n",
    "\n"
   ]
  },
  {
   "cell_type": "markdown",
   "metadata": {},
   "source": [
    "We can use `.query()` to remove the non-countries from the data, but in this case there are complications due to the space in the name of the column `Country Name` and the use of an external list. So here let's use an alternative method:\n",
    "\n",
    "First, apply the `.isin(noncountries)` method to the `Country Name` column of the UN data to create a series of values that are `True` if the `Country Name` on a row is one of the non-countries, and `False` otherwise. Second, use the `~` operator to negate the logical values: turn `True` to `False` and vice versa. Finally, pass this logical series to the `.loc[]` attribute of the dataframe to drop the rows that refer to these noncountries from the UN data. (1 point)\n",
    "\n",
    "(If you wanted to use `.query()`, you would first need to rename `Country Name` to remove the space, then you can use an `@` in front of `noncountries` to refer to the external list. But for this problem follow the instructions listed above.)"
   ]
  },
  {
   "cell_type": "code",
   "execution_count": 310,
   "metadata": {},
   "outputs": [],
   "source": [
    "# Store the true countries together with all of the columns in \"uncountries\" dataframe\n",
    "uncountries = undata.loc[~undata['Country Name'].isin(noncountries)]"
   ]
  },
  {
   "cell_type": "code",
   "execution_count": 311,
   "metadata": {},
   "outputs": [
    {
     "data": {
      "text/plain": [
       "651"
      ]
     },
     "execution_count": 311,
     "metadata": {},
     "output_type": "execute_result"
    }
   ],
   "source": [
    "# Check the expected length\n",
    "len(uncountries)"
   ]
  },
  {
   "cell_type": "markdown",
   "metadata": {},
   "source": [
    "### Part c\n",
    "Reshape the UN data to move the years from the columns to the rows. (Once the years are in the rows, they will have values such as \"1960 [YR1960]\".) (2 points)"
   ]
  },
  {
   "cell_type": "code",
   "execution_count": 312,
   "metadata": {},
   "outputs": [
    {
     "data": {
      "text/plain": [
       "Index(['Series Name', 'Series Code', 'Country Name', 'Country Code',\n",
       "       '1960 [YR1960]', '1961 [YR1961]', '1962 [YR1962]', '1963 [YR1963]',\n",
       "       '1964 [YR1964]', '1965 [YR1965]', '1966 [YR1966]', '1967 [YR1967]',\n",
       "       '1968 [YR1968]', '1969 [YR1969]', '1970 [YR1970]', '1971 [YR1971]',\n",
       "       '1972 [YR1972]', '1973 [YR1973]', '1974 [YR1974]', '1975 [YR1975]',\n",
       "       '1976 [YR1976]', '1977 [YR1977]', '1978 [YR1978]', '1979 [YR1979]',\n",
       "       '1980 [YR1980]', '1981 [YR1981]', '1982 [YR1982]', '1983 [YR1983]',\n",
       "       '1984 [YR1984]', '1985 [YR1985]', '1986 [YR1986]', '1987 [YR1987]',\n",
       "       '1988 [YR1988]', '1989 [YR1989]', '1990 [YR1990]', '1991 [YR1991]',\n",
       "       '1992 [YR1992]', '1993 [YR1993]', '1994 [YR1994]', '1995 [YR1995]',\n",
       "       '1996 [YR1996]', '1997 [YR1997]', '1998 [YR1998]', '1999 [YR1999]',\n",
       "       '2000 [YR2000]', '2001 [YR2001]', '2002 [YR2002]', '2003 [YR2003]',\n",
       "       '2004 [YR2004]', '2005 [YR2005]', '2006 [YR2006]', '2007 [YR2007]',\n",
       "       '2008 [YR2008]', '2009 [YR2009]', '2010 [YR2010]', '2011 [YR2011]',\n",
       "       '2012 [YR2012]', '2013 [YR2013]', '2014 [YR2014]', '2015 [YR2015]',\n",
       "       'true_country'],\n",
       "      dtype='object')"
      ]
     },
     "execution_count": 312,
     "metadata": {},
     "output_type": "execute_result"
    }
   ],
   "source": [
    "uncountries.columns"
   ]
  },
  {
   "cell_type": "code",
   "execution_count": 313,
   "metadata": {},
   "outputs": [],
   "source": [
    "ids = ['Series Name', 'Series Code', 'Country Name', 'Country Code']\n",
    "\n",
    "values = ['1960 [YR1960]', '1961 [YR1961]', '1962 [YR1962]', '1963 [YR1963]',\n",
    "       '1964 [YR1964]', '1965 [YR1965]', '1966 [YR1966]', '1967 [YR1967]',\n",
    "       '1968 [YR1968]', '1969 [YR1969]', '1970 [YR1970]', '1971 [YR1971]',\n",
    "       '1972 [YR1972]', '1973 [YR1973]', '1974 [YR1974]', '1975 [YR1975]',\n",
    "       '1976 [YR1976]', '1977 [YR1977]', '1978 [YR1978]', '1979 [YR1979]',\n",
    "       '1980 [YR1980]', '1981 [YR1981]', '1982 [YR1982]', '1983 [YR1983]',\n",
    "       '1984 [YR1984]', '1985 [YR1985]', '1986 [YR1986]', '1987 [YR1987]',\n",
    "       '1988 [YR1988]', '1989 [YR1989]', '1990 [YR1990]', '1991 [YR1991]',\n",
    "       '1992 [YR1992]', '1993 [YR1993]', '1994 [YR1994]', '1995 [YR1995]',\n",
    "       '1996 [YR1996]', '1997 [YR1997]', '1998 [YR1998]', '1999 [YR1999]',\n",
    "       '2000 [YR2000]', '2001 [YR2001]', '2002 [YR2002]', '2003 [YR2003]',\n",
    "       '2004 [YR2004]', '2005 [YR2005]', '2006 [YR2006]', '2007 [YR2007]',\n",
    "       '2008 [YR2008]', '2009 [YR2009]', '2010 [YR2010]', '2011 [YR2011]',\n",
    "       '2012 [YR2012]', '2013 [YR2013]', '2014 [YR2014]', '2015 [YR2015]'\n",
    "]\n",
    "\n",
    "\n",
    "uncountries = pd.melt(uncountries, id_vars=ids, value_vars=values)"
   ]
  },
  {
   "cell_type": "code",
   "execution_count": 314,
   "metadata": {},
   "outputs": [
    {
     "data": {
      "text/html": [
       "<div>\n",
       "<style scoped>\n",
       "    .dataframe tbody tr th:only-of-type {\n",
       "        vertical-align: middle;\n",
       "    }\n",
       "\n",
       "    .dataframe tbody tr th {\n",
       "        vertical-align: top;\n",
       "    }\n",
       "\n",
       "    .dataframe thead th {\n",
       "        text-align: right;\n",
       "    }\n",
       "</style>\n",
       "<table border=\"1\" class=\"dataframe\">\n",
       "  <thead>\n",
       "    <tr style=\"text-align: right;\">\n",
       "      <th></th>\n",
       "      <th>Series Name</th>\n",
       "      <th>Series Code</th>\n",
       "      <th>Country Name</th>\n",
       "      <th>Country Code</th>\n",
       "      <th>variable</th>\n",
       "      <th>value</th>\n",
       "    </tr>\n",
       "  </thead>\n",
       "  <tbody>\n",
       "    <tr>\n",
       "      <th>0</th>\n",
       "      <td>Physicians (per 1,000 people)</td>\n",
       "      <td>SH.MED.PHYS.ZS</td>\n",
       "      <td>Afghanistan</td>\n",
       "      <td>AFG</td>\n",
       "      <td>1960 [YR1960]</td>\n",
       "      <td>0.0348442494869232</td>\n",
       "    </tr>\n",
       "    <tr>\n",
       "      <th>1</th>\n",
       "      <td>Physicians (per 1,000 people)</td>\n",
       "      <td>SH.MED.PHYS.ZS</td>\n",
       "      <td>Albania</td>\n",
       "      <td>ALB</td>\n",
       "      <td>1960 [YR1960]</td>\n",
       "      <td>0.276291221380234</td>\n",
       "    </tr>\n",
       "    <tr>\n",
       "      <th>2</th>\n",
       "      <td>Physicians (per 1,000 people)</td>\n",
       "      <td>SH.MED.PHYS.ZS</td>\n",
       "      <td>Algeria</td>\n",
       "      <td>DZA</td>\n",
       "      <td>1960 [YR1960]</td>\n",
       "      <td>0.173148155212402</td>\n",
       "    </tr>\n",
       "    <tr>\n",
       "      <th>3</th>\n",
       "      <td>Physicians (per 1,000 people)</td>\n",
       "      <td>SH.MED.PHYS.ZS</td>\n",
       "      <td>American Samoa</td>\n",
       "      <td>ASM</td>\n",
       "      <td>1960 [YR1960]</td>\n",
       "      <td>..</td>\n",
       "    </tr>\n",
       "    <tr>\n",
       "      <th>4</th>\n",
       "      <td>Physicians (per 1,000 people)</td>\n",
       "      <td>SH.MED.PHYS.ZS</td>\n",
       "      <td>Andorra</td>\n",
       "      <td>ADO</td>\n",
       "      <td>1960 [YR1960]</td>\n",
       "      <td>..</td>\n",
       "    </tr>\n",
       "  </tbody>\n",
       "</table>\n",
       "</div>"
      ],
      "text/plain": [
       "                     Series Name     Series Code    Country Name Country Code  \\\n",
       "0  Physicians (per 1,000 people)  SH.MED.PHYS.ZS     Afghanistan          AFG   \n",
       "1  Physicians (per 1,000 people)  SH.MED.PHYS.ZS         Albania          ALB   \n",
       "2  Physicians (per 1,000 people)  SH.MED.PHYS.ZS         Algeria          DZA   \n",
       "3  Physicians (per 1,000 people)  SH.MED.PHYS.ZS  American Samoa          ASM   \n",
       "4  Physicians (per 1,000 people)  SH.MED.PHYS.ZS         Andorra          ADO   \n",
       "\n",
       "        variable               value  \n",
       "0  1960 [YR1960]  0.0348442494869232  \n",
       "1  1960 [YR1960]   0.276291221380234  \n",
       "2  1960 [YR1960]   0.173148155212402  \n",
       "3  1960 [YR1960]                  ..  \n",
       "4  1960 [YR1960]                  ..  "
      ]
     },
     "execution_count": 314,
     "metadata": {},
     "output_type": "execute_result"
    }
   ],
   "source": [
    "uncountries.head()"
   ]
  },
  {
   "cell_type": "code",
   "execution_count": null,
   "metadata": {},
   "outputs": [],
   "source": []
  },
  {
   "cell_type": "markdown",
   "metadata": {},
   "source": [
    "### Part d\n",
    "Rename the `variable` column to `year`. Then use string methods to remove the ends such as \"[YR1960]\" from the values of the new `year` column and convert the column to an integer data type.\n",
    "\n",
    "Also, for whatever reason, real world data often contains multiple variables that are just different representations of the same information. In this case, the `Series Name` and `Series Code` variables tell us exactly the same thing, and the `Country Name` and `Country Code` variables tell us exactly the same thing. Unless I have a very good reason to keep both, I generally prefer to drop variables that are redundant and coded in a less helpful way. So drop `Series Code` and `Country Code`. (2 points)"
   ]
  },
  {
   "cell_type": "code",
   "execution_count": 315,
   "metadata": {},
   "outputs": [],
   "source": [
    "# Rename columns name\n",
    "uncountries = uncountries.rename(columns={'variable':'year'})"
   ]
  },
  {
   "cell_type": "code",
   "execution_count": 316,
   "metadata": {},
   "outputs": [],
   "source": [
    "# Drop all but keep the first 4 characters\n",
    "uncountries['year'] = uncountries['year'].str[:4]"
   ]
  },
  {
   "cell_type": "code",
   "execution_count": 317,
   "metadata": {},
   "outputs": [
    {
     "name": "stdout",
     "output_type": "stream",
     "text": [
      "<class 'pandas.core.frame.DataFrame'>\n",
      "RangeIndex: 36456 entries, 0 to 36455\n",
      "Data columns (total 6 columns):\n",
      " #   Column        Non-Null Count  Dtype \n",
      "---  ------        --------------  ----- \n",
      " 0   Series Name   36456 non-null  object\n",
      " 1   Series Code   36456 non-null  object\n",
      " 2   Country Name  36456 non-null  object\n",
      " 3   Country Code  36456 non-null  object\n",
      " 4   year          36456 non-null  int64 \n",
      " 5   value         36456 non-null  object\n",
      "dtypes: int64(1), object(5)\n",
      "memory usage: 1.7+ MB\n"
     ]
    }
   ],
   "source": [
    "# Change type to int\n",
    "uncountries['year'] = uncountries['year'].astype('int')\n",
    "uncountries.info()"
   ]
  },
  {
   "cell_type": "markdown",
   "metadata": {},
   "source": [
    "### Part e\n",
    "Reshape the data to move the values of `Series Name` to separate columns. Make sure all of the columns exist in the dataframe after reshaping and are not stored in a row index or multi-index. Then rename the columns so that all of the columns have concise and descriptive names. (2 points)"
   ]
  },
  {
   "cell_type": "code",
   "execution_count": 318,
   "metadata": {},
   "outputs": [
    {
     "data": {
      "text/plain": [
       "array(['Physicians (per 1,000 people)',\n",
       "       'Prevalence of undernourishment (% of population)',\n",
       "       'Health expenditure per capita (current US$)'], dtype=object)"
      ]
     },
     "execution_count": 318,
     "metadata": {},
     "output_type": "execute_result"
    }
   ],
   "source": [
    "# Check the names of the series that are in \"Series Name\" columns\n",
    "uncountries['Series Name'].unique()"
   ]
  },
  {
   "cell_type": "code",
   "execution_count": 319,
   "metadata": {},
   "outputs": [],
   "source": [
    "# Create a list of better (shorter) names\n",
    "better_names = {'Physicians (per 1,000 people)':'docs_per_thousand',\n",
    "       'Prevalence of undernourishment (% of population)': 'undernourishment_percent',\n",
    "       'Health expenditure per capita (current US$)': 'health_expenditure'\n",
    "               }"
   ]
  },
  {
   "cell_type": "code",
   "execution_count": 320,
   "metadata": {},
   "outputs": [],
   "source": [
    "# Replace\n",
    "uncountries.replace({'Series Name': better_names}, inplace=True)"
   ]
  },
  {
   "cell_type": "code",
   "execution_count": 321,
   "metadata": {},
   "outputs": [
    {
     "data": {
      "text/plain": [
       "array(['docs_per_thousand', 'undernourishment_percent',\n",
       "       'health_expenditure'], dtype=object)"
      ]
     },
     "execution_count": 321,
     "metadata": {},
     "output_type": "execute_result"
    }
   ],
   "source": [
    "# Check the result\n",
    "uncountries['Series Name'].unique()"
   ]
  },
  {
   "cell_type": "code",
   "execution_count": 322,
   "metadata": {},
   "outputs": [],
   "source": [
    "# Perform pivot on \"Series name\" column as it has 3 different features\n",
    "uncountries = uncountries.pivot_table(index=['Country Name','year'],\n",
    "                                      columns='Series Name',\n",
    "                                      values='value', \n",
    "                                      aggfunc='first').reset_index()\n"
   ]
  },
  {
   "cell_type": "code",
   "execution_count": 323,
   "metadata": {},
   "outputs": [
    {
     "data": {
      "text/html": [
       "<div>\n",
       "<style scoped>\n",
       "    .dataframe tbody tr th:only-of-type {\n",
       "        vertical-align: middle;\n",
       "    }\n",
       "\n",
       "    .dataframe tbody tr th {\n",
       "        vertical-align: top;\n",
       "    }\n",
       "\n",
       "    .dataframe thead th {\n",
       "        text-align: right;\n",
       "    }\n",
       "</style>\n",
       "<table border=\"1\" class=\"dataframe\">\n",
       "  <thead>\n",
       "    <tr style=\"text-align: right;\">\n",
       "      <th>Series Name</th>\n",
       "      <th>Country Name</th>\n",
       "      <th>year</th>\n",
       "      <th>docs_per_thousand</th>\n",
       "      <th>health_expenditure</th>\n",
       "      <th>undernourishment_percent</th>\n",
       "    </tr>\n",
       "  </thead>\n",
       "  <tbody>\n",
       "    <tr>\n",
       "      <th>0</th>\n",
       "      <td>Afghanistan</td>\n",
       "      <td>1960</td>\n",
       "      <td>0.0348442494869232</td>\n",
       "      <td>..</td>\n",
       "      <td>..</td>\n",
       "    </tr>\n",
       "    <tr>\n",
       "      <th>1</th>\n",
       "      <td>Afghanistan</td>\n",
       "      <td>1961</td>\n",
       "      <td>..</td>\n",
       "      <td>..</td>\n",
       "      <td>..</td>\n",
       "    </tr>\n",
       "    <tr>\n",
       "      <th>2</th>\n",
       "      <td>Afghanistan</td>\n",
       "      <td>1962</td>\n",
       "      <td>..</td>\n",
       "      <td>..</td>\n",
       "      <td>..</td>\n",
       "    </tr>\n",
       "    <tr>\n",
       "      <th>3</th>\n",
       "      <td>Afghanistan</td>\n",
       "      <td>1963</td>\n",
       "      <td>..</td>\n",
       "      <td>..</td>\n",
       "      <td>..</td>\n",
       "    </tr>\n",
       "    <tr>\n",
       "      <th>4</th>\n",
       "      <td>Afghanistan</td>\n",
       "      <td>1964</td>\n",
       "      <td>..</td>\n",
       "      <td>..</td>\n",
       "      <td>..</td>\n",
       "    </tr>\n",
       "  </tbody>\n",
       "</table>\n",
       "</div>"
      ],
      "text/plain": [
       "Series Name Country Name  year   docs_per_thousand health_expenditure  \\\n",
       "0            Afghanistan  1960  0.0348442494869232                 ..   \n",
       "1            Afghanistan  1961                  ..                 ..   \n",
       "2            Afghanistan  1962                  ..                 ..   \n",
       "3            Afghanistan  1963                  ..                 ..   \n",
       "4            Afghanistan  1964                  ..                 ..   \n",
       "\n",
       "Series Name undernourishment_percent  \n",
       "0                                 ..  \n",
       "1                                 ..  \n",
       "2                                 ..  \n",
       "3                                 ..  \n",
       "4                                 ..  "
      ]
     },
     "execution_count": 323,
     "metadata": {},
     "output_type": "execute_result"
    }
   ],
   "source": [
    "# Check the resultant dataframe -- there are many missing values\n",
    "uncountries.head()"
   ]
  },
  {
   "cell_type": "code",
   "execution_count": 324,
   "metadata": {},
   "outputs": [
    {
     "data": {
      "text/html": [
       "<div>\n",
       "<style scoped>\n",
       "    .dataframe tbody tr th:only-of-type {\n",
       "        vertical-align: middle;\n",
       "    }\n",
       "\n",
       "    .dataframe tbody tr th {\n",
       "        vertical-align: top;\n",
       "    }\n",
       "\n",
       "    .dataframe thead th {\n",
       "        text-align: right;\n",
       "    }\n",
       "</style>\n",
       "<table border=\"1\" class=\"dataframe\">\n",
       "  <thead>\n",
       "    <tr style=\"text-align: right;\">\n",
       "      <th>Series Name</th>\n",
       "      <th>Country Name</th>\n",
       "      <th>year</th>\n",
       "      <th>docs_per_thousand</th>\n",
       "      <th>health_expenditure</th>\n",
       "      <th>undernourishment_percent</th>\n",
       "    </tr>\n",
       "  </thead>\n",
       "  <tbody>\n",
       "    <tr>\n",
       "      <th>12147</th>\n",
       "      <td>Zimbabwe</td>\n",
       "      <td>2011</td>\n",
       "      <td>0.083</td>\n",
       "      <td>48.46958014</td>\n",
       "      <td>33.5</td>\n",
       "    </tr>\n",
       "    <tr>\n",
       "      <th>12148</th>\n",
       "      <td>Zimbabwe</td>\n",
       "      <td>2012</td>\n",
       "      <td>..</td>\n",
       "      <td>57.25376348</td>\n",
       "      <td>33.2</td>\n",
       "    </tr>\n",
       "    <tr>\n",
       "      <th>12149</th>\n",
       "      <td>Zimbabwe</td>\n",
       "      <td>2013</td>\n",
       "      <td>..</td>\n",
       "      <td>62.30922835</td>\n",
       "      <td>33.5</td>\n",
       "    </tr>\n",
       "    <tr>\n",
       "      <th>12150</th>\n",
       "      <td>Zimbabwe</td>\n",
       "      <td>2014</td>\n",
       "      <td>..</td>\n",
       "      <td>57.71045218</td>\n",
       "      <td>34</td>\n",
       "    </tr>\n",
       "    <tr>\n",
       "      <th>12151</th>\n",
       "      <td>Zimbabwe</td>\n",
       "      <td>2015</td>\n",
       "      <td>..</td>\n",
       "      <td>..</td>\n",
       "      <td>33.4</td>\n",
       "    </tr>\n",
       "  </tbody>\n",
       "</table>\n",
       "</div>"
      ],
      "text/plain": [
       "Series Name Country Name  year docs_per_thousand health_expenditure  \\\n",
       "12147           Zimbabwe  2011             0.083        48.46958014   \n",
       "12148           Zimbabwe  2012                ..        57.25376348   \n",
       "12149           Zimbabwe  2013                ..        62.30922835   \n",
       "12150           Zimbabwe  2014                ..        57.71045218   \n",
       "12151           Zimbabwe  2015                ..                 ..   \n",
       "\n",
       "Series Name undernourishment_percent  \n",
       "12147                           33.5  \n",
       "12148                           33.2  \n",
       "12149                           33.5  \n",
       "12150                             34  \n",
       "12151                           33.4  "
      ]
     },
     "execution_count": 324,
     "metadata": {},
     "output_type": "execute_result"
    }
   ],
   "source": [
    "uncountries.tail()"
   ]
  },
  {
   "cell_type": "code",
   "execution_count": null,
   "metadata": {},
   "outputs": [],
   "source": [
    "uncountries.rename_axis('index')"
   ]
  },
  {
   "cell_type": "markdown",
   "metadata": {},
   "source": [
    "### Part f\n",
    "Next we are going to join the cleaned UN data with the VDem data. In a perfect world, both datasets would include a shared numeric country ID field that we can use to match countries in one dataset to countries in the other. Unfortunately the UN data identifies the countries only by name. Worse still, while there is a big overlap the two datasets cover different sets of countries.\n",
    "\n",
    "First decide whether this merge is a one-to-one, one-to-many, many-to-one, or many-to-many merge and describe your rationale in words.\n",
    "\n",
    "Then perform a test merge that checks whether your expectation that the merge is one-to-one, one-to-many, many-to-one, or many-to-many is confirmed, and reports whether each row is matched, appears only in the UN data, or appears only in the VDem data. Use the `.unique()` or `.value_counts()` method to display the names of the countries that are not matched. (2 points)"
   ]
  },
  {
   "cell_type": "code",
   "execution_count": 348,
   "metadata": {},
   "outputs": [
    {
     "data": {
      "text/plain": [
       "172"
      ]
     },
     "execution_count": 348,
     "metadata": {},
     "output_type": "execute_result"
    }
   ],
   "source": [
    "len(VDem.country_name.unique())"
   ]
  },
  {
   "cell_type": "code",
   "execution_count": 349,
   "metadata": {},
   "outputs": [
    {
     "data": {
      "text/plain": [
       "217"
      ]
     },
     "execution_count": 349,
     "metadata": {},
     "output_type": "execute_result"
    }
   ],
   "source": [
    "len(uncountries['Country Name'].unique())"
   ]
  },
  {
   "cell_type": "markdown",
   "metadata": {},
   "source": [
    "## Answer\n",
    "#### As shown above, `VDem` has much less unique countries than the `UN` dataset, so probably one should try to do left-join on the `UN` dataset first of all. Given that every instance will be identified by \"country_name\" and \"year\", ideally this should be done as one-to-one match. It is expected however that there will be a lot of \"unmatched\" instances as controlled by `matched` indicator."
   ]
  },
  {
   "cell_type": "code",
   "execution_count": 351,
   "metadata": {},
   "outputs": [
    {
     "data": {
      "text/html": [
       "<div>\n",
       "<style scoped>\n",
       "    .dataframe tbody tr th:only-of-type {\n",
       "        vertical-align: middle;\n",
       "    }\n",
       "\n",
       "    .dataframe tbody tr th {\n",
       "        vertical-align: top;\n",
       "    }\n",
       "\n",
       "    .dataframe thead th {\n",
       "        text-align: right;\n",
       "    }\n",
       "</style>\n",
       "<table border=\"1\" class=\"dataframe\">\n",
       "  <thead>\n",
       "    <tr style=\"text-align: right;\">\n",
       "      <th></th>\n",
       "      <th>Country Name</th>\n",
       "      <th>year</th>\n",
       "      <th>docs_per_thousand</th>\n",
       "      <th>health_expenditure</th>\n",
       "      <th>undernourishment_percent</th>\n",
       "      <th>X1</th>\n",
       "      <th>country_name</th>\n",
       "      <th>country_id</th>\n",
       "      <th>country_text_id</th>\n",
       "      <th>historical_date</th>\n",
       "      <th>...</th>\n",
       "      <th>v2xcs_ccsi_codelow</th>\n",
       "      <th>v2xps_party</th>\n",
       "      <th>v2xps_party_codehigh</th>\n",
       "      <th>v2xps_party_codelow</th>\n",
       "      <th>v2x_gender</th>\n",
       "      <th>v2x_gender_codehigh</th>\n",
       "      <th>v2x_gender_codelow</th>\n",
       "      <th>v2x_gencl</th>\n",
       "      <th>v2x_gencl_codehigh</th>\n",
       "      <th>matched</th>\n",
       "    </tr>\n",
       "  </thead>\n",
       "  <tbody>\n",
       "    <tr>\n",
       "      <th>0</th>\n",
       "      <td>Afghanistan</td>\n",
       "      <td>1960</td>\n",
       "      <td>0.0348442494869232</td>\n",
       "      <td>..</td>\n",
       "      <td>..</td>\n",
       "      <td>1583.0</td>\n",
       "      <td>Afghanistan</td>\n",
       "      <td>36.0</td>\n",
       "      <td>AFG</td>\n",
       "      <td>1960-01-01</td>\n",
       "      <td>...</td>\n",
       "      <td>0.143550</td>\n",
       "      <td>0.074516</td>\n",
       "      <td>0.162687</td>\n",
       "      <td>0.028557</td>\n",
       "      <td>0.181335</td>\n",
       "      <td>0.232855</td>\n",
       "      <td>0.129815</td>\n",
       "      <td>0.172381</td>\n",
       "      <td>0.301402</td>\n",
       "      <td>both</td>\n",
       "    </tr>\n",
       "    <tr>\n",
       "      <th>1</th>\n",
       "      <td>Afghanistan</td>\n",
       "      <td>1961</td>\n",
       "      <td>..</td>\n",
       "      <td>..</td>\n",
       "      <td>..</td>\n",
       "      <td>1584.0</td>\n",
       "      <td>Afghanistan</td>\n",
       "      <td>36.0</td>\n",
       "      <td>AFG</td>\n",
       "      <td>1961-01-01</td>\n",
       "      <td>...</td>\n",
       "      <td>0.160458</td>\n",
       "      <td>0.074516</td>\n",
       "      <td>0.162687</td>\n",
       "      <td>0.028557</td>\n",
       "      <td>0.181335</td>\n",
       "      <td>0.232855</td>\n",
       "      <td>0.129815</td>\n",
       "      <td>0.172381</td>\n",
       "      <td>0.301402</td>\n",
       "      <td>both</td>\n",
       "    </tr>\n",
       "    <tr>\n",
       "      <th>2</th>\n",
       "      <td>Afghanistan</td>\n",
       "      <td>1962</td>\n",
       "      <td>..</td>\n",
       "      <td>..</td>\n",
       "      <td>..</td>\n",
       "      <td>1585.0</td>\n",
       "      <td>Afghanistan</td>\n",
       "      <td>36.0</td>\n",
       "      <td>AFG</td>\n",
       "      <td>1962-01-01</td>\n",
       "      <td>...</td>\n",
       "      <td>0.160458</td>\n",
       "      <td>0.074516</td>\n",
       "      <td>0.162687</td>\n",
       "      <td>0.028557</td>\n",
       "      <td>0.181335</td>\n",
       "      <td>0.232855</td>\n",
       "      <td>0.129815</td>\n",
       "      <td>0.172381</td>\n",
       "      <td>0.301402</td>\n",
       "      <td>both</td>\n",
       "    </tr>\n",
       "    <tr>\n",
       "      <th>3</th>\n",
       "      <td>Afghanistan</td>\n",
       "      <td>1963</td>\n",
       "      <td>..</td>\n",
       "      <td>..</td>\n",
       "      <td>..</td>\n",
       "      <td>1586.0</td>\n",
       "      <td>Afghanistan</td>\n",
       "      <td>36.0</td>\n",
       "      <td>AFG</td>\n",
       "      <td>1963-01-01</td>\n",
       "      <td>...</td>\n",
       "      <td>0.140015</td>\n",
       "      <td>0.111794</td>\n",
       "      <td>0.212807</td>\n",
       "      <td>0.050778</td>\n",
       "      <td>0.181335</td>\n",
       "      <td>0.232855</td>\n",
       "      <td>0.129815</td>\n",
       "      <td>0.172381</td>\n",
       "      <td>0.301402</td>\n",
       "      <td>both</td>\n",
       "    </tr>\n",
       "    <tr>\n",
       "      <th>4</th>\n",
       "      <td>Afghanistan</td>\n",
       "      <td>1964</td>\n",
       "      <td>..</td>\n",
       "      <td>..</td>\n",
       "      <td>..</td>\n",
       "      <td>1587.0</td>\n",
       "      <td>Afghanistan</td>\n",
       "      <td>36.0</td>\n",
       "      <td>AFG</td>\n",
       "      <td>1964-01-01</td>\n",
       "      <td>...</td>\n",
       "      <td>0.229685</td>\n",
       "      <td>0.177830</td>\n",
       "      <td>0.304231</td>\n",
       "      <td>0.090927</td>\n",
       "      <td>0.174778</td>\n",
       "      <td>0.232559</td>\n",
       "      <td>0.116997</td>\n",
       "      <td>0.167323</td>\n",
       "      <td>0.300779</td>\n",
       "      <td>both</td>\n",
       "    </tr>\n",
       "  </tbody>\n",
       "</table>\n",
       "<p>5 rows × 105 columns</p>\n",
       "</div>"
      ],
      "text/plain": [
       "  Country Name  year   docs_per_thousand health_expenditure  \\\n",
       "0  Afghanistan  1960  0.0348442494869232                 ..   \n",
       "1  Afghanistan  1961                  ..                 ..   \n",
       "2  Afghanistan  1962                  ..                 ..   \n",
       "3  Afghanistan  1963                  ..                 ..   \n",
       "4  Afghanistan  1964                  ..                 ..   \n",
       "\n",
       "  undernourishment_percent      X1 country_name  country_id country_text_id  \\\n",
       "0                       ..  1583.0  Afghanistan        36.0             AFG   \n",
       "1                       ..  1584.0  Afghanistan        36.0             AFG   \n",
       "2                       ..  1585.0  Afghanistan        36.0             AFG   \n",
       "3                       ..  1586.0  Afghanistan        36.0             AFG   \n",
       "4                       ..  1587.0  Afghanistan        36.0             AFG   \n",
       "\n",
       "  historical_date  ...  v2xcs_ccsi_codelow  v2xps_party  v2xps_party_codehigh  \\\n",
       "0      1960-01-01  ...            0.143550     0.074516              0.162687   \n",
       "1      1961-01-01  ...            0.160458     0.074516              0.162687   \n",
       "2      1962-01-01  ...            0.160458     0.074516              0.162687   \n",
       "3      1963-01-01  ...            0.140015     0.111794              0.212807   \n",
       "4      1964-01-01  ...            0.229685     0.177830              0.304231   \n",
       "\n",
       "   v2xps_party_codelow  v2x_gender  v2x_gender_codehigh  v2x_gender_codelow  \\\n",
       "0             0.028557    0.181335             0.232855            0.129815   \n",
       "1             0.028557    0.181335             0.232855            0.129815   \n",
       "2             0.028557    0.181335             0.232855            0.129815   \n",
       "3             0.050778    0.181335             0.232855            0.129815   \n",
       "4             0.090927    0.174778             0.232559            0.116997   \n",
       "\n",
       "   v2x_gencl  v2x_gencl_codehigh  matched  \n",
       "0   0.172381            0.301402     both  \n",
       "1   0.172381            0.301402     both  \n",
       "2   0.172381            0.301402     both  \n",
       "3   0.172381            0.301402     both  \n",
       "4   0.167323            0.300779     both  \n",
       "\n",
       "[5 rows x 105 columns]"
      ]
     },
     "execution_count": 351,
     "metadata": {},
     "output_type": "execute_result"
    }
   ],
   "source": [
    "# Perform left-join on countries and years, check with indicator:\n",
    "merged_data = pd.merge(uncountries, \n",
    "                       VDem, \n",
    "                       how='left', \n",
    "                       left_on=['Country Name', 'year'], \n",
    "                       right_on=['country_name', 'year'],\n",
    "                       indicator='matched')\n",
    "merged_data.head()"
   ]
  },
  {
   "cell_type": "code",
   "execution_count": 357,
   "metadata": {},
   "outputs": [
    {
     "data": {
      "text/plain": [
       "['both', 'left_only']\n",
       "Categories (3, object): ['left_only', 'right_only', 'both']"
      ]
     },
     "execution_count": 357,
     "metadata": {},
     "output_type": "execute_result"
    }
   ],
   "source": [
    "merged_data.matched.unique()"
   ]
  },
  {
   "cell_type": "code",
   "execution_count": 356,
   "metadata": {},
   "outputs": [
    {
     "data": {
      "text/plain": [
       "0.6023699802501645"
      ]
     },
     "execution_count": 356,
     "metadata": {},
     "output_type": "execute_result"
    }
   ],
   "source": [
    "# Only 60% are properly matched\n",
    "len(merged_data.loc[merged_data.matched=='both'])/len(merged_data)"
   ]
  },
  {
   "cell_type": "code",
   "execution_count": 363,
   "metadata": {},
   "outputs": [
    {
     "data": {
      "text/plain": [
       "array(['Albania', 'American Samoa', 'Andorra', 'Angola',\n",
       "       'Antigua and Barbuda', 'Armenia', 'Aruba', 'Australia', 'Austria',\n",
       "       'Azerbaijan', 'Bahamas, The', 'Bahrain', 'Bangladesh', 'Barbados',\n",
       "       'Belarus', 'Belgium', 'Belize', 'Bermuda',\n",
       "       'Bosnia and Herzegovina', 'Botswana', 'British Virgin Islands',\n",
       "       'Brunei Darussalam', 'Bulgaria', 'Cabo Verde', 'Cameroon',\n",
       "       'Canada', 'Cayman Islands', 'Central African Republic', 'Chad',\n",
       "       'Channel Islands', 'Chile', 'China', 'Comoros', 'Congo, Dem. Rep.',\n",
       "       'Congo, Rep.', \"Cote d'Ivoire\", 'Croatia', 'Curacao', 'Cyprus',\n",
       "       'Czech Republic', 'Denmark', 'Djibouti', 'Dominica',\n",
       "       'Dominican Republic', 'Ecuador', 'Egypt, Arab Rep.',\n",
       "       'Equatorial Guinea', 'Estonia', 'Faroe Islands', 'Finland',\n",
       "       'France', 'French Polynesia', 'Gabon', 'Gambia, The', 'Georgia',\n",
       "       'Germany', 'Gibraltar', 'Greece', 'Greenland', 'Grenada', 'Guam',\n",
       "       'Guatemala', 'Guinea', 'Guinea-Bissau', 'Haiti', 'Honduras',\n",
       "       'Hong Kong SAR, China', 'Hungary', 'Iceland', 'India', 'Indonesia',\n",
       "       'Iran, Islamic Rep.', 'Ireland', 'Isle of Man', 'Israel', 'Italy',\n",
       "       'Jamaica', 'Japan', 'Kazakhstan', 'Kiribati',\n",
       "       'Korea, Dem. People’s Rep.', 'Korea, Rep.', 'Kosovo', 'Kuwait',\n",
       "       'Kyrgyz Republic', 'Lao PDR', 'Latvia', 'Lesotho', 'Liberia',\n",
       "       'Libya', 'Liechtenstein', 'Lithuania', 'Luxembourg',\n",
       "       'Macao SAR, China', 'Macedonia, FYR', 'Madagascar', 'Malaysia',\n",
       "       'Mali', 'Malta', 'Marshall Islands', 'Mauritania', 'Mauritius',\n",
       "       'Mexico', 'Micronesia, Fed. Sts.', 'Moldova', 'Monaco',\n",
       "       'Montenegro', 'Myanmar', 'Namibia', 'Nauru', 'Netherlands',\n",
       "       'New Caledonia', 'New Zealand', 'Nicaragua', 'Niger',\n",
       "       'Northern Mariana Islands', 'Norway', 'Oman', 'Pakistan', 'Palau',\n",
       "       'Panama', 'Papua New Guinea', 'Peru', 'Puerto Rico',\n",
       "       'Russian Federation', 'Samoa', 'San Marino',\n",
       "       'Sao Tome and Principe', 'Saudi Arabia', 'Senegal', 'Serbia',\n",
       "       'Seychelles', 'Sierra Leone', 'Singapore',\n",
       "       'Sint Maarten (Dutch part)', 'Slovak Republic', 'Slovenia',\n",
       "       'South Africa', 'South Sudan', 'Spain', 'Sri Lanka',\n",
       "       'St. Kitts and Nevis', 'St. Lucia', 'St. Martin (French part)',\n",
       "       'St. Vincent and the Grenadines', 'Swaziland', 'Sweden',\n",
       "       'Switzerland', 'Syrian Arab Republic', 'Tajikistan', 'Timor-Leste',\n",
       "       'Togo', 'Tonga', 'Trinidad and Tobago', 'Turkmenistan',\n",
       "       'Turks and Caicos Islands', 'Tuvalu', 'Ukraine',\n",
       "       'United Arab Emirates', 'United Kingdom', 'Uruguay', 'Uzbekistan',\n",
       "       'Vanuatu', 'Venezuela, RB', 'Vietnam', 'Virgin Islands (U.S.)',\n",
       "       'West Bank and Gaza', 'Yemen, Rep.'], dtype=object)"
      ]
     },
     "execution_count": 363,
     "metadata": {},
     "output_type": "execute_result"
    }
   ],
   "source": [
    "# There are many unmatched rows associated with the following contries below:\n",
    "merged_data.loc[merged_data.matched!='both']['Country Name'].unique()"
   ]
  },
  {
   "cell_type": "markdown",
   "metadata": {},
   "source": [
    "### Part g\n",
    "There are many unmatched rows in this merge. There are three reasons why rows failed to match:\n",
    "* Differences in geographical coverage: for example, the VDem data includes Taiwan, but the UN data does not\n",
    "* Differences in time coverage: for example, the UN data includes records for France every year from 1970 through 2014, and VDem includes rows for France from 1960 to 2012, leaving 12 rows for France without matching years\n",
    "* Differences in spelling: for example, South Korea is called \"Korea, Rep.\" in the UN data and \"Korea_South\" in the VDem data.\n",
    "\n",
    "We can't do anything about differences in geographic or temporal coverage. But we can recode some country names to account for differences in spelling and to match more rows that should match. Here is a list of differently spelled countries:\n",
    "\n",
    "* \"Burma_Myanmar\" in VDem is \"Myanmar\" in the UN data\n",
    "* \"Cape Verde\" in VDem is \"Cabo Verde\" in the UN data\n",
    "* \"Congo_Democratic Republic of\" in VDem is \"Congo, Dem. Rep.\" in the UN data\n",
    "* \"Congo_Republic of the\" in VDem is \"Congo, Rep.\" in the UN data\n",
    "* \"East Timor\" in VDem is \"Timor-Leste\" in the UN data\n",
    "* \"Egypt\" in VDem is \"Egypt, Arab Rep.\" in the UN data\n",
    "* \"Gambia\" in VDem is \"Gambia, The\" in the UN data\n",
    "* \"Iran\" in VDem is \"Iran, Islamic Rep.\" in the UN data\n",
    "* \"Ivory Coast\" in VDem is \"Cote d’Ivoire\" in the UN data\n",
    "* \"Korea_North\" in VDem is \"Korea, Dem. People’s Rep.\" in the UN data\n",
    "* \"Korea_South\" in VDem is \"Korea, Rep.\" in the UN data\n",
    "* \"Kyrgyzstan\" in VDem is \"Kyrgyz Republic\" in the UN data\n",
    "* \"Laos\" in VDem is \"Lao PDR\" in the UN data\n",
    "* \"Macedonia\" in VDem is \"Macedonia, FYR\" in the UN data\n",
    "* \"Palestine_West_Bank\" in VDem is \"West Bank and Gaza\" in the UN Data (there is also \"Palestine_Gaza\" in VDem, but since the UN combines data for the West Bank and Gaza, let's just use \"Palestine_West_Bank\" for this assignment)\n",
    "* \"Russia\" in VDem is \"Russian Federation\" in the UN data\n",
    "* \"Slovakia\" in VDem is \"Slovak Republic\" in the UN data\n",
    "* \"Syria\" in VDem is \"Syrian Arab Republic\" in the UN data\n",
    "* \"Venezuela\" in VDem is \"Venezuela, RB\" in the UN data\n",
    "* \"Vietnam_Democratic Republic of\" in VDem is \"Vietnam\" in the UN data\n",
    "* \"Yemen\" in VDem is \"Yemen, Rep.\" in the UN data\n",
    "\n",
    "Recode the country names listed above in one of the two dataframes to match the names in the other dataframe. Then perform an inner join of the two dataframes. Some rows will be dropped because of differences in coverage, but no rows will be dropped because of differences in spelling. (2 points)"
   ]
  },
  {
   "cell_type": "code",
   "execution_count": 371,
   "metadata": {},
   "outputs": [
    {
     "data": {
      "text/plain": [
       "{'Burma_Myanmar': 'Myanmar',\n",
       " 'Cape Verde': 'Cabo Verde',\n",
       " 'Congo_Democratic Republic of': 'Congo, Dem. Rep.',\n",
       " 'Congo_Republic of the': 'Congo, Rep.',\n",
       " 'East Timor': 'Timor-Leste',\n",
       " 'Egypt': 'Egypt, Arab Rep.',\n",
       " 'Gambia': 'Gambia, The',\n",
       " 'Iran': 'Iran, Islamic Rep.',\n",
       " 'Ivory Coast': 'Cote d’Ivoire',\n",
       " 'Korea_North': 'Korea, Dem. People’s Rep.',\n",
       " 'Korea_South': 'Korea, Rep.',\n",
       " 'Kyrgyzstan': 'Kyrgyz Republic',\n",
       " 'Laos': 'Lao PDR',\n",
       " 'Macedonia': 'Macedonia, FYR',\n",
       " 'Palestine_West_Bank': 'West Bank and Gaza',\n",
       " 'Russia': 'Russian Federation',\n",
       " 'Slovakia': 'Slovak Republic',\n",
       " 'Syria': 'Syrian Arab Republic',\n",
       " 'Venezuela': 'Venezuela, RB',\n",
       " 'Vietnam_Democratic Republic of': 'Vietnam',\n",
       " 'Yemen': 'Yemen, Rep.'}"
      ]
     },
     "execution_count": 371,
     "metadata": {},
     "output_type": "execute_result"
    }
   ],
   "source": [
    "lookup_table = {\n",
    "    \"Burma_Myanmar\" :\"Myanmar\" ,\n",
    "    \"Cape Verde\" : \"Cabo Verde\",\n",
    "    \"Congo_Democratic Republic of\" :\"Congo, Dem. Rep.\" ,\n",
    "    \"Congo_Republic of the\": \"Congo, Rep.\" ,\n",
    "    \"East Timor\" : \"Timor-Leste\" ,\n",
    "    \"Egypt\" :\"Egypt, Arab Rep.\" ,\n",
    "    \"Gambia\" :\"Gambia, The\" ,\n",
    "    \"Iran\" : \"Iran, Islamic Rep.\" ,\n",
    "    \"Ivory Coast\" : \"Cote d’Ivoire\" ,\n",
    "    \"Korea_North\" : \"Korea, Dem. People’s Rep.\",\n",
    "    \"Korea_South\" : \"Korea, Rep.\",\n",
    "    \"Kyrgyzstan\" : \"Kyrgyz Republic\",\n",
    "    \"Laos\" : \"Lao PDR\",\n",
    "    \"Macedonia\" :\"Macedonia, FYR\",\n",
    "    \"Palestine_West_Bank\" : \"West Bank and Gaza\",\n",
    "#\"Palestine_Gaza\" in VDem, but since the UN combines data for the West Bank and Gaza, \n",
    "#let's just use \"Palestine_West_Bank\" for this assignment)\n",
    "    \"Russia\" : \"Russian Federation\" ,\n",
    "    \"Slovakia\" : \"Slovak Republic\" ,\n",
    "    \"Syria\" : \"Syrian Arab Republic\",\n",
    "    \"Venezuela\" :\"Venezuela, RB\" ,\n",
    "    \"Vietnam_Democratic Republic of\" : \"Vietnam\" ,\n",
    "    \"Yemen\" :\"Yemen, Rep.\"   \n",
    "}\n",
    "lookup_table"
   ]
  },
  {
   "cell_type": "code",
   "execution_count": 374,
   "metadata": {},
   "outputs": [],
   "source": [
    "# Replace country names in VDem to better allign with the UN dataset\n",
    "VDem.replace({'country_name': lookup_table}, inplace=True)"
   ]
  },
  {
   "cell_type": "code",
   "execution_count": 375,
   "metadata": {},
   "outputs": [
    {
     "data": {
      "text/plain": [
       "array(['Mexico', 'Suriname', 'Sweden', 'Switzerland', 'Ghana',\n",
       "       'South Africa', 'Japan', 'Myanmar', 'Russian Federation',\n",
       "       'Albania', 'Egypt, Arab Rep.', 'Yemen, Rep.', 'Colombia', 'Poland',\n",
       "       'Brazil', 'United States', 'Portugal', 'El Salvador',\n",
       "       'South Yemen', 'Bangladesh', 'Bolivia', 'Haiti', 'Honduras',\n",
       "       'Mali', 'Pakistan', 'Peru', 'Senegal', 'South Sudan', 'Sudan',\n",
       "       'Vietnam', 'Vietnam_Republic of', 'Afghanistan', 'Argentina',\n",
       "       'Ethiopia', 'India', 'Kenya', 'Korea, Dem. People’s Rep.',\n",
       "       'Korea, Rep.', 'Kosovo', 'Lebanon', 'Nigeria', 'Philippines',\n",
       "       'Tanzania', 'Taiwan', 'Thailand', 'Uganda', 'Venezuela, RB',\n",
       "       'Benin', 'Bhutan', 'Burkina Faso', 'Cambodia', 'Indonesia',\n",
       "       'Mozambique', 'Nepal', 'Nicaragua', 'Niger', 'Zambia', 'Zimbabwe',\n",
       "       'Guinea', 'Cote d’Ivoire', 'Mauritania', 'Canada', 'Australia',\n",
       "       'Botswana', 'Burundi', 'Cabo Verde', 'Central African Republic',\n",
       "       'Chile', 'Costa Rica', 'Timor-Leste', 'Ecuador', 'France',\n",
       "       'Germany', 'Guatemala', 'Iran, Islamic Rep.', 'Iraq', 'Ireland',\n",
       "       'Italy', 'Jordan', 'Latvia', 'Lesotho', 'Liberia', 'Malawi',\n",
       "       'Maldives', 'Mongolia', 'Morocco', 'Netherlands', 'Panama',\n",
       "       'Papua New Guinea', 'Qatar', 'Sierra Leone', 'Spain',\n",
       "       'Syrian Arab Republic', 'Tunisia', 'Turkey', 'Ukraine',\n",
       "       'United Kingdom', 'Uruguay', 'Algeria', 'Angola', 'Armenia',\n",
       "       'Azerbaijan', 'Belarus', 'Cameroon', 'Chad', 'China',\n",
       "       'Congo, Dem. Rep.', 'Congo, Rep.', 'Djibouti',\n",
       "       'Dominican Republic', 'Eritrea', 'Gabon', 'Gambia, The', 'Georgia',\n",
       "       'Guinea-Bissau', 'Jamaica', 'Kazakhstan', 'Kyrgyz Republic',\n",
       "       'Lao PDR', 'Libya', 'Madagascar', 'Moldova', 'Namibia',\n",
       "       'West Bank and Gaza', 'Rwanda', 'Somalia', 'Sri Lanka',\n",
       "       'Swaziland', 'Tajikistan', 'Togo', 'Trinidad and Tobago',\n",
       "       'Turkmenistan', 'German Democratic Republic', 'Palestine_Gaza',\n",
       "       'Somaliland', 'Uzbekistan', 'Austria', 'Barbados', 'Belgium',\n",
       "       'Bosnia and Herzegovina', 'Bulgaria', 'Comoros', 'Croatia', 'Cuba',\n",
       "       'Cyprus', 'Czech Republic', 'Denmark', 'Estonia', 'Fiji',\n",
       "       'Finland', 'Greece', 'Guyana', 'Iceland', 'Israel', 'Lithuania',\n",
       "       'Macedonia, FYR', 'Malaysia', 'Mauritius', 'Montenegro',\n",
       "       'New Zealand', 'Norway', 'Paraguay', 'Romania',\n",
       "       'Sao Tome and Principe', 'Saudi Arabia', 'Serbia', 'Seychelles',\n",
       "       'Slovak Republic', 'Slovenia', 'Solomon Islands', 'Vanuatu',\n",
       "       'Hungary'], dtype=object)"
      ]
     },
     "execution_count": 375,
     "metadata": {},
     "output_type": "execute_result"
    }
   ],
   "source": [
    "# Replaced countries are shown below:\n",
    "VDem.country_name.unique()"
   ]
  },
  {
   "cell_type": "code",
   "execution_count": 376,
   "metadata": {},
   "outputs": [],
   "source": [
    "# Perform left-join on countries and years, use UN names:\n",
    "un_merged_data = pd.merge(uncountries, \n",
    "                       VDem, \n",
    "                       how='left', \n",
    "                       left_on=['Country Name', 'year'], \n",
    "                       right_on=['country_name', 'year'],\n",
    "                       indicator='matched')"
   ]
  },
  {
   "cell_type": "code",
   "execution_count": 377,
   "metadata": {},
   "outputs": [
    {
     "data": {
      "text/plain": [
       "0.6837557603686636"
      ]
     },
     "execution_count": 377,
     "metadata": {},
     "output_type": "execute_result"
    }
   ],
   "source": [
    "# Only 68% are properly matched now:\n",
    "len(un_merged_data.loc[un_merged_data.matched=='both'])/len(un_merged_data)"
   ]
  },
  {
   "cell_type": "markdown",
   "metadata": {},
   "source": [
    "## Problem 2\n",
    "[Kickstarter](https://www.kickstarter.com/) is a website in which people can pledge financial support for creative projects. Patrons are only charged if a project raises enough money to meet a pre-specified goal, and projects can offer items as \"rewards\" for patrons who contribute at particular levels. One interesting aspect of Kickstarter is the ability to [search projects by \"ending soon\"](https://www.kickstarter.com/discover/advanced?sort=end_date). If you have a few dollars to spare and want to feel like a hero, you can swoop in at the last minute to contribute enough for a project to meet its goal.\n",
    "\n",
    "Cathie So created a project on Kaggle in which she [scraped Kickstarter](https://www.kaggle.com/socathie/kickstarter-project-statistics/data?select=live.csv) and collected data on 4000 live projects (projects that were currently collecting pledges from patrons) as of October 10, 2016, at 5pm Pacific time. The data are here:"
   ]
  },
  {
   "cell_type": "code",
   "execution_count": 426,
   "metadata": {},
   "outputs": [
    {
     "data": {
      "text/html": [
       "<div>\n",
       "<style scoped>\n",
       "    .dataframe tbody tr th:only-of-type {\n",
       "        vertical-align: middle;\n",
       "    }\n",
       "\n",
       "    .dataframe tbody tr th {\n",
       "        vertical-align: top;\n",
       "    }\n",
       "\n",
       "    .dataframe thead th {\n",
       "        text-align: right;\n",
       "    }\n",
       "</style>\n",
       "<table border=\"1\" class=\"dataframe\">\n",
       "  <thead>\n",
       "    <tr style=\"text-align: right;\">\n",
       "      <th></th>\n",
       "      <th>Unnamed: 0</th>\n",
       "      <th>amt.pledged</th>\n",
       "      <th>blurb</th>\n",
       "      <th>by</th>\n",
       "      <th>country</th>\n",
       "      <th>currency</th>\n",
       "      <th>end.time</th>\n",
       "      <th>location</th>\n",
       "      <th>percentage.funded</th>\n",
       "      <th>state</th>\n",
       "      <th>title</th>\n",
       "      <th>type</th>\n",
       "      <th>url</th>\n",
       "    </tr>\n",
       "  </thead>\n",
       "  <tbody>\n",
       "    <tr>\n",
       "      <th>0</th>\n",
       "      <td>0</td>\n",
       "      <td>15823.0</td>\n",
       "      <td>\\n'Catalysts, Explorers &amp; Secret Keepers: Wome...</td>\n",
       "      <td>Museum of Science Fiction</td>\n",
       "      <td>US</td>\n",
       "      <td>usd</td>\n",
       "      <td>2016-11-01T23:59:00-04:00</td>\n",
       "      <td>Washington, DC</td>\n",
       "      <td>186</td>\n",
       "      <td>DC</td>\n",
       "      <td>Catalysts, Explorers &amp; Secret Keepers: Women o...</td>\n",
       "      <td>Town</td>\n",
       "      <td>/projects/1608905146/catalysts-explorers-and-s...</td>\n",
       "    </tr>\n",
       "    <tr>\n",
       "      <th>1</th>\n",
       "      <td>1</td>\n",
       "      <td>6859.0</td>\n",
       "      <td>\\nA unique handmade picture book for kids &amp; ar...</td>\n",
       "      <td>Tyrone Wells &amp; Broken Eagle, LLC</td>\n",
       "      <td>US</td>\n",
       "      <td>usd</td>\n",
       "      <td>2016-11-25T01:13:33-05:00</td>\n",
       "      <td>Portland, OR</td>\n",
       "      <td>8</td>\n",
       "      <td>OR</td>\n",
       "      <td>The Whatamagump (a hand-crafted story picture ...</td>\n",
       "      <td>Town</td>\n",
       "      <td>/projects/thewhatamagump/the-whatamagump-a-han...</td>\n",
       "    </tr>\n",
       "    <tr>\n",
       "      <th>2</th>\n",
       "      <td>2</td>\n",
       "      <td>17906.0</td>\n",
       "      <td>\\nA horror comedy about a repairman who was in...</td>\n",
       "      <td>Tessa Stone</td>\n",
       "      <td>US</td>\n",
       "      <td>usd</td>\n",
       "      <td>2016-11-23T23:00:00-05:00</td>\n",
       "      <td>Los Angeles, CA</td>\n",
       "      <td>102</td>\n",
       "      <td>CA</td>\n",
       "      <td>Not Drunk Enough Volume 1!</td>\n",
       "      <td>Town</td>\n",
       "      <td>/projects/1890925998/not-drunk-enough-volume-1...</td>\n",
       "    </tr>\n",
       "    <tr>\n",
       "      <th>3</th>\n",
       "      <td>3</td>\n",
       "      <td>67081.0</td>\n",
       "      <td>\\nThe Johnny Wander autobio omnibus you've all...</td>\n",
       "      <td>Johnny Wander</td>\n",
       "      <td>US</td>\n",
       "      <td>usd</td>\n",
       "      <td>2016-11-01T23:50:00-04:00</td>\n",
       "      <td>Brooklyn, NY</td>\n",
       "      <td>191</td>\n",
       "      <td>NY</td>\n",
       "      <td>Our Cats Are More Famous Than Us: A Johnny Wan...</td>\n",
       "      <td>County</td>\n",
       "      <td>/projects/746734715/our-cats-are-more-famous-t...</td>\n",
       "    </tr>\n",
       "    <tr>\n",
       "      <th>4</th>\n",
       "      <td>4</td>\n",
       "      <td>32772.0</td>\n",
       "      <td>\\nThe vision for this project is the establish...</td>\n",
       "      <td>Beau's All Natural Brewing Company</td>\n",
       "      <td>RW</td>\n",
       "      <td>cad</td>\n",
       "      <td>2016-11-18T23:05:48-05:00</td>\n",
       "      <td>Kigali, Rwanda</td>\n",
       "      <td>34</td>\n",
       "      <td>Kigali Province</td>\n",
       "      <td>The Rwanda Craft Brewery Project</td>\n",
       "      <td>Town</td>\n",
       "      <td>/projects/beaus/the-rwanda-craft-brewery-proje...</td>\n",
       "    </tr>\n",
       "  </tbody>\n",
       "</table>\n",
       "</div>"
      ],
      "text/plain": [
       "   Unnamed: 0  amt.pledged                                              blurb  \\\n",
       "0           0      15823.0  \\n'Catalysts, Explorers & Secret Keepers: Wome...   \n",
       "1           1       6859.0  \\nA unique handmade picture book for kids & ar...   \n",
       "2           2      17906.0  \\nA horror comedy about a repairman who was in...   \n",
       "3           3      67081.0  \\nThe Johnny Wander autobio omnibus you've all...   \n",
       "4           4      32772.0  \\nThe vision for this project is the establish...   \n",
       "\n",
       "                                   by country currency  \\\n",
       "0           Museum of Science Fiction      US      usd   \n",
       "1    Tyrone Wells & Broken Eagle, LLC      US      usd   \n",
       "2                         Tessa Stone      US      usd   \n",
       "3                       Johnny Wander      US      usd   \n",
       "4  Beau's All Natural Brewing Company      RW      cad   \n",
       "\n",
       "                    end.time         location  percentage.funded  \\\n",
       "0  2016-11-01T23:59:00-04:00   Washington, DC                186   \n",
       "1  2016-11-25T01:13:33-05:00     Portland, OR                  8   \n",
       "2  2016-11-23T23:00:00-05:00  Los Angeles, CA                102   \n",
       "3  2016-11-01T23:50:00-04:00     Brooklyn, NY                191   \n",
       "4  2016-11-18T23:05:48-05:00   Kigali, Rwanda                 34   \n",
       "\n",
       "             state                                              title    type  \\\n",
       "0               DC  Catalysts, Explorers & Secret Keepers: Women o...    Town   \n",
       "1               OR  The Whatamagump (a hand-crafted story picture ...    Town   \n",
       "2               CA                         Not Drunk Enough Volume 1!    Town   \n",
       "3               NY  Our Cats Are More Famous Than Us: A Johnny Wan...  County   \n",
       "4  Kigali Province                   The Rwanda Craft Brewery Project    Town   \n",
       "\n",
       "                                                 url  \n",
       "0  /projects/1608905146/catalysts-explorers-and-s...  \n",
       "1  /projects/thewhatamagump/the-whatamagump-a-han...  \n",
       "2  /projects/1890925998/not-drunk-enough-volume-1...  \n",
       "3  /projects/746734715/our-cats-are-more-famous-t...  \n",
       "4  /projects/beaus/the-rwanda-craft-brewery-proje...  "
      ]
     },
     "execution_count": 426,
     "metadata": {},
     "output_type": "execute_result"
    }
   ],
   "source": [
    "# Read/inspect the datatset\n",
    "kickstarter = pd.read_csv(\"https://github.com/jkropko/DS-6001/raw/master/localdata/live.csv\")\n",
    "kickstarter.head()"
   ]
  },
  {
   "cell_type": "markdown",
   "metadata": {},
   "source": [
    "### Part a\n",
    "Notice that the `end.time` column, the date and time at which the project stops accepting pledges, is formatted as follows:\n",
    "```\n",
    "2016-11-01T23:59:00-04:00\n",
    "```\n",
    "This formatting is \"YYYY-MM-DDThh:mm:ss-TZD\": four digits for the year, a dash, two digits for the month, another dash, and two digits for the day; the \"T\" separates the dates from the time; two digits for the hour, minute and second, separated by colons; and the time zone expressed as hours difference from Greenwich mean time (also called UTC), and -04:00 is four hours earlier than UTC, for example.\n",
    "\n",
    "But `end.time` is also currently read as a string, with `object` data type:"
   ]
  },
  {
   "cell_type": "code",
   "execution_count": 427,
   "metadata": {},
   "outputs": [
    {
     "data": {
      "text/plain": [
       "Unnamed: 0             int64\n",
       "amt.pledged          float64\n",
       "blurb                 object\n",
       "by                    object\n",
       "country               object\n",
       "currency              object\n",
       "end.time              object\n",
       "location              object\n",
       "percentage.funded      int64\n",
       "state                 object\n",
       "title                 object\n",
       "type                  object\n",
       "url                   object\n",
       "dtype: object"
      ]
     },
     "execution_count": 427,
     "metadata": {},
     "output_type": "execute_result"
    }
   ],
   "source": [
    "kickstarter.dtypes"
   ]
  },
  {
   "cell_type": "code",
   "execution_count": 428,
   "metadata": {},
   "outputs": [
    {
     "name": "stdout",
     "output_type": "stream",
     "text": [
      "<class 'pandas.core.frame.DataFrame'>\n",
      "RangeIndex: 4000 entries, 0 to 3999\n",
      "Data columns (total 14 columns):\n",
      " #   Column             Non-Null Count  Dtype              \n",
      "---  ------             --------------  -----              \n",
      " 0   Unnamed: 0         4000 non-null   int64              \n",
      " 1   amt.pledged        4000 non-null   float64            \n",
      " 2   blurb              4000 non-null   object             \n",
      " 3   by                 4000 non-null   object             \n",
      " 4   country            3999 non-null   object             \n",
      " 5   currency           4000 non-null   object             \n",
      " 6   end.time           4000 non-null   object             \n",
      " 7   location           4000 non-null   object             \n",
      " 8   percentage.funded  4000 non-null   int64              \n",
      " 9   state              4000 non-null   object             \n",
      " 10  title              4000 non-null   object             \n",
      " 11  type               4000 non-null   object             \n",
      " 12  url                4000 non-null   object             \n",
      " 13  timestamp          4000 non-null   datetime64[ns, UTC]\n",
      "dtypes: datetime64[ns, UTC](1), float64(1), int64(2), object(10)\n",
      "memory usage: 437.6+ KB\n"
     ]
    }
   ],
   "source": [
    "# Convert \"end.time\" to datetime\n",
    "kickstarter['timestamp'] = pd.to_datetime(kickstarter['end.time'], utc=True)\n",
    "kickstarter.info()"
   ]
  },
  {
   "cell_type": "markdown",
   "metadata": {},
   "source": [
    "Convert `end.time` to a timestamp, and extract the month, day, year, hour, minute, and second of the end time. To allow the `pd.to_datetime()` function to read timezones, use the `utc=True` argument. (2 points)"
   ]
  },
  {
   "cell_type": "code",
   "execution_count": 429,
   "metadata": {},
   "outputs": [
    {
     "data": {
      "text/html": [
       "<div>\n",
       "<style scoped>\n",
       "    .dataframe tbody tr th:only-of-type {\n",
       "        vertical-align: middle;\n",
       "    }\n",
       "\n",
       "    .dataframe tbody tr th {\n",
       "        vertical-align: top;\n",
       "    }\n",
       "\n",
       "    .dataframe thead th {\n",
       "        text-align: right;\n",
       "    }\n",
       "</style>\n",
       "<table border=\"1\" class=\"dataframe\">\n",
       "  <thead>\n",
       "    <tr style=\"text-align: right;\">\n",
       "      <th></th>\n",
       "      <th>Unnamed: 0</th>\n",
       "      <th>amt.pledged</th>\n",
       "      <th>blurb</th>\n",
       "      <th>by</th>\n",
       "      <th>country</th>\n",
       "      <th>currency</th>\n",
       "      <th>end.time</th>\n",
       "      <th>location</th>\n",
       "      <th>percentage.funded</th>\n",
       "      <th>state</th>\n",
       "      <th>title</th>\n",
       "      <th>type</th>\n",
       "      <th>url</th>\n",
       "      <th>timestamp</th>\n",
       "      <th>year</th>\n",
       "      <th>month</th>\n",
       "      <th>day</th>\n",
       "      <th>hour</th>\n",
       "      <th>minute</th>\n",
       "      <th>second</th>\n",
       "    </tr>\n",
       "  </thead>\n",
       "  <tbody>\n",
       "    <tr>\n",
       "      <th>0</th>\n",
       "      <td>0</td>\n",
       "      <td>15823.0</td>\n",
       "      <td>\\n'Catalysts, Explorers &amp; Secret Keepers: Wome...</td>\n",
       "      <td>Museum of Science Fiction</td>\n",
       "      <td>US</td>\n",
       "      <td>usd</td>\n",
       "      <td>2016-11-01T23:59:00-04:00</td>\n",
       "      <td>Washington, DC</td>\n",
       "      <td>186</td>\n",
       "      <td>DC</td>\n",
       "      <td>Catalysts, Explorers &amp; Secret Keepers: Women o...</td>\n",
       "      <td>Town</td>\n",
       "      <td>/projects/1608905146/catalysts-explorers-and-s...</td>\n",
       "      <td>2016-11-02 03:59:00+00:00</td>\n",
       "      <td>2016</td>\n",
       "      <td>11</td>\n",
       "      <td>2</td>\n",
       "      <td>3</td>\n",
       "      <td>59</td>\n",
       "      <td>0</td>\n",
       "    </tr>\n",
       "    <tr>\n",
       "      <th>1</th>\n",
       "      <td>1</td>\n",
       "      <td>6859.0</td>\n",
       "      <td>\\nA unique handmade picture book for kids &amp; ar...</td>\n",
       "      <td>Tyrone Wells &amp; Broken Eagle, LLC</td>\n",
       "      <td>US</td>\n",
       "      <td>usd</td>\n",
       "      <td>2016-11-25T01:13:33-05:00</td>\n",
       "      <td>Portland, OR</td>\n",
       "      <td>8</td>\n",
       "      <td>OR</td>\n",
       "      <td>The Whatamagump (a hand-crafted story picture ...</td>\n",
       "      <td>Town</td>\n",
       "      <td>/projects/thewhatamagump/the-whatamagump-a-han...</td>\n",
       "      <td>2016-11-25 06:13:33+00:00</td>\n",
       "      <td>2016</td>\n",
       "      <td>11</td>\n",
       "      <td>25</td>\n",
       "      <td>6</td>\n",
       "      <td>13</td>\n",
       "      <td>33</td>\n",
       "    </tr>\n",
       "  </tbody>\n",
       "</table>\n",
       "</div>"
      ],
      "text/plain": [
       "   Unnamed: 0  amt.pledged                                              blurb  \\\n",
       "0           0      15823.0  \\n'Catalysts, Explorers & Secret Keepers: Wome...   \n",
       "1           1       6859.0  \\nA unique handmade picture book for kids & ar...   \n",
       "\n",
       "                                 by country currency  \\\n",
       "0         Museum of Science Fiction      US      usd   \n",
       "1  Tyrone Wells & Broken Eagle, LLC      US      usd   \n",
       "\n",
       "                    end.time        location  percentage.funded state  \\\n",
       "0  2016-11-01T23:59:00-04:00  Washington, DC                186    DC   \n",
       "1  2016-11-25T01:13:33-05:00    Portland, OR                  8    OR   \n",
       "\n",
       "                                               title  type  \\\n",
       "0  Catalysts, Explorers & Secret Keepers: Women o...  Town   \n",
       "1  The Whatamagump (a hand-crafted story picture ...  Town   \n",
       "\n",
       "                                                 url  \\\n",
       "0  /projects/1608905146/catalysts-explorers-and-s...   \n",
       "1  /projects/thewhatamagump/the-whatamagump-a-han...   \n",
       "\n",
       "                  timestamp  year  month  day  hour  minute  second  \n",
       "0 2016-11-02 03:59:00+00:00  2016     11    2     3      59       0  \n",
       "1 2016-11-25 06:13:33+00:00  2016     11   25     6      13      33  "
      ]
     },
     "execution_count": 429,
     "metadata": {},
     "output_type": "execute_result"
    }
   ],
   "source": [
    "# Splitting datetime into respective columns\n",
    "kickstarter['year'] = kickstarter.timestamp.dt.year\n",
    "kickstarter['month'] = kickstarter.timestamp.dt.month\n",
    "kickstarter['day'] = kickstarter.timestamp.dt.day\n",
    "kickstarter['hour'] = kickstarter.timestamp.dt.hour\n",
    "kickstarter['minute'] = kickstarter.timestamp.dt.minute\n",
    "kickstarter['second'] = kickstarter.timestamp.dt.second\n",
    "kickstarter.head(2)"
   ]
  },
  {
   "cell_type": "markdown",
   "metadata": {},
   "source": [
    "### Part b\n",
    "Create a dataframe with one row for every ending day in the `kickstarter` data that reports the average amount pledged (`amt.pledged`) on each day. Sort the rows in descending order by average amount pledged, and display the five days with the highest averages. (2 points)"
   ]
  },
  {
   "cell_type": "code",
   "execution_count": 430,
   "metadata": {},
   "outputs": [
    {
     "data": {
      "text/html": [
       "<div>\n",
       "<style scoped>\n",
       "    .dataframe tbody tr th:only-of-type {\n",
       "        vertical-align: middle;\n",
       "    }\n",
       "\n",
       "    .dataframe tbody tr th {\n",
       "        vertical-align: top;\n",
       "    }\n",
       "\n",
       "    .dataframe thead th {\n",
       "        text-align: right;\n",
       "    }\n",
       "</style>\n",
       "<table border=\"1\" class=\"dataframe\">\n",
       "  <thead>\n",
       "    <tr style=\"text-align: right;\">\n",
       "      <th></th>\n",
       "      <th>Unnamed: 0</th>\n",
       "      <th>amt.pledged</th>\n",
       "      <th>blurb</th>\n",
       "      <th>by</th>\n",
       "      <th>country</th>\n",
       "      <th>currency</th>\n",
       "      <th>end.time</th>\n",
       "      <th>location</th>\n",
       "      <th>percentage.funded</th>\n",
       "      <th>state</th>\n",
       "      <th>...</th>\n",
       "      <th>type</th>\n",
       "      <th>url</th>\n",
       "      <th>timestamp</th>\n",
       "      <th>year</th>\n",
       "      <th>month</th>\n",
       "      <th>day</th>\n",
       "      <th>hour</th>\n",
       "      <th>minute</th>\n",
       "      <th>second</th>\n",
       "      <th>date</th>\n",
       "    </tr>\n",
       "  </thead>\n",
       "  <tbody>\n",
       "    <tr>\n",
       "      <th>0</th>\n",
       "      <td>0</td>\n",
       "      <td>15823.0</td>\n",
       "      <td>\\n'Catalysts, Explorers &amp; Secret Keepers: Wome...</td>\n",
       "      <td>Museum of Science Fiction</td>\n",
       "      <td>US</td>\n",
       "      <td>usd</td>\n",
       "      <td>2016-11-01T23:59:00-04:00</td>\n",
       "      <td>Washington, DC</td>\n",
       "      <td>186</td>\n",
       "      <td>DC</td>\n",
       "      <td>...</td>\n",
       "      <td>Town</td>\n",
       "      <td>/projects/1608905146/catalysts-explorers-and-s...</td>\n",
       "      <td>2016-11-02 03:59:00+00:00</td>\n",
       "      <td>2016</td>\n",
       "      <td>11</td>\n",
       "      <td>2</td>\n",
       "      <td>3</td>\n",
       "      <td>59</td>\n",
       "      <td>0</td>\n",
       "      <td>2016-11-02</td>\n",
       "    </tr>\n",
       "    <tr>\n",
       "      <th>1</th>\n",
       "      <td>1</td>\n",
       "      <td>6859.0</td>\n",
       "      <td>\\nA unique handmade picture book for kids &amp; ar...</td>\n",
       "      <td>Tyrone Wells &amp; Broken Eagle, LLC</td>\n",
       "      <td>US</td>\n",
       "      <td>usd</td>\n",
       "      <td>2016-11-25T01:13:33-05:00</td>\n",
       "      <td>Portland, OR</td>\n",
       "      <td>8</td>\n",
       "      <td>OR</td>\n",
       "      <td>...</td>\n",
       "      <td>Town</td>\n",
       "      <td>/projects/thewhatamagump/the-whatamagump-a-han...</td>\n",
       "      <td>2016-11-25 06:13:33+00:00</td>\n",
       "      <td>2016</td>\n",
       "      <td>11</td>\n",
       "      <td>25</td>\n",
       "      <td>6</td>\n",
       "      <td>13</td>\n",
       "      <td>33</td>\n",
       "      <td>2016-11-25</td>\n",
       "    </tr>\n",
       "  </tbody>\n",
       "</table>\n",
       "<p>2 rows × 21 columns</p>\n",
       "</div>"
      ],
      "text/plain": [
       "   Unnamed: 0  amt.pledged                                              blurb  \\\n",
       "0           0      15823.0  \\n'Catalysts, Explorers & Secret Keepers: Wome...   \n",
       "1           1       6859.0  \\nA unique handmade picture book for kids & ar...   \n",
       "\n",
       "                                 by country currency  \\\n",
       "0         Museum of Science Fiction      US      usd   \n",
       "1  Tyrone Wells & Broken Eagle, LLC      US      usd   \n",
       "\n",
       "                    end.time        location  percentage.funded state  ...  \\\n",
       "0  2016-11-01T23:59:00-04:00  Washington, DC                186    DC  ...   \n",
       "1  2016-11-25T01:13:33-05:00    Portland, OR                  8    OR  ...   \n",
       "\n",
       "   type                                                url  \\\n",
       "0  Town  /projects/1608905146/catalysts-explorers-and-s...   \n",
       "1  Town  /projects/thewhatamagump/the-whatamagump-a-han...   \n",
       "\n",
       "                  timestamp  year  month  day  hour  minute  second  \\\n",
       "0 2016-11-02 03:59:00+00:00  2016     11    2     3      59       0   \n",
       "1 2016-11-25 06:13:33+00:00  2016     11   25     6      13      33   \n",
       "\n",
       "         date  \n",
       "0  2016-11-02  \n",
       "1  2016-11-25  \n",
       "\n",
       "[2 rows x 21 columns]"
      ]
     },
     "execution_count": 430,
     "metadata": {},
     "output_type": "execute_result"
    }
   ],
   "source": [
    "# Creating extra column for the day to keep truck of each day\n",
    "kickstarter['date'] = kickstarter.timestamp.dt.date\n",
    "kickstarter.head(2)"
   ]
  },
  {
   "cell_type": "code",
   "execution_count": 443,
   "metadata": {},
   "outputs": [],
   "source": [
    "# Grouping by date, aggregating by avg amt pledges, and sorting descending\n",
    "ending_day = pd.DataFrame(\n",
    "    kickstarter.groupby('date')['amt.pledged'].mean(\"amt.pledged\")).sort_values(\n",
    "    by=['amt.pledged'], ascending=False)"
   ]
  },
  {
   "cell_type": "code",
   "execution_count": 444,
   "metadata": {},
   "outputs": [
    {
     "data": {
      "text/html": [
       "<div>\n",
       "<style scoped>\n",
       "    .dataframe tbody tr th:only-of-type {\n",
       "        vertical-align: middle;\n",
       "    }\n",
       "\n",
       "    .dataframe tbody tr th {\n",
       "        vertical-align: top;\n",
       "    }\n",
       "\n",
       "    .dataframe thead th {\n",
       "        text-align: right;\n",
       "    }\n",
       "</style>\n",
       "<table border=\"1\" class=\"dataframe\">\n",
       "  <thead>\n",
       "    <tr style=\"text-align: right;\">\n",
       "      <th></th>\n",
       "      <th>amt.pledged</th>\n",
       "    </tr>\n",
       "    <tr>\n",
       "      <th>date</th>\n",
       "      <th></th>\n",
       "    </tr>\n",
       "  </thead>\n",
       "  <tbody>\n",
       "    <tr>\n",
       "      <th>2016-12-14</th>\n",
       "      <td>47938.375000</td>\n",
       "    </tr>\n",
       "    <tr>\n",
       "      <th>2016-11-04</th>\n",
       "      <td>26975.388889</td>\n",
       "    </tr>\n",
       "    <tr>\n",
       "      <th>2016-11-11</th>\n",
       "      <td>24990.669065</td>\n",
       "    </tr>\n",
       "    <tr>\n",
       "      <th>2016-12-17</th>\n",
       "      <td>22160.230769</td>\n",
       "    </tr>\n",
       "    <tr>\n",
       "      <th>2016-11-18</th>\n",
       "      <td>21016.234043</td>\n",
       "    </tr>\n",
       "  </tbody>\n",
       "</table>\n",
       "</div>"
      ],
      "text/plain": [
       "             amt.pledged\n",
       "date                    \n",
       "2016-12-14  47938.375000\n",
       "2016-11-04  26975.388889\n",
       "2016-11-11  24990.669065\n",
       "2016-12-17  22160.230769\n",
       "2016-11-18  21016.234043"
      ]
     },
     "execution_count": 444,
     "metadata": {},
     "output_type": "execute_result"
    }
   ],
   "source": [
    "# Reporting the top 5\n",
    "ending_day.head(5)"
   ]
  },
  {
   "cell_type": "markdown",
   "metadata": {},
   "source": [
    "### Part c\n",
    "Display the text of the longest `blurb` in the data. (2 points)"
   ]
  },
  {
   "cell_type": "code",
   "execution_count": 449,
   "metadata": {},
   "outputs": [],
   "source": [
    "# First, create column to store length of the blurb strings\n",
    "kickstarter['length'] = kickstarter['blurb'].str.len()"
   ]
  },
  {
   "cell_type": "code",
   "execution_count": 458,
   "metadata": {},
   "outputs": [
    {
     "data": {
      "text/plain": [
       "'\\nA box of cool projects every month, shipped directly from our shop to your mailbox.  Open it, build it, take it apart.  Make something!\\n'"
      ]
     },
     "execution_count": 458,
     "metadata": {},
     "output_type": "execute_result"
    }
   ],
   "source": [
    "# Second, use .loc to select the row with the longest length, show the blurb only\n",
    "kickstarter.loc[max(kickstarter['length'])]['blurb']"
   ]
  },
  {
   "cell_type": "code",
   "execution_count": 459,
   "metadata": {},
   "outputs": [
    {
     "data": {
      "text/plain": [
       "True"
      ]
     },
     "execution_count": 459,
     "metadata": {},
     "output_type": "execute_result"
    }
   ],
   "source": [
    "# Check how long that string was and if it is trully the largest value in the \"length\" column\n",
    "len(kickstarter.loc[max(kickstarter['length'])]['blurb']) == kickstarter['length'].max()"
   ]
  },
  {
   "cell_type": "markdown",
   "metadata": {},
   "source": [
    "### Part d\n",
    "How many blurbs for projects with end dates between November 15, 2016 and December 7, 2016 contain the phrase \"science fiction\"? [Hint: Don't forget to make this search case-insensitive and to sort the `kickstarter` dataframe by `end.time` before setting `end.time` as the index.] (2 points)"
   ]
  },
  {
   "cell_type": "code",
   "execution_count": null,
   "metadata": {},
   "outputs": [],
   "source": [
    "sorted_records = kickstarter.sort_values(by=['end.time'])"
   ]
  },
  {
   "cell_type": "code",
   "execution_count": null,
   "metadata": {},
   "outputs": [],
   "source": []
  },
  {
   "cell_type": "code",
   "execution_count": null,
   "metadata": {},
   "outputs": [],
   "source": []
  }
 ],
 "metadata": {
  "kernelspec": {
   "display_name": "Python 3",
   "language": "python",
   "name": "python3"
  },
  "language_info": {
   "codemirror_mode": {
    "name": "ipython",
    "version": 3
   },
   "file_extension": ".py",
   "mimetype": "text/x-python",
   "name": "python",
   "nbconvert_exporter": "python",
   "pygments_lexer": "ipython3",
   "version": "3.8.3"
  }
 },
 "nbformat": 4,
 "nbformat_minor": 4
}
