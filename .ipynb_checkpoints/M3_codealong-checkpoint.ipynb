{
 "cells": [
  {
   "cell_type": "code",
   "execution_count": 1,
   "metadata": {},
   "outputs": [],
   "source": [
    "import pandas as pd\n",
    "import json\n",
    "import requests"
   ]
  },
  {
   "cell_type": "code",
   "execution_count": 4,
   "metadata": {},
   "outputs": [
    {
     "data": {
      "text/plain": [
       "<Response [200]>"
      ]
     },
     "execution_count": 4,
     "metadata": {},
     "output_type": "execute_result"
    }
   ],
   "source": [
    "url = \"https://www.thecocktaildb.com/api/json/v1/1/filter.php?c=Cocktail\"\n",
    "r = requests.get(url, headers = {'User-agent':'Dima'})\n",
    "r"
   ]
  },
  {
   "cell_type": "code",
   "execution_count": 6,
   "metadata": {},
   "outputs": [],
   "source": [
    "my_json = json.loads(r.text)"
   ]
  },
  {
   "cell_type": "code",
   "execution_count": 7,
   "metadata": {},
   "outputs": [
    {
     "data": {
      "text/plain": [
       "{'drinks': [{'strDrink': '155 Belmont',\n",
       "   'strDrinkThumb': 'https://www.thecocktaildb.com/images/media/drink/yqvvqs1475667388.jpg',\n",
       "   'idDrink': '15346'},\n",
       "  {'strDrink': '57 Chevy with a White License Plate',\n",
       "   'strDrinkThumb': 'https://www.thecocktaildb.com/images/media/drink/qyyvtu1468878544.jpg',\n",
       "   'idDrink': '14029'},\n",
       "  {'strDrink': '747 Drink',\n",
       "   'strDrinkThumb': 'https://www.thecocktaildb.com/images/media/drink/i9suxb1582474926.jpg',\n",
       "   'idDrink': '178318'},\n",
       "  {'strDrink': '9 1/2 Weeks',\n",
       "   'strDrinkThumb': 'https://www.thecocktaildb.com/images/media/drink/xvwusr1472669302.jpg',\n",
       "   'idDrink': '16108'},\n",
       "  {'strDrink': \"A Gilligan's Island\",\n",
       "   'strDrinkThumb': 'https://www.thecocktaildb.com/images/media/drink/wysqut1461867176.jpg',\n",
       "   'idDrink': '16943'},\n",
       "  {'strDrink': 'A True Amaretto Sour',\n",
       "   'strDrinkThumb': 'https://www.thecocktaildb.com/images/media/drink/rptuxy1472669372.jpg',\n",
       "   'idDrink': '17005'},\n",
       "  {'strDrink': 'A.D.M. (After Dinner Mint)',\n",
       "   'strDrinkThumb': 'https://www.thecocktaildb.com/images/media/drink/ruxuvp1472669600.jpg',\n",
       "   'idDrink': '14560'},\n",
       "  {'strDrink': 'A1',\n",
       "   'strDrinkThumb': 'https://www.thecocktaildb.com/images/media/drink/2x8thr1504816928.jpg',\n",
       "   'idDrink': '17222'},\n",
       "  {'strDrink': 'Abbey Martini',\n",
       "   'strDrinkThumb': 'https://www.thecocktaildb.com/images/media/drink/2mcozt1504817403.jpg',\n",
       "   'idDrink': '17223'},\n",
       "  {'strDrink': 'Absolut Summertime',\n",
       "   'strDrinkThumb': 'https://www.thecocktaildb.com/images/media/drink/trpxxs1472669662.jpg',\n",
       "   'idDrink': '14107'},\n",
       "  {'strDrink': 'Absolutely Fabulous',\n",
       "   'strDrinkThumb': 'https://www.thecocktaildb.com/images/media/drink/abcpwr1504817734.jpg',\n",
       "   'idDrink': '17224'},\n",
       "  {'strDrink': 'Absolutly Screwed Up',\n",
       "   'strDrinkThumb': 'https://www.thecocktaildb.com/images/media/drink/yvxrwv1472669728.jpg',\n",
       "   'idDrink': '16134'},\n",
       "  {'strDrink': 'Ace',\n",
       "   'strDrinkThumb': 'https://www.thecocktaildb.com/images/media/drink/l3cd7f1504818306.jpg',\n",
       "   'idDrink': '17225'},\n",
       "  {'strDrink': 'Adam & Eve',\n",
       "   'strDrinkThumb': 'https://www.thecocktaildb.com/images/media/drink/vfeumw1504819077.jpg',\n",
       "   'idDrink': '17226'},\n",
       "  {'strDrink': 'Addington',\n",
       "   'strDrinkThumb': 'https://www.thecocktaildb.com/images/media/drink/ib0b7g1504818925.jpg',\n",
       "   'idDrink': '17227'},\n",
       "  {'strDrink': 'Addison',\n",
       "   'strDrinkThumb': 'https://www.thecocktaildb.com/images/media/drink/yzva7x1504820300.jpg',\n",
       "   'idDrink': '17228'},\n",
       "  {'strDrink': 'Addison Special',\n",
       "   'strDrinkThumb': 'https://www.thecocktaildb.com/images/media/drink/4vo5651493068493.jpg',\n",
       "   'idDrink': '14272'},\n",
       "  {'strDrink': 'Adios Amigos Cocktail',\n",
       "   'strDrinkThumb': 'https://www.thecocktaildb.com/images/media/drink/8nk2mp1504819893.jpg',\n",
       "   'idDrink': '17229'},\n",
       "  {'strDrink': 'Afterglow',\n",
       "   'strDrinkThumb': 'https://www.thecocktaildb.com/images/media/drink/vuquyv1468876052.jpg',\n",
       "   'idDrink': '12560'},\n",
       "  {'strDrink': 'Alice Cocktail',\n",
       "   'strDrinkThumb': 'https://www.thecocktaildb.com/images/media/drink/qyqtpv1468876144.jpg',\n",
       "   'idDrink': '12562'},\n",
       "  {'strDrink': 'Amaretto fizz',\n",
       "   'strDrinkThumb': 'https://www.thecocktaildb.com/images/media/drink/92h3jz1582474310.jpg',\n",
       "   'idDrink': '178321'},\n",
       "  {'strDrink': 'Aperol Spritz',\n",
       "   'strDrinkThumb': 'https://www.thecocktaildb.com/images/media/drink/iloasq1587661955.jpg',\n",
       "   'idDrink': '178325'},\n",
       "  {'strDrink': 'Apple Highball',\n",
       "   'strDrinkThumb': 'https://www.thecocktaildb.com/images/media/drink/66mt9b1619695719.jpg',\n",
       "   'idDrink': '178353'},\n",
       "  {'strDrink': 'Apple Karate',\n",
       "   'strDrinkThumb': 'https://www.thecocktaildb.com/images/media/drink/syusvw1468876634.jpg',\n",
       "   'idDrink': '12564'},\n",
       "  {'strDrink': 'Applejack',\n",
       "   'strDrinkThumb': 'https://www.thecocktaildb.com/images/media/drink/sutyqp1479209062.jpg',\n",
       "   'idDrink': '16311'},\n",
       "  {'strDrink': 'Aquamarine',\n",
       "   'strDrinkThumb': 'https://www.thecocktaildb.com/images/media/drink/zvsre31572902738.jpg',\n",
       "   'idDrink': '178319'},\n",
       "  {'strDrink': 'Arizona Stingers',\n",
       "   'strDrinkThumb': 'https://www.thecocktaildb.com/images/media/drink/y7w0721493068255.jpg',\n",
       "   'idDrink': '14584'},\n",
       "  {'strDrink': 'Arizona Twister',\n",
       "   'strDrinkThumb': 'https://www.thecocktaildb.com/images/media/drink/ido1j01493068134.jpg',\n",
       "   'idDrink': '17074'},\n",
       "  {'strDrink': 'Army special',\n",
       "   'strDrinkThumb': 'https://www.thecocktaildb.com/images/media/drink/55muhh1493068062.jpg',\n",
       "   'idDrink': '17066'},\n",
       "  {'strDrink': 'Autumn Garibaldi',\n",
       "   'strDrinkThumb': 'https://www.thecocktaildb.com/images/media/drink/ne7re71604179012.jpg',\n",
       "   'idDrink': '178337'},\n",
       "  {'strDrink': 'Aviation',\n",
       "   'strDrinkThumb': 'https://www.thecocktaildb.com/images/media/drink/trbplb1606855233.jpg',\n",
       "   'idDrink': '17180'},\n",
       "  {'strDrink': 'Bahama Mama',\n",
       "   'strDrinkThumb': 'https://www.thecocktaildb.com/images/media/drink/tyb4a41515793339.jpg',\n",
       "   'idDrink': '17267'},\n",
       "  {'strDrink': 'Banana Cream Pi',\n",
       "   'strDrinkThumb': 'https://www.thecocktaildb.com/images/media/drink/m5p67n1582474609.jpg',\n",
       "   'idDrink': '178320'},\n",
       "  {'strDrink': \"Bee's Knees\",\n",
       "   'strDrinkThumb': 'https://www.thecocktaildb.com/images/media/drink/tx8ne41582475326.jpg',\n",
       "   'idDrink': '178317'},\n",
       "  {'strDrink': 'Bijou',\n",
       "   'strDrinkThumb': 'https://www.thecocktaildb.com/images/media/drink/rysb3r1513706985.jpg',\n",
       "   'idDrink': '17254'},\n",
       "  {'strDrink': 'Blue Hurricane',\n",
       "   'strDrinkThumb': 'https://www.thecocktaildb.com/images/media/drink/nwx02s1515795822.jpg',\n",
       "   'idDrink': '17268'},\n",
       "  {'strDrink': 'Blueberry Mojito',\n",
       "   'strDrinkThumb': 'https://www.thecocktaildb.com/images/media/drink/07iep51598719977.jpg',\n",
       "   'idDrink': '178336'},\n",
       "  {'strDrink': 'Bombay Cassis',\n",
       "   'strDrinkThumb': 'https://www.thecocktaildb.com/images/media/drink/h1e0e51510136907.jpg',\n",
       "   'idDrink': '17242'},\n",
       "  {'strDrink': 'Bora Bora',\n",
       "   'strDrinkThumb': 'https://www.thecocktaildb.com/images/media/drink/xwuqvw1473201811.jpg',\n",
       "   'idDrink': '12572'},\n",
       "  {'strDrink': 'Boulevardier',\n",
       "   'strDrinkThumb': 'https://www.thecocktaildb.com/images/media/drink/km84qi1513705868.jpg',\n",
       "   'idDrink': '17251'},\n",
       "  {'strDrink': 'Bounty Hunter',\n",
       "   'strDrinkThumb': 'https://www.thecocktaildb.com/images/media/drink/t8bgxl1596018175.jpg',\n",
       "   'idDrink': '178331'},\n",
       "  {'strDrink': 'Brigadier',\n",
       "   'strDrinkThumb': 'https://www.thecocktaildb.com/images/media/drink/nl89tf1518947401.jpg',\n",
       "   'idDrink': '17825'},\n",
       "  {'strDrink': 'Broadside',\n",
       "   'strDrinkThumb': 'https://www.thecocktaildb.com/images/media/drink/l2o6xu1582476870.jpg',\n",
       "   'idDrink': '178311'},\n",
       "  {'strDrink': 'Brooklyn',\n",
       "   'strDrinkThumb': 'https://www.thecocktaildb.com/images/media/drink/ojsezf1582477277.jpg',\n",
       "   'idDrink': '178310'},\n",
       "  {'strDrink': 'Butterfly Effect',\n",
       "   'strDrinkThumb': 'https://www.thecocktaildb.com/images/media/drink/ht3hnk1619704289.jpg',\n",
       "   'idDrink': '178356'},\n",
       "  {'strDrink': \"Captain Kidd's Punch\",\n",
       "   'strDrinkThumb': 'https://www.thecocktaildb.com/images/media/drink/d83spj1596017390.jpg',\n",
       "   'idDrink': '178329'},\n",
       "  {'strDrink': 'Cherry Electric Lemonade',\n",
       "   'strDrinkThumb': 'https://www.thecocktaildb.com/images/media/drink/tquyyt1451299548.jpg',\n",
       "   'idDrink': '17174'},\n",
       "  {'strDrink': 'Cocktail Horse’s Neck',\n",
       "   'strDrinkThumb': 'https://www.thecocktaildb.com/images/media/drink/4vobt21643844913.jpg',\n",
       "   'idDrink': '178369'},\n",
       "  {'strDrink': 'Corn n Oil',\n",
       "   'strDrinkThumb': 'https://www.thecocktaildb.com/images/media/drink/pk6dwi1592767243.jpg',\n",
       "   'idDrink': '17830'},\n",
       "  {'strDrink': 'Corpse Reviver',\n",
       "   'strDrinkThumb': 'https://www.thecocktaildb.com/images/media/drink/gifgao1513704334.jpg',\n",
       "   'idDrink': '17250'},\n",
       "  {'strDrink': 'Cosmopolitan',\n",
       "   'strDrinkThumb': 'https://www.thecocktaildb.com/images/media/drink/kpsajh1504368362.jpg',\n",
       "   'idDrink': '17196'},\n",
       "  {'strDrink': 'Cosmopolitan Martini',\n",
       "   'strDrinkThumb': 'https://www.thecocktaildb.com/images/media/drink/upxxpq1439907580.jpg',\n",
       "   'idDrink': '14133'},\n",
       "  {'strDrink': 'Cream Soda',\n",
       "   'strDrinkThumb': 'https://www.thecocktaildb.com/images/media/drink/yqstxr1479209367.jpg',\n",
       "   'idDrink': '14608'},\n",
       "  {'strDrink': 'Dark Caipirinha',\n",
       "   'strDrinkThumb': 'https://www.thecocktaildb.com/images/media/drink/uwstrx1472406058.jpg',\n",
       "   'idDrink': '17177'},\n",
       "  {'strDrink': 'Death in the Afternoon',\n",
       "   'strDrinkThumb': 'https://www.thecocktaildb.com/images/media/drink/y7s3rh1598719574.jpg',\n",
       "   'idDrink': '178334'},\n",
       "  {'strDrink': 'Dirty Martini',\n",
       "   'strDrinkThumb': 'https://www.thecocktaildb.com/images/media/drink/vcyvpq1485083300.jpg',\n",
       "   'idDrink': '17181'},\n",
       "  {'strDrink': 'Dry Martini',\n",
       "   'strDrinkThumb': 'https://www.thecocktaildb.com/images/media/drink/6ck9yi1589574317.jpg',\n",
       "   'idDrink': '11005'},\n",
       "  {'strDrink': \"Duchamp's Punch\",\n",
       "   'strDrinkThumb': 'https://www.thecocktaildb.com/images/media/drink/g51naw1485084685.jpg',\n",
       "   'idDrink': '17182'},\n",
       "  {'strDrink': 'Elderflower Caipirinha',\n",
       "   'strDrinkThumb': 'https://www.thecocktaildb.com/images/media/drink/dif7a31614006331.jpg',\n",
       "   'idDrink': '178346'},\n",
       "  {'strDrink': \"Empellón Cocina's Fat-Washed Mezcal\",\n",
       "   'strDrinkThumb': 'https://www.thecocktaildb.com/images/media/drink/osgvxt1513595509.jpg',\n",
       "   'idDrink': '17246'},\n",
       "  {'strDrink': 'Espresso Martini',\n",
       "   'strDrinkThumb': 'https://www.thecocktaildb.com/images/media/drink/n0sx531504372951.jpg',\n",
       "   'idDrink': '17212'},\n",
       "  {'strDrink': 'Espresso Rumtini',\n",
       "   'strDrinkThumb': 'https://www.thecocktaildb.com/images/media/drink/acvf171561574403.jpg',\n",
       "   'idDrink': '178309'},\n",
       "  {'strDrink': 'Figgy Thyme',\n",
       "   'strDrinkThumb': 'https://www.thecocktaildb.com/images/media/drink/pbw4e51606766578.jpg',\n",
       "   'idDrink': '178344'},\n",
       "  {'strDrink': 'Flaming Lamborghini',\n",
       "   'strDrinkThumb': 'https://www.thecocktaildb.com/images/media/drink/yywpss1461866587.jpg',\n",
       "   'idDrink': '16485'},\n",
       "  {'strDrink': 'French Martini',\n",
       "   'strDrinkThumb': 'https://www.thecocktaildb.com/images/media/drink/clth721504373134.jpg',\n",
       "   'idDrink': '17213'},\n",
       "  {'strDrink': 'French Negroni',\n",
       "   'strDrinkThumb': 'https://www.thecocktaildb.com/images/media/drink/x8lhp41513703167.jpg',\n",
       "   'idDrink': '17248'},\n",
       "  {'strDrink': 'Frosé',\n",
       "   'strDrinkThumb': 'https://www.thecocktaildb.com/images/media/drink/b4cadp1619695347.jpg',\n",
       "   'idDrink': '178352'},\n",
       "  {'strDrink': 'Funk and Soul',\n",
       "   'strDrinkThumb': 'https://www.thecocktaildb.com/images/media/drink/qtv83q1596015790.jpg',\n",
       "   'idDrink': '178328'},\n",
       "  {'strDrink': 'Gagliardo',\n",
       "   'strDrinkThumb': 'https://www.thecocktaildb.com/images/media/drink/lyloe91487602877.jpg',\n",
       "   'idDrink': '12758'},\n",
       "  {'strDrink': 'Garibaldi Negroni',\n",
       "   'strDrinkThumb': 'https://www.thecocktaildb.com/images/media/drink/kb4bjg1604179771.jpg',\n",
       "   'idDrink': '178340'},\n",
       "  {'strDrink': 'Gimlet',\n",
       "   'strDrinkThumb': 'https://www.thecocktaildb.com/images/media/drink/3xgldt1513707271.jpg',\n",
       "   'idDrink': '17255'},\n",
       "  {'strDrink': 'Gin and Soda',\n",
       "   'strDrinkThumb': 'https://www.thecocktaildb.com/images/media/drink/nzlyc81605905755.jpg',\n",
       "   'idDrink': '178342'},\n",
       "  {'strDrink': 'Gin Basil Smash',\n",
       "   'strDrinkThumb': 'https://www.thecocktaildb.com/images/media/drink/jqh2141572807327.jpg',\n",
       "   'idDrink': '178314'},\n",
       "  {'strDrink': 'Gin Lemon',\n",
       "   'strDrinkThumb': 'https://www.thecocktaildb.com/images/media/drink/yhzvk91643821739.jpg',\n",
       "   'idDrink': '178366'},\n",
       "  {'strDrink': 'Gin Rickey',\n",
       "   'strDrinkThumb': 'https://www.thecocktaildb.com/images/media/drink/s00d6f1504883945.jpg',\n",
       "   'idDrink': '17230'},\n",
       "  {'strDrink': 'Gin Tonic',\n",
       "   'strDrinkThumb': 'https://www.thecocktaildb.com/images/media/drink/qcgz0t1643821443.jpg',\n",
       "   'idDrink': '178365'},\n",
       "  {'strDrink': 'Greyhound',\n",
       "   'strDrinkThumb': 'https://www.thecocktaildb.com/images/media/drink/g5upn41513706732.jpg',\n",
       "   'idDrink': '17252'},\n",
       "  {'strDrink': 'Honey Bee',\n",
       "   'strDrinkThumb': 'https://www.thecocktaildb.com/images/media/drink/vu8l7t1582475673.jpg',\n",
       "   'idDrink': '178316'},\n",
       "  {'strDrink': 'Hot Toddy',\n",
       "   'strDrinkThumb': 'https://www.thecocktaildb.com/images/media/drink/ggx0lv1613942306.jpg',\n",
       "   'idDrink': '178345'},\n",
       "  {'strDrink': \"Hunter's Moon\",\n",
       "   'strDrinkThumb': 'https://www.thecocktaildb.com/images/media/drink/t0iugg1509556712.jpg',\n",
       "   'idDrink': '17239'},\n",
       "  {'strDrink': 'Imperial Cocktail',\n",
       "   'strDrinkThumb': 'https://www.thecocktaildb.com/images/media/drink/bcsj2e1487603625.jpg',\n",
       "   'idDrink': '12706'},\n",
       "  {'strDrink': 'Irish Curdling Cow',\n",
       "   'strDrinkThumb': 'https://www.thecocktaildb.com/images/media/drink/yrhutv1503563730.jpg',\n",
       "   'idDrink': '16987'},\n",
       "  {'strDrink': 'Jitterbug',\n",
       "   'strDrinkThumb': 'https://www.thecocktaildb.com/images/media/drink/wwqvrq1441245318.jpg',\n",
       "   'idDrink': '16178'},\n",
       "  {'strDrink': 'Kiwi Martini',\n",
       "   'strDrinkThumb': 'https://www.thecocktaildb.com/images/media/drink/bmxmyq1630407098.jpg',\n",
       "   'idDrink': '178359'},\n",
       "  {'strDrink': 'Lazy Coconut Paloma',\n",
       "   'strDrinkThumb': 'https://www.thecocktaildb.com/images/media/drink/rytuex1598719770.jpg',\n",
       "   'idDrink': '178335'},\n",
       "  {'strDrink': 'Lemon Drop',\n",
       "   'strDrinkThumb': 'https://www.thecocktaildb.com/images/media/drink/mtpxgk1504373297.jpg',\n",
       "   'idDrink': '14366'},\n",
       "  {'strDrink': 'Lemon Elderflower Spritzer',\n",
       "   'strDrinkThumb': 'https://www.thecocktaildb.com/images/media/drink/125w0o1630407389.jpg',\n",
       "   'idDrink': '178360'},\n",
       "  {'strDrink': 'Malibu Twister',\n",
       "   'strDrinkThumb': 'https://www.thecocktaildb.com/images/media/drink/2dwae41504885321.jpg',\n",
       "   'idDrink': '15224'},\n",
       "  {'strDrink': 'Mango Mojito',\n",
       "   'strDrinkThumb': 'https://www.thecocktaildb.com/images/media/drink/wfqmgm1630406820.jpg',\n",
       "   'idDrink': '178358'},\n",
       "  {'strDrink': 'Manhattan',\n",
       "   'strDrinkThumb': 'https://www.thecocktaildb.com/images/media/drink/yk70e31606771240.jpg',\n",
       "   'idDrink': '11008'},\n",
       "  {'strDrink': 'Martinez 2',\n",
       "   'strDrinkThumb': 'https://www.thecocktaildb.com/images/media/drink/fs6kiq1513708455.jpg',\n",
       "   'idDrink': '17256'},\n",
       "  {'strDrink': 'Martinez Cocktail',\n",
       "   'strDrinkThumb': 'https://www.thecocktaildb.com/images/media/drink/wwxwvr1439906452.jpg',\n",
       "   'idDrink': '11720'},\n",
       "  {'strDrink': 'Martini',\n",
       "   'strDrinkThumb': 'https://www.thecocktaildb.com/images/media/drink/71t8581504353095.jpg',\n",
       "   'idDrink': '11728'},\n",
       "  {'strDrink': 'Mary Pickford',\n",
       "   'strDrinkThumb': 'https://www.thecocktaildb.com/images/media/drink/f9erqb1504350557.jpg',\n",
       "   'idDrink': '17188'},\n",
       "  {'strDrink': 'Miami Vice',\n",
       "   'strDrinkThumb': 'https://www.thecocktaildb.com/images/media/drink/qvuyqw1441208955.jpg',\n",
       "   'idDrink': '13936'},\n",
       "  {'strDrink': 'Michelada',\n",
       "   'strDrinkThumb': 'https://www.thecocktaildb.com/images/media/drink/u736bd1605907086.jpg',\n",
       "   'idDrink': '178343'},\n",
       "  {'strDrink': 'Midnight Mint',\n",
       "   'strDrinkThumb': 'https://www.thecocktaildb.com/images/media/drink/svuvrq1441208310.jpg',\n",
       "   'idDrink': '14842'},\n",
       "  {'strDrink': 'Mojito',\n",
       "   'strDrinkThumb': 'https://www.thecocktaildb.com/images/media/drink/metwgh1606770327.jpg',\n",
       "   'idDrink': '11000'},\n",
       "  {'strDrink': 'Mojito Extra',\n",
       "   'strDrinkThumb': 'https://www.thecocktaildb.com/images/media/drink/vwxrsw1478251483.jpg',\n",
       "   'idDrink': '15841'},\n",
       "  {'strDrink': 'Mountain Bramble',\n",
       "   'strDrinkThumb': 'https://www.thecocktaildb.com/images/media/drink/stwiva1619704025.jpg',\n",
       "   'idDrink': '178355'}]}"
      ]
     },
     "execution_count": 7,
     "metadata": {},
     "output_type": "execute_result"
    }
   ],
   "source": [
    "my_json"
   ]
  },
  {
   "cell_type": "code",
   "execution_count": 9,
   "metadata": {},
   "outputs": [],
   "source": [
    "#my_json['drinks']"
   ]
  },
  {
   "cell_type": "code",
   "execution_count": 11,
   "metadata": {},
   "outputs": [
    {
     "data": {
      "text/html": [
       "<div>\n",
       "<style scoped>\n",
       "    .dataframe tbody tr th:only-of-type {\n",
       "        vertical-align: middle;\n",
       "    }\n",
       "\n",
       "    .dataframe tbody tr th {\n",
       "        vertical-align: top;\n",
       "    }\n",
       "\n",
       "    .dataframe thead th {\n",
       "        text-align: right;\n",
       "    }\n",
       "</style>\n",
       "<table border=\"1\" class=\"dataframe\">\n",
       "  <thead>\n",
       "    <tr style=\"text-align: right;\">\n",
       "      <th></th>\n",
       "      <th>strDrink</th>\n",
       "      <th>strDrinkThumb</th>\n",
       "      <th>idDrink</th>\n",
       "    </tr>\n",
       "  </thead>\n",
       "  <tbody>\n",
       "    <tr>\n",
       "      <th>0</th>\n",
       "      <td>155 Belmont</td>\n",
       "      <td>https://www.thecocktaildb.com/images/media/dri...</td>\n",
       "      <td>15346</td>\n",
       "    </tr>\n",
       "    <tr>\n",
       "      <th>1</th>\n",
       "      <td>57 Chevy with a White License Plate</td>\n",
       "      <td>https://www.thecocktaildb.com/images/media/dri...</td>\n",
       "      <td>14029</td>\n",
       "    </tr>\n",
       "    <tr>\n",
       "      <th>2</th>\n",
       "      <td>747 Drink</td>\n",
       "      <td>https://www.thecocktaildb.com/images/media/dri...</td>\n",
       "      <td>178318</td>\n",
       "    </tr>\n",
       "    <tr>\n",
       "      <th>3</th>\n",
       "      <td>9 1/2 Weeks</td>\n",
       "      <td>https://www.thecocktaildb.com/images/media/dri...</td>\n",
       "      <td>16108</td>\n",
       "    </tr>\n",
       "    <tr>\n",
       "      <th>4</th>\n",
       "      <td>A Gilligan's Island</td>\n",
       "      <td>https://www.thecocktaildb.com/images/media/dri...</td>\n",
       "      <td>16943</td>\n",
       "    </tr>\n",
       "  </tbody>\n",
       "</table>\n",
       "</div>"
      ],
      "text/plain": [
       "                              strDrink  \\\n",
       "0                          155 Belmont   \n",
       "1  57 Chevy with a White License Plate   \n",
       "2                            747 Drink   \n",
       "3                          9 1/2 Weeks   \n",
       "4                  A Gilligan's Island   \n",
       "\n",
       "                                       strDrinkThumb idDrink  \n",
       "0  https://www.thecocktaildb.com/images/media/dri...   15346  \n",
       "1  https://www.thecocktaildb.com/images/media/dri...   14029  \n",
       "2  https://www.thecocktaildb.com/images/media/dri...  178318  \n",
       "3  https://www.thecocktaildb.com/images/media/dri...   16108  \n",
       "4  https://www.thecocktaildb.com/images/media/dri...   16943  "
      ]
     },
     "execution_count": 11,
     "metadata": {},
     "output_type": "execute_result"
    }
   ],
   "source": [
    "cocktail_df = pd.json_normalize(my_json, record_path=['drinks'])\n",
    "cocktail_df.head()"
   ]
  },
  {
   "cell_type": "code",
   "execution_count": 13,
   "metadata": {},
   "outputs": [
    {
     "data": {
      "text/plain": [
       "0     15346\n",
       "1     14029\n",
       "2    178318\n",
       "3     16108\n",
       "4     16943\n",
       "Name: idDrink, dtype: object"
      ]
     },
     "execution_count": 13,
     "metadata": {},
     "output_type": "execute_result"
    }
   ],
   "source": [
    "cocktail_df.idDrink.head()"
   ]
  },
  {
   "cell_type": "code",
   "execution_count": 17,
   "metadata": {},
   "outputs": [
    {
     "ename": "AttributeError",
     "evalue": "'str' object has no attribute 'text'",
     "output_type": "error",
     "traceback": [
      "\u001b[0;31m---------------------------------------------------------------------------\u001b[0m",
      "\u001b[0;31mAttributeError\u001b[0m                            Traceback (most recent call last)",
      "\u001b[0;32m<ipython-input-17-75e05b30a602>\u001b[0m in \u001b[0;36m<module>\u001b[0;34m\u001b[0m\n\u001b[1;32m      1\u001b[0m \u001b[0mrr\u001b[0m \u001b[0;34m=\u001b[0m \u001b[0murl2\u001b[0m \u001b[0;34m=\u001b[0m \u001b[0;34m(\u001b[0m\u001b[0;34m'https://openlibrary.org/authors/OL23919A/works.json'\u001b[0m\u001b[0;34m)\u001b[0m\u001b[0;34m\u001b[0m\u001b[0;34m\u001b[0m\u001b[0m\n\u001b[0;32m----> 2\u001b[0;31m \u001b[0mother_json\u001b[0m \u001b[0;34m=\u001b[0m \u001b[0mjson\u001b[0m\u001b[0;34m.\u001b[0m\u001b[0mloads\u001b[0m\u001b[0;34m(\u001b[0m\u001b[0mrr\u001b[0m\u001b[0;34m.\u001b[0m\u001b[0mtext\u001b[0m\u001b[0;34m)\u001b[0m\u001b[0;34m\u001b[0m\u001b[0;34m\u001b[0m\u001b[0m\n\u001b[0m",
      "\u001b[0;31mAttributeError\u001b[0m: 'str' object has no attribute 'text'"
     ]
    }
   ],
   "source": [
    "\n",
    "\n",
    "rr = url2 = ('https://openlibrary.org/authors/OL23919A/works.json')\n",
    "other_json = json.loads(rr.text)"
   ]
  },
  {
   "cell_type": "code",
   "execution_count": 18,
   "metadata": {},
   "outputs": [
    {
     "ename": "KeyError",
     "evalue": "\"Key 'entries' not found. If specifying a record_path, all elements of data should have the path.\"",
     "output_type": "error",
     "traceback": [
      "\u001b[0;31m---------------------------------------------------------------------------\u001b[0m",
      "\u001b[0;31mKeyError\u001b[0m                                  Traceback (most recent call last)",
      "\u001b[0;32m~/opt/anaconda3/lib/python3.8/site-packages/pandas/io/json/_normalize.py\u001b[0m in \u001b[0;36m_pull_field\u001b[0;34m(js, spec, extract_record)\u001b[0m\n\u001b[1;32m    395\u001b[0m             \u001b[0;32melse\u001b[0m\u001b[0;34m:\u001b[0m\u001b[0;34m\u001b[0m\u001b[0;34m\u001b[0m\u001b[0m\n\u001b[0;32m--> 396\u001b[0;31m                 \u001b[0mresult\u001b[0m \u001b[0;34m=\u001b[0m \u001b[0mresult\u001b[0m\u001b[0;34m[\u001b[0m\u001b[0mspec\u001b[0m\u001b[0;34m]\u001b[0m\u001b[0;34m\u001b[0m\u001b[0;34m\u001b[0m\u001b[0m\n\u001b[0m\u001b[1;32m    397\u001b[0m         \u001b[0;32mexcept\u001b[0m \u001b[0mKeyError\u001b[0m \u001b[0;32mas\u001b[0m \u001b[0me\u001b[0m\u001b[0;34m:\u001b[0m\u001b[0;34m\u001b[0m\u001b[0;34m\u001b[0m\u001b[0m\n",
      "\u001b[0;31mKeyError\u001b[0m: 'entries'",
      "\nThe above exception was the direct cause of the following exception:\n",
      "\u001b[0;31mKeyError\u001b[0m                                  Traceback (most recent call last)",
      "\u001b[0;32m<ipython-input-18-4c973b1a965c>\u001b[0m in \u001b[0;36m<module>\u001b[0;34m\u001b[0m\n\u001b[0;32m----> 1\u001b[0;31m \u001b[0mdf2\u001b[0m \u001b[0;34m=\u001b[0m \u001b[0mpd\u001b[0m\u001b[0;34m.\u001b[0m\u001b[0mjson_normalize\u001b[0m\u001b[0;34m(\u001b[0m\u001b[0mmy_json\u001b[0m\u001b[0;34m,\u001b[0m \u001b[0mrecord_path\u001b[0m\u001b[0;34m=\u001b[0m\u001b[0;34m[\u001b[0m\u001b[0;34m'entries'\u001b[0m\u001b[0;34m]\u001b[0m\u001b[0;34m)\u001b[0m\u001b[0;34m\u001b[0m\u001b[0;34m\u001b[0m\u001b[0m\n\u001b[0m",
      "\u001b[0;32m~/opt/anaconda3/lib/python3.8/site-packages/pandas/io/json/_normalize.py\u001b[0m in \u001b[0;36m_json_normalize\u001b[0;34m(data, record_path, meta, meta_prefix, record_prefix, errors, sep, max_level)\u001b[0m\n\u001b[1;32m    513\u001b[0m                 \u001b[0mrecords\u001b[0m\u001b[0;34m.\u001b[0m\u001b[0mextend\u001b[0m\u001b[0;34m(\u001b[0m\u001b[0mrecs\u001b[0m\u001b[0;34m)\u001b[0m\u001b[0;34m\u001b[0m\u001b[0;34m\u001b[0m\u001b[0m\n\u001b[1;32m    514\u001b[0m \u001b[0;34m\u001b[0m\u001b[0m\n\u001b[0;32m--> 515\u001b[0;31m     \u001b[0m_recursive_extract\u001b[0m\u001b[0;34m(\u001b[0m\u001b[0mdata\u001b[0m\u001b[0;34m,\u001b[0m \u001b[0mrecord_path\u001b[0m\u001b[0;34m,\u001b[0m \u001b[0;34m{\u001b[0m\u001b[0;34m}\u001b[0m\u001b[0;34m,\u001b[0m \u001b[0mlevel\u001b[0m\u001b[0;34m=\u001b[0m\u001b[0;36m0\u001b[0m\u001b[0;34m)\u001b[0m\u001b[0;34m\u001b[0m\u001b[0;34m\u001b[0m\u001b[0m\n\u001b[0m\u001b[1;32m    516\u001b[0m \u001b[0;34m\u001b[0m\u001b[0m\n\u001b[1;32m    517\u001b[0m     \u001b[0mresult\u001b[0m \u001b[0;34m=\u001b[0m \u001b[0mDataFrame\u001b[0m\u001b[0;34m(\u001b[0m\u001b[0mrecords\u001b[0m\u001b[0;34m)\u001b[0m\u001b[0;34m\u001b[0m\u001b[0;34m\u001b[0m\u001b[0m\n",
      "\u001b[0;32m~/opt/anaconda3/lib/python3.8/site-packages/pandas/io/json/_normalize.py\u001b[0m in \u001b[0;36m_recursive_extract\u001b[0;34m(data, path, seen_meta, level)\u001b[0m\n\u001b[1;32m    495\u001b[0m         \u001b[0;32melse\u001b[0m\u001b[0;34m:\u001b[0m\u001b[0;34m\u001b[0m\u001b[0;34m\u001b[0m\u001b[0m\n\u001b[1;32m    496\u001b[0m             \u001b[0;32mfor\u001b[0m \u001b[0mobj\u001b[0m \u001b[0;32min\u001b[0m \u001b[0mdata\u001b[0m\u001b[0;34m:\u001b[0m\u001b[0;34m\u001b[0m\u001b[0;34m\u001b[0m\u001b[0m\n\u001b[0;32m--> 497\u001b[0;31m                 \u001b[0mrecs\u001b[0m \u001b[0;34m=\u001b[0m \u001b[0m_pull_records\u001b[0m\u001b[0;34m(\u001b[0m\u001b[0mobj\u001b[0m\u001b[0;34m,\u001b[0m \u001b[0mpath\u001b[0m\u001b[0;34m[\u001b[0m\u001b[0;36m0\u001b[0m\u001b[0;34m]\u001b[0m\u001b[0;34m)\u001b[0m\u001b[0;34m\u001b[0m\u001b[0;34m\u001b[0m\u001b[0m\n\u001b[0m\u001b[1;32m    498\u001b[0m                 recs = [\n\u001b[1;32m    499\u001b[0m                     \u001b[0mnested_to_record\u001b[0m\u001b[0;34m(\u001b[0m\u001b[0mr\u001b[0m\u001b[0;34m,\u001b[0m \u001b[0msep\u001b[0m\u001b[0;34m=\u001b[0m\u001b[0msep\u001b[0m\u001b[0;34m,\u001b[0m \u001b[0mmax_level\u001b[0m\u001b[0;34m=\u001b[0m\u001b[0mmax_level\u001b[0m\u001b[0;34m)\u001b[0m\u001b[0;34m\u001b[0m\u001b[0;34m\u001b[0m\u001b[0m\n",
      "\u001b[0;32m~/opt/anaconda3/lib/python3.8/site-packages/pandas/io/json/_normalize.py\u001b[0m in \u001b[0;36m_pull_records\u001b[0;34m(js, spec)\u001b[0m\n\u001b[1;32m    417\u001b[0m         \u001b[0;32mif\u001b[0m \u001b[0mhas\u001b[0m \u001b[0mnon\u001b[0m \u001b[0miterable\u001b[0m \u001b[0mvalue\u001b[0m\u001b[0;34m.\u001b[0m\u001b[0;34m\u001b[0m\u001b[0;34m\u001b[0m\u001b[0m\n\u001b[1;32m    418\u001b[0m         \"\"\"\n\u001b[0;32m--> 419\u001b[0;31m         \u001b[0mresult\u001b[0m \u001b[0;34m=\u001b[0m \u001b[0m_pull_field\u001b[0m\u001b[0;34m(\u001b[0m\u001b[0mjs\u001b[0m\u001b[0;34m,\u001b[0m \u001b[0mspec\u001b[0m\u001b[0;34m,\u001b[0m \u001b[0mextract_record\u001b[0m\u001b[0;34m=\u001b[0m\u001b[0;32mTrue\u001b[0m\u001b[0;34m)\u001b[0m\u001b[0;34m\u001b[0m\u001b[0;34m\u001b[0m\u001b[0m\n\u001b[0m\u001b[1;32m    420\u001b[0m \u001b[0;34m\u001b[0m\u001b[0m\n\u001b[1;32m    421\u001b[0m         \u001b[0;31m# GH 31507 GH 30145, GH 26284 if result is not list, raise TypeError if not\u001b[0m\u001b[0;34m\u001b[0m\u001b[0;34m\u001b[0m\u001b[0;34m\u001b[0m\u001b[0m\n",
      "\u001b[0;32m~/opt/anaconda3/lib/python3.8/site-packages/pandas/io/json/_normalize.py\u001b[0m in \u001b[0;36m_pull_field\u001b[0;34m(js, spec, extract_record)\u001b[0m\n\u001b[1;32m    397\u001b[0m         \u001b[0;32mexcept\u001b[0m \u001b[0mKeyError\u001b[0m \u001b[0;32mas\u001b[0m \u001b[0me\u001b[0m\u001b[0;34m:\u001b[0m\u001b[0;34m\u001b[0m\u001b[0;34m\u001b[0m\u001b[0m\n\u001b[1;32m    398\u001b[0m             \u001b[0;32mif\u001b[0m \u001b[0mextract_record\u001b[0m\u001b[0;34m:\u001b[0m\u001b[0;34m\u001b[0m\u001b[0;34m\u001b[0m\u001b[0m\n\u001b[0;32m--> 399\u001b[0;31m                 raise KeyError(\n\u001b[0m\u001b[1;32m    400\u001b[0m                     \u001b[0;34mf\"Key {e} not found. If specifying a record_path, all elements of \"\u001b[0m\u001b[0;34m\u001b[0m\u001b[0;34m\u001b[0m\u001b[0m\n\u001b[1;32m    401\u001b[0m                     \u001b[0;34mf\"data should have the path.\"\u001b[0m\u001b[0;34m\u001b[0m\u001b[0;34m\u001b[0m\u001b[0m\n",
      "\u001b[0;31mKeyError\u001b[0m: \"Key 'entries' not found. If specifying a record_path, all elements of data should have the path.\""
     ]
    }
   ],
   "source": [
    "df2 = pd.json_normalize(my_json, record_path=['entries'])"
   ]
  },
  {
   "cell_type": "code",
   "execution_count": 21,
   "metadata": {},
   "outputs": [],
   "source": [
    "x = [1, 2, 3, 4, 5]"
   ]
  },
  {
   "cell_type": "code",
   "execution_count": 23,
   "metadata": {},
   "outputs": [
    {
     "data": {
      "text/plain": [
       "[0, 3, 8, 15, 24]"
      ]
     },
     "execution_count": 23,
     "metadata": {},
     "output_type": "execute_result"
    }
   ],
   "source": [
    "[j ** 2 - 1 for j in x]"
   ]
  },
  {
   "cell_type": "code",
   "execution_count": 25,
   "metadata": {},
   "outputs": [
    {
     "ename": "TypeError",
     "evalue": "'dict' object is not callable",
     "output_type": "error",
     "traceback": [
      "\u001b[0;31m---------------------------------------------------------------------------\u001b[0m",
      "\u001b[0;31mTypeError\u001b[0m                                 Traceback (most recent call last)",
      "\u001b[0;32m<ipython-input-25-48260d0cbd31>\u001b[0m in \u001b[0;36m<module>\u001b[0;34m\u001b[0m\n\u001b[0;32m----> 1\u001b[0;31m \u001b[0;34m[\u001b[0m\u001b[0mj\u001b[0m \u001b[0;32mfor\u001b[0m \u001b[0mi\u001b[0m \u001b[0;32min\u001b[0m \u001b[0mmy_json\u001b[0m\u001b[0;34m(\u001b[0m\u001b[0;34m'entries'\u001b[0m\u001b[0;34m)\u001b[0m\u001b[0;34m]\u001b[0m\u001b[0;34m\u001b[0m\u001b[0;34m\u001b[0m\u001b[0m\n\u001b[0m",
      "\u001b[0;31mTypeError\u001b[0m: 'dict' object is not callable"
     ]
    }
   ],
   "source": [
    "[j for i in my_json('entries')]"
   ]
  },
  {
   "cell_type": "code",
   "execution_count": null,
   "metadata": {},
   "outputs": [],
   "source": [
    "url3 = ''"
   ]
  }
 ],
 "metadata": {
  "kernelspec": {
   "display_name": "Python 3",
   "language": "python",
   "name": "python3"
  },
  "language_info": {
   "codemirror_mode": {
    "name": "ipython",
    "version": 3
   },
   "file_extension": ".py",
   "mimetype": "text/x-python",
   "name": "python",
   "nbconvert_exporter": "python",
   "pygments_lexer": "ipython3",
   "version": "3.8.3"
  }
 },
 "nbformat": 4,
 "nbformat_minor": 4
}
