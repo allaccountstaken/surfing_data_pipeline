{
 "cells": [
  {
   "cell_type": "markdown",
   "metadata": {},
   "source": [
    "# Lab Assignment 8: Data Management Using `pandas`, Part 1\n",
    "## DS 6001: Practice and Application of Data Science\n",
    "\n",
    "### Instructions\n",
    "Please answer the following questions as completely as possible using text, code, and the results of code as needed. Format your answers in a Jupyter notebook. To receive full credit, make sure you address every part of the problem, and make sure your document is formatted in a clean and professional way.\n",
    "\n",
    "In this lab, you will be working with the [2017 Workplace Health in America survey](https://www.cdc.gov/workplacehealthpromotion/survey/data.html) which was conducted by the Centers for Disease Control and Prevention. According to the survey's [guidence document](https://www.cdc.gov/workplacehealthpromotion/data-surveillance/docs/2017-WHA-Guidance-Document-for-Use-of-Public-Data-files-508.pdf):\n",
    "\n",
    "> The Workplace Health in America (WHA) Survey gathered information from a cross-sectional, nationally representative sample of US worksites. The sample was drawn from the Dun & Bradstreet (D&B) database of all private and public employers in the United States with at least 10 employees. Like previous national surveys, the worksite served as the sampling unit rather than the companies or firms to which the worksites belonged. Worksites were selected using a stratified simple random sample (SRS) design, where the primary strata were ten multi-state regions defined by the Centers for Disease Control and Prevention (CDC), plus an additional stratum containing all hospital worksites. \n",
    "\n",
    "The data contain over 300 features that report the industry and type of company where the respondents are employed, what kind of health insurance and other health programs are offered, and other characteristics of the workplaces including whether employees are allowed to work from home and the gender and age makeup of the workforce. The data are full of interesting information, but in order to make use of the data a great deal of data manipulation is required first."
   ]
  },
  {
   "cell_type": "markdown",
   "metadata": {},
   "source": [
    "## Problem 0\n",
    "Import the following libraries:"
   ]
  },
  {
   "cell_type": "code",
   "execution_count": 1,
   "metadata": {},
   "outputs": [],
   "source": [
    "import numpy as np\n",
    "import pandas as pd\n",
    "import sidetable\n",
    "import sqlite3\n",
    "import warnings\n",
    "warnings.filterwarnings('ignore')"
   ]
  },
  {
   "cell_type": "markdown",
   "metadata": {},
   "source": [
    "## Problem 1\n",
    "The raw data are stored in an ASCII file on the 2017 Workplace Health in America survey [homepage](https://www.cdc.gov/workplacehealthpromotion/survey/data.html). Load the raw data directly into Python without downloading the data onto your harddrive and display a dataframe with only the 14th, 28th, and 102nd rows of the data. [1 point]"
   ]
  },
  {
   "cell_type": "code",
   "execution_count": 92,
   "metadata": {},
   "outputs": [
    {
     "data": {
      "text/html": [
       "<div>\n",
       "<style scoped>\n",
       "    .dataframe tbody tr th:only-of-type {\n",
       "        vertical-align: middle;\n",
       "    }\n",
       "\n",
       "    .dataframe tbody tr th {\n",
       "        vertical-align: top;\n",
       "    }\n",
       "\n",
       "    .dataframe thead th {\n",
       "        text-align: right;\n",
       "    }\n",
       "</style>\n",
       "<table border=\"1\" class=\"dataframe\">\n",
       "  <thead>\n",
       "    <tr style=\"text-align: right;\">\n",
       "      <th></th>\n",
       "      <th>OC1</th>\n",
       "      <th>OC3</th>\n",
       "      <th>HI1</th>\n",
       "      <th>HI2</th>\n",
       "      <th>HI3</th>\n",
       "      <th>HI4</th>\n",
       "      <th>HRA1</th>\n",
       "      <th>HRA1A</th>\n",
       "      <th>HRA1B</th>\n",
       "      <th>HRA1E</th>\n",
       "      <th>...</th>\n",
       "      <th>WL3_05</th>\n",
       "      <th>E1_09</th>\n",
       "      <th>Suppquex</th>\n",
       "      <th>Id</th>\n",
       "      <th>Region</th>\n",
       "      <th>CDC_Region</th>\n",
       "      <th>Industry</th>\n",
       "      <th>Size</th>\n",
       "      <th>Varstrata</th>\n",
       "      <th>Finalwt_worksite</th>\n",
       "    </tr>\n",
       "  </thead>\n",
       "  <tbody>\n",
       "    <tr>\n",
       "      <th>0</th>\n",
       "      <td>7.0</td>\n",
       "      <td>3.0</td>\n",
       "      <td>2.0</td>\n",
       "      <td>1.0</td>\n",
       "      <td>2.0</td>\n",
       "      <td>1.0</td>\n",
       "      <td>1.0</td>\n",
       "      <td>3.0</td>\n",
       "      <td>4.0</td>\n",
       "      <td>2.0</td>\n",
       "      <td>...</td>\n",
       "      <td>b'PTO'</td>\n",
       "      <td>NaN</td>\n",
       "      <td>2.0</td>\n",
       "      <td>b'0000000217'</td>\n",
       "      <td>1.0</td>\n",
       "      <td>2.0</td>\n",
       "      <td>7.0</td>\n",
       "      <td>7.0</td>\n",
       "      <td>0.0</td>\n",
       "      <td>47.793941</td>\n",
       "    </tr>\n",
       "    <tr>\n",
       "      <th>1</th>\n",
       "      <td>2.0</td>\n",
       "      <td>3.0</td>\n",
       "      <td>2.0</td>\n",
       "      <td>3.0</td>\n",
       "      <td>1.0</td>\n",
       "      <td>1.0</td>\n",
       "      <td>1.0</td>\n",
       "      <td>3.0</td>\n",
       "      <td>3.0</td>\n",
       "      <td>1.0</td>\n",
       "      <td>...</td>\n",
       "      <td>NaN</td>\n",
       "      <td>NaN</td>\n",
       "      <td>1.0</td>\n",
       "      <td>b'0000000326'</td>\n",
       "      <td>3.0</td>\n",
       "      <td>7.0</td>\n",
       "      <td>7.0</td>\n",
       "      <td>6.0</td>\n",
       "      <td>0.0</td>\n",
       "      <td>47.793941</td>\n",
       "    </tr>\n",
       "    <tr>\n",
       "      <th>2</th>\n",
       "      <td>7.0</td>\n",
       "      <td>3.0</td>\n",
       "      <td>1.0</td>\n",
       "      <td>3.0</td>\n",
       "      <td>1.0</td>\n",
       "      <td>1.0</td>\n",
       "      <td>1.0</td>\n",
       "      <td>3.0</td>\n",
       "      <td>97.0</td>\n",
       "      <td>2.0</td>\n",
       "      <td>...</td>\n",
       "      <td>NaN</td>\n",
       "      <td>NaN</td>\n",
       "      <td>1.0</td>\n",
       "      <td>b'0000000399'</td>\n",
       "      <td>4.0</td>\n",
       "      <td>8.0</td>\n",
       "      <td>7.0</td>\n",
       "      <td>8.0</td>\n",
       "      <td>0.0</td>\n",
       "      <td>47.793941</td>\n",
       "    </tr>\n",
       "    <tr>\n",
       "      <th>3</th>\n",
       "      <td>1.0</td>\n",
       "      <td>2.0</td>\n",
       "      <td>1.0</td>\n",
       "      <td>2.0</td>\n",
       "      <td>1.0</td>\n",
       "      <td>1.0</td>\n",
       "      <td>97.0</td>\n",
       "      <td>96.0</td>\n",
       "      <td>96.0</td>\n",
       "      <td>96.0</td>\n",
       "      <td>...</td>\n",
       "      <td>NaN</td>\n",
       "      <td>NaN</td>\n",
       "      <td>1.0</td>\n",
       "      <td>b'0000000475'</td>\n",
       "      <td>5.0</td>\n",
       "      <td>9.0</td>\n",
       "      <td>7.0</td>\n",
       "      <td>4.0</td>\n",
       "      <td>0.0</td>\n",
       "      <td>47.793941</td>\n",
       "    </tr>\n",
       "    <tr>\n",
       "      <th>4</th>\n",
       "      <td>2.0</td>\n",
       "      <td>3.0</td>\n",
       "      <td>1.0</td>\n",
       "      <td>3.0</td>\n",
       "      <td>1.0</td>\n",
       "      <td>1.0</td>\n",
       "      <td>1.0</td>\n",
       "      <td>3.0</td>\n",
       "      <td>3.0</td>\n",
       "      <td>2.0</td>\n",
       "      <td>...</td>\n",
       "      <td>NaN</td>\n",
       "      <td>NaN</td>\n",
       "      <td>1.0</td>\n",
       "      <td>b'0000000489'</td>\n",
       "      <td>2.0</td>\n",
       "      <td>4.0</td>\n",
       "      <td>7.0</td>\n",
       "      <td>4.0</td>\n",
       "      <td>0.0</td>\n",
       "      <td>47.793941</td>\n",
       "    </tr>\n",
       "  </tbody>\n",
       "</table>\n",
       "<p>5 rows × 301 columns</p>\n",
       "</div>"
      ],
      "text/plain": [
       "   OC1  OC3  HI1  HI2  HI3  HI4  HRA1  HRA1A  HRA1B  HRA1E  ...  WL3_05  \\\n",
       "0  7.0  3.0  2.0  1.0  2.0  1.0   1.0    3.0    4.0    2.0  ...  b'PTO'   \n",
       "1  2.0  3.0  2.0  3.0  1.0  1.0   1.0    3.0    3.0    1.0  ...     NaN   \n",
       "2  7.0  3.0  1.0  3.0  1.0  1.0   1.0    3.0   97.0    2.0  ...     NaN   \n",
       "3  1.0  2.0  1.0  2.0  1.0  1.0  97.0   96.0   96.0   96.0  ...     NaN   \n",
       "4  2.0  3.0  1.0  3.0  1.0  1.0   1.0    3.0    3.0    2.0  ...     NaN   \n",
       "\n",
       "   E1_09  Suppquex             Id  Region  CDC_Region  Industry  Size  \\\n",
       "0    NaN       2.0  b'0000000217'     1.0         2.0       7.0   7.0   \n",
       "1    NaN       1.0  b'0000000326'     3.0         7.0       7.0   6.0   \n",
       "2    NaN       1.0  b'0000000399'     4.0         8.0       7.0   8.0   \n",
       "3    NaN       1.0  b'0000000475'     5.0         9.0       7.0   4.0   \n",
       "4    NaN       1.0  b'0000000489'     2.0         4.0       7.0   4.0   \n",
       "\n",
       "   Varstrata  Finalwt_worksite  \n",
       "0        0.0         47.793941  \n",
       "1        0.0         47.793941  \n",
       "2        0.0         47.793941  \n",
       "3        0.0         47.793941  \n",
       "4        0.0         47.793941  \n",
       "\n",
       "[5 rows x 301 columns]"
      ]
     },
     "execution_count": 92,
     "metadata": {},
     "output_type": "execute_result"
    }
   ],
   "source": [
    "# Store web address in variable \"url\"\n",
    "url = \"https://www.cdc.gov/workplacehealthpromotion/data-surveillance/docs/WHA_120717.sas7bdat\"\n",
    "\n",
    "# Use read_sas and the stored \"url\"\n",
    "data = pd.read_sas(url)\n",
    "\n",
    "# Check the head()\n",
    "data.head()"
   ]
  },
  {
   "cell_type": "code",
   "execution_count": 133,
   "metadata": {},
   "outputs": [
    {
     "name": "stdout",
     "output_type": "stream",
     "text": [
      "<class 'pandas.core.frame.DataFrame'>\n",
      "RangeIndex: 2843 entries, 0 to 2842\n",
      "Columns: 301 entries, OC1 to Finalwt_worksite\n",
      "dtypes: float64(295), object(6)\n",
      "memory usage: 6.5+ MB\n"
     ]
    }
   ],
   "source": [
    "# Check the info()\n",
    "data.info()"
   ]
  },
  {
   "cell_type": "markdown",
   "metadata": {},
   "source": [
    "## Problem 2 \n",
    "The data contain 301 columns. Create a new variable in Python's memory to store a working version of the data. In the working version, delete all of the columns except for the following:\n",
    "\n",
    "* `Industry`: 7 Industry Categories with NAICS codes\n",
    "\n",
    "* `Size`: 8 Employee Size Categories\n",
    "\n",
    "* `OC3` Is your organization for profit, non-profit, government?\n",
    "\n",
    "* `HI1` In general, do you offer full, partial or no payment of premiums for personal health insurance for full-time employees?\n",
    "\n",
    "* `HI2` Over the past 12 months, were full-time employees asked to pay a larger proportion, smaller proportion or the same proportion of personal health insurance premiums?\n",
    "\n",
    "* `HI3`: Does your organization offer personal health insurance for your part-time employees?\n",
    "\n",
    "* `CP1`: Are there health education programs, which focus on skill development and lifestyle behavior change along with information dissemination and awareness building?\n",
    "\n",
    "* `WL6`: Allow employees to work from home?\n",
    "\n",
    "* Every column that begins `WD`, expressing the percentage of employees that have certain characteristics at the firm\n",
    "\n",
    "[1 point]"
   ]
  },
  {
   "cell_type": "code",
   "execution_count": 134,
   "metadata": {},
   "outputs": [],
   "source": [
    "# Select basic target columns:\n",
    "target_cols = ['Industry', 'Size', 'OC3', 'HI1', 'HI2', 'HI3', 'CP1', 'WL6']"
   ]
  },
  {
   "cell_type": "code",
   "execution_count": 135,
   "metadata": {},
   "outputs": [
    {
     "data": {
      "text/plain": [
       "['WD1_1', 'WD1_2', 'WD2', 'WD3', 'WD4', 'WD5', 'WD6', 'WD7']"
      ]
     },
     "execution_count": 135,
     "metadata": {},
     "output_type": "execute_result"
    }
   ],
   "source": [
    "# Select other columns that begings with \"WD\"\n",
    "other_cols = [col for col in data if col.startswith('WD')]\n",
    "other_cols"
   ]
  },
  {
   "cell_type": "code",
   "execution_count": 136,
   "metadata": {},
   "outputs": [
    {
     "data": {
      "text/plain": [
       "16"
      ]
     },
     "execution_count": 136,
     "metadata": {},
     "output_type": "execute_result"
    }
   ],
   "source": [
    "# Update the list of all desired columns, check the length\n",
    "target_cols = target_cols + other_cols\n",
    "len(target_cols)"
   ]
  },
  {
   "cell_type": "code",
   "execution_count": 318,
   "metadata": {},
   "outputs": [
    {
     "data": {
      "text/plain": [
       "16"
      ]
     },
     "execution_count": 318,
     "metadata": {},
     "output_type": "execute_result"
    }
   ],
   "source": [
    "# Select desired columns from the original dataset, store in \"working_version\", check the length \n",
    "working_version = data[target_cols]\n",
    "len(list(working_version.columns))"
   ]
  },
  {
   "cell_type": "markdown",
   "metadata": {},
   "source": [
    "## Problem 3\n",
    "The [codebook](https://www.cdc.gov/workplacehealthpromotion/data-surveillance/docs/2017-WHA-Datafile-Codebook-508.pdf) for the WHA data contain short descriptions of the meaning of each of the columns in the data. Use these descriptions to decide on better and more intuitive names for the columns in the working version of the data, and rename the columns accordingly. [1 point]"
   ]
  },
  {
   "cell_type": "code",
   "execution_count": 319,
   "metadata": {},
   "outputs": [
    {
     "data": {
      "text/plain": [
       "Index(['Industry', 'Size', 'OC3', 'HI1', 'HI2', 'HI3', 'CP1', 'WL6', 'WD1_1',\n",
       "       'WD1_2', 'WD2', 'WD3', 'WD4', 'WD5', 'WD6', 'WD7'],\n",
       "      dtype='object')"
      ]
     },
     "execution_count": 319,
     "metadata": {},
     "output_type": "execute_result"
    }
   ],
   "source": [
    "# Take a look at the original column names\n",
    "working_version.columns"
   ]
  },
  {
   "cell_type": "code",
   "execution_count": 320,
   "metadata": {},
   "outputs": [],
   "source": [
    "# Rename to better and more intuitive column names\n",
    "new_columns ={'Industry':'industry_categories',\n",
    "             'Size':'size_categories',\n",
    "             'OC3':'org_profit_type',\n",
    "             'HI1':'hlth_insur_type',\n",
    "             'HI2':'hlth_insur_chng12',\n",
    "             'HI3':'hlth_insur_partime',\n",
    "             'CP1':'hlth_edu_progs',\n",
    "             'WL6':'work_from_home',\n",
    "             'WD1_1':'%empls_under_30',\n",
    "             'WD1_2':'%empls_over_60',\n",
    "             'WD2':'%empls_are_female',\n",
    "             'WD3':'%empls_are_hourly',\n",
    "             'WD4':'%empls_other_shift',\n",
    "             'WD5':'%empls_work_remotely',\n",
    "             'WD6':'%empls_are_unionized',\n",
    "             'WD7':'%avg_annual_turnover'}"
   ]
  },
  {
   "cell_type": "code",
   "execution_count": 321,
   "metadata": {},
   "outputs": [],
   "source": [
    "# Apply the map with better names\n",
    "working_version = working_version.rename(new_columns, axis=1)"
   ]
  },
  {
   "cell_type": "code",
   "execution_count": 322,
   "metadata": {},
   "outputs": [
    {
     "data": {
      "text/plain": [
       "Index(['industry_categories', 'size_categories', 'org_profit_type',\n",
       "       'hlth_insur_type', 'hlth_insur_chng12', 'hlth_insur_partime',\n",
       "       'hlth_edu_progs', 'work_from_home', '%empls_under_30', '%empls_over_60',\n",
       "       '%empls_are_female', '%empls_are_hourly', '%empls_other_shift',\n",
       "       '%empls_work_remotely', '%empls_are_unionized', '%avg_annual_turnover'],\n",
       "      dtype='object')"
      ]
     },
     "execution_count": 322,
     "metadata": {},
     "output_type": "execute_result"
    }
   ],
   "source": [
    "# Check the resultant column names\n",
    "working_version.columns"
   ]
  },
  {
   "cell_type": "markdown",
   "metadata": {},
   "source": [
    "## Problem 4\n",
    "Using the codebook and this [dictionary of NAICS industrial codes](https://www.naics.com/search-naics-codes-by-industry/), place descriptive labels on the categories of the industry column in the working data. [1 point]"
   ]
  },
  {
   "cell_type": "code",
   "execution_count": 323,
   "metadata": {},
   "outputs": [
    {
     "data": {
      "text/plain": [
       "array([7., 1., 2., 3., 4., 5., 6.])"
      ]
     },
     "execution_count": 323,
     "metadata": {},
     "output_type": "execute_result"
    }
   ],
   "source": [
    "# Take a look at the original labels for the categories of the industry column\n",
    "working_version.industry_categories.unique()"
   ]
  },
  {
   "cell_type": "code",
   "execution_count": 324,
   "metadata": {},
   "outputs": [],
   "source": [
    "# Remap to more descriptive labels\n",
    "industry_map = {1: 'Agriculture and Fishing, Mining, Utilities, Construction',\n",
    "                2: 'Manufacturing, Wholesale, Retail, Transportation and Warehousing', \n",
    "                3: 'Entertainment and Recreation, Accommodation and Other Services',\n",
    "                4: 'Information, Finance, Real Estate, Professional, Scientific, Management',\n",
    "                5: 'Educational Services, Health Care and Social Assistance', \n",
    "                6: 'Public Administration',\n",
    "                7: 'Hospital worksites (NAICS6 = 622110, 622210, 622310)'}"
   ]
  },
  {
   "cell_type": "code",
   "execution_count": 325,
   "metadata": {},
   "outputs": [],
   "source": [
    "# Remap industries labels using industry_map\n",
    "working_version['industry_categories']= working_version['industry_categories'].map(industry_map)"
   ]
  },
  {
   "cell_type": "code",
   "execution_count": 326,
   "metadata": {},
   "outputs": [
    {
     "data": {
      "text/html": [
       "<div>\n",
       "<style scoped>\n",
       "    .dataframe tbody tr th:only-of-type {\n",
       "        vertical-align: middle;\n",
       "    }\n",
       "\n",
       "    .dataframe tbody tr th {\n",
       "        vertical-align: top;\n",
       "    }\n",
       "\n",
       "    .dataframe thead th {\n",
       "        text-align: right;\n",
       "    }\n",
       "</style>\n",
       "<table border=\"1\" class=\"dataframe\">\n",
       "  <thead>\n",
       "    <tr style=\"text-align: right;\">\n",
       "      <th></th>\n",
       "      <th>industry_categories</th>\n",
       "      <th>count</th>\n",
       "      <th>percent</th>\n",
       "      <th>cumulative_count</th>\n",
       "      <th>cumulative_percent</th>\n",
       "    </tr>\n",
       "  </thead>\n",
       "  <tbody>\n",
       "    <tr>\n",
       "      <th>0</th>\n",
       "      <td>Educational Services, Health Care and Social A...</td>\n",
       "      <td>551</td>\n",
       "      <td>19.380936</td>\n",
       "      <td>551</td>\n",
       "      <td>19.380936</td>\n",
       "    </tr>\n",
       "    <tr>\n",
       "      <th>1</th>\n",
       "      <td>Agriculture and Fishing, Mining, Utilities, Co...</td>\n",
       "      <td>525</td>\n",
       "      <td>18.466409</td>\n",
       "      <td>1076</td>\n",
       "      <td>37.847344</td>\n",
       "    </tr>\n",
       "    <tr>\n",
       "      <th>2</th>\n",
       "      <td>Entertainment and Recreation, Accommodation an...</td>\n",
       "      <td>433</td>\n",
       "      <td>15.230390</td>\n",
       "      <td>1509</td>\n",
       "      <td>53.077735</td>\n",
       "    </tr>\n",
       "    <tr>\n",
       "      <th>3</th>\n",
       "      <td>Information, Finance, Real Estate, Professiona...</td>\n",
       "      <td>429</td>\n",
       "      <td>15.089694</td>\n",
       "      <td>1938</td>\n",
       "      <td>68.167429</td>\n",
       "    </tr>\n",
       "    <tr>\n",
       "      <th>4</th>\n",
       "      <td>Hospital worksites (NAICS6 = 622110, 622210, 6...</td>\n",
       "      <td>338</td>\n",
       "      <td>11.888850</td>\n",
       "      <td>2276</td>\n",
       "      <td>80.056279</td>\n",
       "    </tr>\n",
       "    <tr>\n",
       "      <th>5</th>\n",
       "      <td>Manufacturing, Wholesale, Retail, Transportati...</td>\n",
       "      <td>311</td>\n",
       "      <td>10.939149</td>\n",
       "      <td>2587</td>\n",
       "      <td>90.995427</td>\n",
       "    </tr>\n",
       "    <tr>\n",
       "      <th>6</th>\n",
       "      <td>Public Administration</td>\n",
       "      <td>256</td>\n",
       "      <td>9.004573</td>\n",
       "      <td>2843</td>\n",
       "      <td>100.000000</td>\n",
       "    </tr>\n",
       "  </tbody>\n",
       "</table>\n",
       "</div>"
      ],
      "text/plain": [
       "                                 industry_categories  count    percent  \\\n",
       "0  Educational Services, Health Care and Social A...    551  19.380936   \n",
       "1  Agriculture and Fishing, Mining, Utilities, Co...    525  18.466409   \n",
       "2  Entertainment and Recreation, Accommodation an...    433  15.230390   \n",
       "3  Information, Finance, Real Estate, Professiona...    429  15.089694   \n",
       "4  Hospital worksites (NAICS6 = 622110, 622210, 6...    338  11.888850   \n",
       "5  Manufacturing, Wholesale, Retail, Transportati...    311  10.939149   \n",
       "6                              Public Administration    256   9.004573   \n",
       "\n",
       "   cumulative_count  cumulative_percent  \n",
       "0               551           19.380936  \n",
       "1              1076           37.847344  \n",
       "2              1509           53.077735  \n",
       "3              1938           68.167429  \n",
       "4              2276           80.056279  \n",
       "5              2587           90.995427  \n",
       "6              2843          100.000000  "
      ]
     },
     "execution_count": 326,
     "metadata": {},
     "output_type": "execute_result"
    }
   ],
   "source": [
    "# Check the new labels\n",
    "working_version['industry_categories'].unique()\n",
    "working_version.stb.freq(['industry_categories'])"
   ]
  },
  {
   "cell_type": "markdown",
   "metadata": {},
   "source": [
    "## Problem 5\n",
    "Using the codebook, recode the \"size\" column to have three categories: \"Small\" for workplaces with fewer than 100 employees, \"Medium\" for workplaces with at least 100 but fewer than 500 employees, and \"Large\" for companies with at least 500 employees. [Note: Python dataframes have an attribute `.size` that reports the space the dataframe takes up in memory. Don't confuse this attribute with the column named \"Size\" in the raw data.] [1 point]"
   ]
  },
  {
   "cell_type": "code",
   "execution_count": 327,
   "metadata": {},
   "outputs": [
    {
     "data": {
      "text/plain": [
       "array([7., 6., 8., 4., 1., 3., 5., 2.])"
      ]
     },
     "execution_count": 327,
     "metadata": {},
     "output_type": "execute_result"
    }
   ],
   "source": [
    "# Original size categories\n",
    "working_version['size_categories'].unique()"
   ]
  },
  {
   "cell_type": "markdown",
   "metadata": {},
   "source": [
    "Source, page 5:  https://www.cdc.gov/workplacehealthpromotion/data-surveillance/docs/2017-WHA-Datafile-Codebook-508.pdf\n",
    "Note -- these categories have the following meaning \n",
    "- 1 = Size Category 1: 10-24 1175 41.33 1175 41.33  -- **Small**\n",
    "- 2 = Size Category 2: 25-49 655 23.04 1830 64.37 -- **Small**\n",
    "- 3 = Size Category 3: 50-99 365 12.84 2195 77.21 -- **Small** is 1, 2, 3\n",
    "- 4 = Size Category 4: 100-249 263 9.25 2458 86.46 -- **Medium** \n",
    "- 5 = Size Category 5: 250-499 131 4.61 2589 91.07 -- **Medium** is 4, 5\n",
    "- 6 = Size Category 6: 500-749 66 2.32 2655 93.39 -- **Large** \n",
    "- 7 = Size Category 7: 750-999 28 0.98 2683 94.37 -- **Large**\n",
    "- 8 = Size Category 8: 1,000+  -- **Large** is 6, 7, 8"
   ]
  },
  {
   "cell_type": "code",
   "execution_count": 328,
   "metadata": {},
   "outputs": [],
   "source": [
    "# Changing size categories\n",
    "size_map = {1: 'Small',\n",
    "            2: 'Small',\n",
    "            3: 'Small',\n",
    "            4: 'Medium',\n",
    "            5: 'Medium',\n",
    "            6: 'Large',\n",
    "            7: 'Large',\n",
    "            8: 'Large'}"
   ]
  },
  {
   "cell_type": "code",
   "execution_count": 329,
   "metadata": {},
   "outputs": [],
   "source": [
    "# Remap labels using size_map\n",
    "working_version['size_categories'] = working_version['size_categories'].map(size_map)"
   ]
  },
  {
   "cell_type": "code",
   "execution_count": 330,
   "metadata": {},
   "outputs": [
    {
     "data": {
      "text/plain": [
       "Small     2195\n",
       "Medium     394\n",
       "Large      254\n",
       "Name: size_categories, dtype: int64"
      ]
     },
     "execution_count": 330,
     "metadata": {},
     "output_type": "execute_result"
    }
   ],
   "source": [
    "# Check the new size categories\n",
    "working_version['size_categories'].unique()\n",
    "working_version['size_categories'].value_counts()"
   ]
  },
  {
   "cell_type": "code",
   "execution_count": 331,
   "metadata": {},
   "outputs": [
    {
     "data": {
      "text/html": [
       "<div>\n",
       "<style scoped>\n",
       "    .dataframe tbody tr th:only-of-type {\n",
       "        vertical-align: middle;\n",
       "    }\n",
       "\n",
       "    .dataframe tbody tr th {\n",
       "        vertical-align: top;\n",
       "    }\n",
       "\n",
       "    .dataframe thead th {\n",
       "        text-align: right;\n",
       "    }\n",
       "</style>\n",
       "<table border=\"1\" class=\"dataframe\">\n",
       "  <thead>\n",
       "    <tr style=\"text-align: right;\">\n",
       "      <th></th>\n",
       "      <th>size_categories</th>\n",
       "      <th>count</th>\n",
       "      <th>percent</th>\n",
       "      <th>cumulative_count</th>\n",
       "      <th>cumulative_percent</th>\n",
       "    </tr>\n",
       "  </thead>\n",
       "  <tbody>\n",
       "    <tr>\n",
       "      <th>0</th>\n",
       "      <td>Small</td>\n",
       "      <td>2195</td>\n",
       "      <td>77.207176</td>\n",
       "      <td>2195</td>\n",
       "      <td>77.207176</td>\n",
       "    </tr>\n",
       "    <tr>\n",
       "      <th>1</th>\n",
       "      <td>Medium</td>\n",
       "      <td>394</td>\n",
       "      <td>13.858600</td>\n",
       "      <td>2589</td>\n",
       "      <td>91.065776</td>\n",
       "    </tr>\n",
       "    <tr>\n",
       "      <th>2</th>\n",
       "      <td>Large</td>\n",
       "      <td>254</td>\n",
       "      <td>8.934224</td>\n",
       "      <td>2843</td>\n",
       "      <td>100.000000</td>\n",
       "    </tr>\n",
       "  </tbody>\n",
       "</table>\n",
       "</div>"
      ],
      "text/plain": [
       "  size_categories  count    percent  cumulative_count  cumulative_percent\n",
       "0           Small   2195  77.207176              2195           77.207176\n",
       "1          Medium    394  13.858600              2589           91.065776\n",
       "2           Large    254   8.934224              2843          100.000000"
      ]
     },
     "execution_count": 331,
     "metadata": {},
     "output_type": "execute_result"
    }
   ],
   "source": [
    "working_version.stb.freq(['size_categories'])"
   ]
  },
  {
   "cell_type": "markdown",
   "metadata": {},
   "source": [
    "## Problem 6\n",
    "Use the codebook to write accurate and descriptive labels for each category for each categorical column in the working data. Then apply all of these labels to the data at once. Code \"Legitimate Skip\", \"Don't know\", \"Refused\", and \"Blank\" as missing values. [2 points]"
   ]
  },
  {
   "cell_type": "code",
   "execution_count": 332,
   "metadata": {},
   "outputs": [],
   "source": [
    "cat_labels = {\n",
    "    'org_profit_type':{\n",
    "        1:'For profit, public', 2:'For profit, private', 3:'Non-profit', 4:'State or local government', \n",
    "        5:'Federal government', 6:'Other', 97:'', 98:'', 98:''}, #last 3 for the missing values...\n",
    "    'hlth_insur_type':{\n",
    "        1:'Full insurance', 2:'Partial insurance', 3:'No insurance', 97:'', 98:'', 99:''},\n",
    "    'hlth_insur_chng12':{\n",
    "        1:'Larger',2:'Smaller', 3:'About the same', 97:'', 98:'', 98:'' },\n",
    "    'hlth_insur_partime':{\n",
    "        1:'Yes', 2:'No', 97:'', 98:'', 98:'' },\n",
    "    'hlth_edu_progs':{\n",
    "        1:'Yes', 2:'No', 97:'', 98:'', 98:'' },\n",
    "    'work_from_home':{\n",
    "        1:'Yes',2:'No', 97:'', 98:'', 98:'' }\n",
    "}"
   ]
  },
  {
   "cell_type": "code",
   "execution_count": 333,
   "metadata": {},
   "outputs": [],
   "source": [
    "# Replace categorical labels with descriptive labels and propoer missing values \n",
    "working_version = working_version.replace(cat_labels)"
   ]
  },
  {
   "cell_type": "markdown",
   "metadata": {},
   "source": [
    "## Problem 7\n",
    "The features that measure the percent of the workforce with a particular characteristic use the codes 997, 998, and 999 to represent \"Don't know\", \"Refusal\", and \"Blank/Invalid\" respectively. Replace these values with missing values for all of the percentage features at the same time. [1 point]"
   ]
  },
  {
   "cell_type": "code",
   "execution_count": 334,
   "metadata": {},
   "outputs": [],
   "source": [
    "num_labels = {\n",
    "    '%empls_under_30':{997:'0', 998:'0', 999:'0'}, #missing values on the ratio scale is =0\n",
    "    '%empls_over_60':{997:'0', 998:'0', 999:'0'},\n",
    "    '%empls_are_female':{997:'0', 998:'0', 999:'0'},\n",
    "    '%empls_are_hourly':{997:'0', 998:'0', 999:'0'}, \n",
    "    '%empls_other_shift':{997:'0', 998:'0', 999:'0'},\n",
    "    '%empls_work_remotely':{997:'0', 998:'0', 999:'0'},\n",
    "    '%empls_are_unionized':{997:'0', 998:'0', 999:'0'},\n",
    "    '%avg_annual_turnover':{997:'0', 998:'0', 999:'0'}\n",
    "}"
   ]
  },
  {
   "cell_type": "code",
   "execution_count": 335,
   "metadata": {},
   "outputs": [],
   "source": [
    "# Replace numeric codes with proper missing values \n",
    "working_version = working_version.replace(num_labels)"
   ]
  },
  {
   "cell_type": "code",
   "execution_count": 336,
   "metadata": {},
   "outputs": [
    {
     "data": {
      "text/html": [
       "<div>\n",
       "<style scoped>\n",
       "    .dataframe tbody tr th:only-of-type {\n",
       "        vertical-align: middle;\n",
       "    }\n",
       "\n",
       "    .dataframe tbody tr th {\n",
       "        vertical-align: top;\n",
       "    }\n",
       "\n",
       "    .dataframe thead th {\n",
       "        text-align: right;\n",
       "    }\n",
       "</style>\n",
       "<table border=\"1\" class=\"dataframe\">\n",
       "  <thead>\n",
       "    <tr style=\"text-align: right;\">\n",
       "      <th></th>\n",
       "      <th>industry_categories</th>\n",
       "      <th>size_categories</th>\n",
       "      <th>org_profit_type</th>\n",
       "      <th>hlth_insur_type</th>\n",
       "      <th>hlth_insur_chng12</th>\n",
       "      <th>hlth_insur_partime</th>\n",
       "      <th>hlth_edu_progs</th>\n",
       "      <th>work_from_home</th>\n",
       "      <th>%empls_under_30</th>\n",
       "      <th>%empls_over_60</th>\n",
       "      <th>%empls_are_female</th>\n",
       "      <th>%empls_are_hourly</th>\n",
       "      <th>%empls_other_shift</th>\n",
       "      <th>%empls_work_remotely</th>\n",
       "      <th>%empls_are_unionized</th>\n",
       "      <th>%avg_annual_turnover</th>\n",
       "    </tr>\n",
       "  </thead>\n",
       "  <tbody>\n",
       "    <tr>\n",
       "      <th>0</th>\n",
       "      <td>Hospital worksites (NAICS6 = 622110, 622210, 6...</td>\n",
       "      <td>Large</td>\n",
       "      <td>Non-profit</td>\n",
       "      <td>Partial insurance</td>\n",
       "      <td>Larger</td>\n",
       "      <td>No</td>\n",
       "      <td>Yes</td>\n",
       "      <td>Yes</td>\n",
       "      <td>25.0</td>\n",
       "      <td>20.0</td>\n",
       "      <td>85.0</td>\n",
       "      <td>60.0</td>\n",
       "      <td>40.0</td>\n",
       "      <td>15.0</td>\n",
       "      <td>0.0</td>\n",
       "      <td>22.0</td>\n",
       "    </tr>\n",
       "    <tr>\n",
       "      <th>1</th>\n",
       "      <td>Hospital worksites (NAICS6 = 622110, 622210, 6...</td>\n",
       "      <td>Large</td>\n",
       "      <td>Non-profit</td>\n",
       "      <td>Partial insurance</td>\n",
       "      <td>About the same</td>\n",
       "      <td>Yes</td>\n",
       "      <td>Yes</td>\n",
       "      <td>Yes</td>\n",
       "      <td>0</td>\n",
       "      <td>0</td>\n",
       "      <td>90.0</td>\n",
       "      <td>90.0</td>\n",
       "      <td>0</td>\n",
       "      <td>0</td>\n",
       "      <td>0.0</td>\n",
       "      <td>0</td>\n",
       "    </tr>\n",
       "    <tr>\n",
       "      <th>2</th>\n",
       "      <td>Hospital worksites (NAICS6 = 622110, 622210, 6...</td>\n",
       "      <td>Large</td>\n",
       "      <td>Non-profit</td>\n",
       "      <td>Full insurance</td>\n",
       "      <td>About the same</td>\n",
       "      <td>Yes</td>\n",
       "      <td>Yes</td>\n",
       "      <td>Yes</td>\n",
       "      <td>35.0</td>\n",
       "      <td>4.0</td>\n",
       "      <td>0</td>\n",
       "      <td>0</td>\n",
       "      <td>40.0</td>\n",
       "      <td>15.0</td>\n",
       "      <td>0</td>\n",
       "      <td>0</td>\n",
       "    </tr>\n",
       "    <tr>\n",
       "      <th>3</th>\n",
       "      <td>Hospital worksites (NAICS6 = 622110, 622210, 6...</td>\n",
       "      <td>Medium</td>\n",
       "      <td>For profit, private</td>\n",
       "      <td>Full insurance</td>\n",
       "      <td>Smaller</td>\n",
       "      <td>Yes</td>\n",
       "      <td>No</td>\n",
       "      <td>No</td>\n",
       "      <td>50.0</td>\n",
       "      <td>15.0</td>\n",
       "      <td>50.0</td>\n",
       "      <td>85.0</td>\n",
       "      <td>75.0</td>\n",
       "      <td>0.0</td>\n",
       "      <td>0.0</td>\n",
       "      <td>0</td>\n",
       "    </tr>\n",
       "    <tr>\n",
       "      <th>4</th>\n",
       "      <td>Hospital worksites (NAICS6 = 622110, 622210, 6...</td>\n",
       "      <td>Medium</td>\n",
       "      <td>Non-profit</td>\n",
       "      <td>Full insurance</td>\n",
       "      <td>About the same</td>\n",
       "      <td>Yes</td>\n",
       "      <td>Yes</td>\n",
       "      <td>Yes</td>\n",
       "      <td>50.0</td>\n",
       "      <td>40.0</td>\n",
       "      <td>60.0</td>\n",
       "      <td>60.0</td>\n",
       "      <td>40.0</td>\n",
       "      <td>30.0</td>\n",
       "      <td>0.0</td>\n",
       "      <td>28.0</td>\n",
       "    </tr>\n",
       "  </tbody>\n",
       "</table>\n",
       "</div>"
      ],
      "text/plain": [
       "                                 industry_categories size_categories  \\\n",
       "0  Hospital worksites (NAICS6 = 622110, 622210, 6...           Large   \n",
       "1  Hospital worksites (NAICS6 = 622110, 622210, 6...           Large   \n",
       "2  Hospital worksites (NAICS6 = 622110, 622210, 6...           Large   \n",
       "3  Hospital worksites (NAICS6 = 622110, 622210, 6...          Medium   \n",
       "4  Hospital worksites (NAICS6 = 622110, 622210, 6...          Medium   \n",
       "\n",
       "       org_profit_type    hlth_insur_type hlth_insur_chng12  \\\n",
       "0           Non-profit  Partial insurance            Larger   \n",
       "1           Non-profit  Partial insurance    About the same   \n",
       "2           Non-profit     Full insurance    About the same   \n",
       "3  For profit, private     Full insurance           Smaller   \n",
       "4           Non-profit     Full insurance    About the same   \n",
       "\n",
       "  hlth_insur_partime hlth_edu_progs work_from_home %empls_under_30  \\\n",
       "0                 No            Yes            Yes            25.0   \n",
       "1                Yes            Yes            Yes               0   \n",
       "2                Yes            Yes            Yes            35.0   \n",
       "3                Yes             No             No            50.0   \n",
       "4                Yes            Yes            Yes            50.0   \n",
       "\n",
       "  %empls_over_60 %empls_are_female %empls_are_hourly %empls_other_shift  \\\n",
       "0           20.0              85.0              60.0               40.0   \n",
       "1              0              90.0              90.0                  0   \n",
       "2            4.0                 0                 0               40.0   \n",
       "3           15.0              50.0              85.0               75.0   \n",
       "4           40.0              60.0              60.0               40.0   \n",
       "\n",
       "  %empls_work_remotely %empls_are_unionized %avg_annual_turnover  \n",
       "0                 15.0                  0.0                 22.0  \n",
       "1                    0                  0.0                    0  \n",
       "2                 15.0                    0                    0  \n",
       "3                  0.0                  0.0                    0  \n",
       "4                 30.0                  0.0                 28.0  "
      ]
     },
     "execution_count": 336,
     "metadata": {},
     "output_type": "execute_result"
    }
   ],
   "source": [
    "# Check the resultant dataframe with .head()\n",
    "working_version.head()"
   ]
  },
  {
   "cell_type": "markdown",
   "metadata": {},
   "source": [
    "## Problem 8\n",
    "Sort the working data by industry in ascending alphabetical order. Within industry categories, sort the rows by size in ascending alphabetical order. Within groups with the same industry and size, sort by percent of the workforce that is under 30 in descending numeric order. [1 point]"
   ]
  },
  {
   "cell_type": "code",
   "execution_count": 337,
   "metadata": {},
   "outputs": [
    {
     "data": {
      "text/html": [
       "<div>\n",
       "<style scoped>\n",
       "    .dataframe tbody tr th:only-of-type {\n",
       "        vertical-align: middle;\n",
       "    }\n",
       "\n",
       "    .dataframe tbody tr th {\n",
       "        vertical-align: top;\n",
       "    }\n",
       "\n",
       "    .dataframe thead th {\n",
       "        text-align: right;\n",
       "    }\n",
       "</style>\n",
       "<table border=\"1\" class=\"dataframe\">\n",
       "  <thead>\n",
       "    <tr style=\"text-align: right;\">\n",
       "      <th></th>\n",
       "      <th>industry_categories</th>\n",
       "      <th>size_categories</th>\n",
       "      <th>org_profit_type</th>\n",
       "      <th>hlth_insur_type</th>\n",
       "      <th>hlth_insur_chng12</th>\n",
       "      <th>hlth_insur_partime</th>\n",
       "      <th>hlth_edu_progs</th>\n",
       "      <th>work_from_home</th>\n",
       "      <th>%empls_under_30</th>\n",
       "      <th>%empls_over_60</th>\n",
       "      <th>%empls_are_female</th>\n",
       "      <th>%empls_are_hourly</th>\n",
       "      <th>%empls_other_shift</th>\n",
       "      <th>%empls_work_remotely</th>\n",
       "      <th>%empls_are_unionized</th>\n",
       "      <th>%avg_annual_turnover</th>\n",
       "    </tr>\n",
       "  </thead>\n",
       "  <tbody>\n",
       "    <tr>\n",
       "      <th>941</th>\n",
       "      <td>Agriculture and Fishing, Mining, Utilities, Co...</td>\n",
       "      <td>Large</td>\n",
       "      <td>For profit, private</td>\n",
       "      <td>Partial insurance</td>\n",
       "      <td></td>\n",
       "      <td></td>\n",
       "      <td>Yes</td>\n",
       "      <td>Yes</td>\n",
       "      <td>0</td>\n",
       "      <td>0</td>\n",
       "      <td>50.0</td>\n",
       "      <td>0</td>\n",
       "      <td>0</td>\n",
       "      <td>0</td>\n",
       "      <td>0.0</td>\n",
       "      <td>0</td>\n",
       "    </tr>\n",
       "    <tr>\n",
       "      <th>1238</th>\n",
       "      <td>Agriculture and Fishing, Mining, Utilities, Co...</td>\n",
       "      <td>Large</td>\n",
       "      <td>For profit, public</td>\n",
       "      <td>Full insurance</td>\n",
       "      <td>Larger</td>\n",
       "      <td>No</td>\n",
       "      <td>Yes</td>\n",
       "      <td>99.0</td>\n",
       "      <td>0</td>\n",
       "      <td>0</td>\n",
       "      <td>0</td>\n",
       "      <td>0</td>\n",
       "      <td>0</td>\n",
       "      <td>0</td>\n",
       "      <td>0</td>\n",
       "      <td>0</td>\n",
       "    </tr>\n",
       "    <tr>\n",
       "      <th>1731</th>\n",
       "      <td>Agriculture and Fishing, Mining, Utilities, Co...</td>\n",
       "      <td>Large</td>\n",
       "      <td>For profit, public</td>\n",
       "      <td>Partial insurance</td>\n",
       "      <td>About the same</td>\n",
       "      <td>No</td>\n",
       "      <td>No</td>\n",
       "      <td>Yes</td>\n",
       "      <td>0</td>\n",
       "      <td>0</td>\n",
       "      <td>0</td>\n",
       "      <td>0</td>\n",
       "      <td>0</td>\n",
       "      <td>0</td>\n",
       "      <td>10.0</td>\n",
       "      <td>0</td>\n",
       "    </tr>\n",
       "    <tr>\n",
       "      <th>2586</th>\n",
       "      <td>Agriculture and Fishing, Mining, Utilities, Co...</td>\n",
       "      <td>Large</td>\n",
       "      <td>For profit, private</td>\n",
       "      <td>Full insurance</td>\n",
       "      <td>Larger</td>\n",
       "      <td>No</td>\n",
       "      <td>No</td>\n",
       "      <td>Yes</td>\n",
       "      <td>0</td>\n",
       "      <td>0</td>\n",
       "      <td>54.0</td>\n",
       "      <td>85.0</td>\n",
       "      <td>0.0</td>\n",
       "      <td>1.0</td>\n",
       "      <td>1.0</td>\n",
       "      <td>45.0</td>\n",
       "    </tr>\n",
       "    <tr>\n",
       "      <th>1732</th>\n",
       "      <td>Agriculture and Fishing, Mining, Utilities, Co...</td>\n",
       "      <td>Large</td>\n",
       "      <td>For profit, private</td>\n",
       "      <td>Partial insurance</td>\n",
       "      <td>About the same</td>\n",
       "      <td>No</td>\n",
       "      <td>Yes</td>\n",
       "      <td>No</td>\n",
       "      <td>50.0</td>\n",
       "      <td>10.0</td>\n",
       "      <td>50.0</td>\n",
       "      <td>75.0</td>\n",
       "      <td>10.0</td>\n",
       "      <td>0.0</td>\n",
       "      <td>0.0</td>\n",
       "      <td>75.0</td>\n",
       "    </tr>\n",
       "    <tr>\n",
       "      <th>1476</th>\n",
       "      <td>Agriculture and Fishing, Mining, Utilities, Co...</td>\n",
       "      <td>Large</td>\n",
       "      <td>For profit, private</td>\n",
       "      <td>Partial insurance</td>\n",
       "      <td>About the same</td>\n",
       "      <td>No</td>\n",
       "      <td>Yes</td>\n",
       "      <td>No</td>\n",
       "      <td>40.0</td>\n",
       "      <td>10.0</td>\n",
       "      <td>30.0</td>\n",
       "      <td>60.0</td>\n",
       "      <td>30.0</td>\n",
       "      <td>5.0</td>\n",
       "      <td>0.0</td>\n",
       "      <td>10.0</td>\n",
       "    </tr>\n",
       "    <tr>\n",
       "      <th>1477</th>\n",
       "      <td>Agriculture and Fishing, Mining, Utilities, Co...</td>\n",
       "      <td>Large</td>\n",
       "      <td>For profit, private</td>\n",
       "      <td>Partial insurance</td>\n",
       "      <td>Smaller</td>\n",
       "      <td>No</td>\n",
       "      <td>Yes</td>\n",
       "      <td>Yes</td>\n",
       "      <td>25.0</td>\n",
       "      <td>15.0</td>\n",
       "      <td>20.0</td>\n",
       "      <td>60.0</td>\n",
       "      <td>10.0</td>\n",
       "      <td>2.0</td>\n",
       "      <td>60.0</td>\n",
       "      <td>5.0</td>\n",
       "    </tr>\n",
       "    <tr>\n",
       "      <th>704</th>\n",
       "      <td>Agriculture and Fishing, Mining, Utilities, Co...</td>\n",
       "      <td>Large</td>\n",
       "      <td>For profit, private</td>\n",
       "      <td>Full insurance</td>\n",
       "      <td>About the same</td>\n",
       "      <td>No</td>\n",
       "      <td>Yes</td>\n",
       "      <td>Yes</td>\n",
       "      <td>20.0</td>\n",
       "      <td>15.0</td>\n",
       "      <td>17.0</td>\n",
       "      <td>62.0</td>\n",
       "      <td>10.0</td>\n",
       "      <td>5.0</td>\n",
       "      <td>0.0</td>\n",
       "      <td>11.0</td>\n",
       "    </tr>\n",
       "    <tr>\n",
       "      <th>1241</th>\n",
       "      <td>Agriculture and Fishing, Mining, Utilities, Co...</td>\n",
       "      <td>Large</td>\n",
       "      <td>For profit, private</td>\n",
       "      <td>Full insurance</td>\n",
       "      <td>About the same</td>\n",
       "      <td>No</td>\n",
       "      <td>Yes</td>\n",
       "      <td>Yes</td>\n",
       "      <td>20.0</td>\n",
       "      <td>25.0</td>\n",
       "      <td>50.0</td>\n",
       "      <td>70.0</td>\n",
       "      <td>20.0</td>\n",
       "      <td>5.0</td>\n",
       "      <td>0.0</td>\n",
       "      <td>3.0</td>\n",
       "    </tr>\n",
       "    <tr>\n",
       "      <th>1730</th>\n",
       "      <td>Agriculture and Fishing, Mining, Utilities, Co...</td>\n",
       "      <td>Large</td>\n",
       "      <td>For profit, private</td>\n",
       "      <td>Full insurance</td>\n",
       "      <td>About the same</td>\n",
       "      <td>No</td>\n",
       "      <td>Yes</td>\n",
       "      <td>Yes</td>\n",
       "      <td>16.0</td>\n",
       "      <td>12.0</td>\n",
       "      <td>42.0</td>\n",
       "      <td>92.0</td>\n",
       "      <td>0</td>\n",
       "      <td>0.0</td>\n",
       "      <td>0.0</td>\n",
       "      <td>25.0</td>\n",
       "    </tr>\n",
       "  </tbody>\n",
       "</table>\n",
       "</div>"
      ],
      "text/plain": [
       "                                    industry_categories size_categories  \\\n",
       "941   Agriculture and Fishing, Mining, Utilities, Co...           Large   \n",
       "1238  Agriculture and Fishing, Mining, Utilities, Co...           Large   \n",
       "1731  Agriculture and Fishing, Mining, Utilities, Co...           Large   \n",
       "2586  Agriculture and Fishing, Mining, Utilities, Co...           Large   \n",
       "1732  Agriculture and Fishing, Mining, Utilities, Co...           Large   \n",
       "1476  Agriculture and Fishing, Mining, Utilities, Co...           Large   \n",
       "1477  Agriculture and Fishing, Mining, Utilities, Co...           Large   \n",
       "704   Agriculture and Fishing, Mining, Utilities, Co...           Large   \n",
       "1241  Agriculture and Fishing, Mining, Utilities, Co...           Large   \n",
       "1730  Agriculture and Fishing, Mining, Utilities, Co...           Large   \n",
       "\n",
       "          org_profit_type    hlth_insur_type hlth_insur_chng12  \\\n",
       "941   For profit, private  Partial insurance                     \n",
       "1238   For profit, public     Full insurance            Larger   \n",
       "1731   For profit, public  Partial insurance    About the same   \n",
       "2586  For profit, private     Full insurance            Larger   \n",
       "1732  For profit, private  Partial insurance    About the same   \n",
       "1476  For profit, private  Partial insurance    About the same   \n",
       "1477  For profit, private  Partial insurance           Smaller   \n",
       "704   For profit, private     Full insurance    About the same   \n",
       "1241  For profit, private     Full insurance    About the same   \n",
       "1730  For profit, private     Full insurance    About the same   \n",
       "\n",
       "     hlth_insur_partime hlth_edu_progs work_from_home %empls_under_30  \\\n",
       "941                                Yes            Yes               0   \n",
       "1238                 No            Yes           99.0               0   \n",
       "1731                 No             No            Yes               0   \n",
       "2586                 No             No            Yes               0   \n",
       "1732                 No            Yes             No            50.0   \n",
       "1476                 No            Yes             No            40.0   \n",
       "1477                 No            Yes            Yes            25.0   \n",
       "704                  No            Yes            Yes            20.0   \n",
       "1241                 No            Yes            Yes            20.0   \n",
       "1730                 No            Yes            Yes            16.0   \n",
       "\n",
       "     %empls_over_60 %empls_are_female %empls_are_hourly %empls_other_shift  \\\n",
       "941               0              50.0                 0                  0   \n",
       "1238              0                 0                 0                  0   \n",
       "1731              0                 0                 0                  0   \n",
       "2586              0              54.0              85.0                0.0   \n",
       "1732           10.0              50.0              75.0               10.0   \n",
       "1476           10.0              30.0              60.0               30.0   \n",
       "1477           15.0              20.0              60.0               10.0   \n",
       "704            15.0              17.0              62.0               10.0   \n",
       "1241           25.0              50.0              70.0               20.0   \n",
       "1730           12.0              42.0              92.0                  0   \n",
       "\n",
       "     %empls_work_remotely %empls_are_unionized %avg_annual_turnover  \n",
       "941                     0                  0.0                    0  \n",
       "1238                    0                    0                    0  \n",
       "1731                    0                 10.0                    0  \n",
       "2586                  1.0                  1.0                 45.0  \n",
       "1732                  0.0                  0.0                 75.0  \n",
       "1476                  5.0                  0.0                 10.0  \n",
       "1477                  2.0                 60.0                  5.0  \n",
       "704                   5.0                  0.0                 11.0  \n",
       "1241                  5.0                  0.0                  3.0  \n",
       "1730                  0.0                  0.0                 25.0  "
      ]
     },
     "execution_count": 337,
     "metadata": {},
     "output_type": "execute_result"
    }
   ],
   "source": [
    "working_version.sort_values(['industry_categories', 'size_categories', '%empls_under_30'], \n",
    "                            ascending = [True, True, False]).head(10)"
   ]
  },
  {
   "cell_type": "markdown",
   "metadata": {},
   "source": [
    "## Problem 9\n",
    "There is one row in the working data that has a `NaN` value for industry. Delete this row. Use a logical expression, and not the row number. [1 point]"
   ]
  },
  {
   "cell_type": "code",
   "execution_count": 338,
   "metadata": {},
   "outputs": [
    {
     "data": {
      "text/plain": [
       "False"
      ]
     },
     "execution_count": 338,
     "metadata": {},
     "output_type": "execute_result"
    }
   ],
   "source": [
    "# For some reason I do not see the NaN in the industry column. Probably it was removed when renaming labels?\n",
    "working_version['industry_categories'].isnull().values.any()"
   ]
  },
  {
   "cell_type": "markdown",
   "metadata": {},
   "source": [
    "## Problem 10\n",
    "Create a new feature named `gender_balance` that has three categories: \"Mostly men\" for workplaces with between 0% and 35% female employees, \"Balanced\" for workplaces with more than 35% and at most 65% female employees, and \"Mostly women\" for workplaces with more than 65% female employees. [1 point]"
   ]
  },
  {
   "cell_type": "code",
   "execution_count": 339,
   "metadata": {},
   "outputs": [
    {
     "data": {
      "text/plain": [
       "False"
      ]
     },
     "execution_count": 339,
     "metadata": {},
     "output_type": "execute_result"
    }
   ],
   "source": [
    "# Check for missing values\n",
    "working_version['%empls_are_female'].isnull().values.any()"
   ]
  },
  {
   "cell_type": "code",
   "execution_count": 340,
   "metadata": {},
   "outputs": [],
   "source": [
    "# Infer \"float\" object type with .astype()\n",
    "working_version['%empls_are_female'] = working_version['%empls_are_female'].astype('float')"
   ]
  },
  {
   "cell_type": "code",
   "execution_count": 341,
   "metadata": {},
   "outputs": [],
   "source": [
    "# Define a mapping fucntion and apply it to '%empls_are_female' column\n",
    "def balance_groups(x):\n",
    "    if x < 0.35:\n",
    "        return 'Mostly men'\n",
    "    elif x > 0.35:\n",
    "        return 'Balanced'\n",
    "    elif x < 0.65:\n",
    "        return 'Balanced'\n",
    "    elif x > 0.65:\n",
    "        return 'Mostly women'\n",
    "    else:\n",
    "        return ''\n",
    "working_version['gender_balance'] = working_version['%empls_are_female'].apply(balance_groups)"
   ]
  },
  {
   "cell_type": "code",
   "execution_count": 343,
   "metadata": {},
   "outputs": [
    {
     "data": {
      "text/plain": [
       "0      Balanced\n",
       "1      Balanced\n",
       "2    Mostly men\n",
       "3      Balanced\n",
       "4      Balanced\n",
       "Name: gender_balance, dtype: object"
      ]
     },
     "execution_count": 343,
     "metadata": {},
     "output_type": "execute_result"
    }
   ],
   "source": [
    "# Check results in the new 'gender_balace' column\n",
    "working_version['gender_balance'].head()"
   ]
  },
  {
   "cell_type": "markdown",
   "metadata": {},
   "source": [
    "## Problem 11\n",
    "Change the data type of all categorical features in the working data from \"object\" to \"category\". [1 point]"
   ]
  },
  {
   "cell_type": "code",
   "execution_count": 344,
   "metadata": {},
   "outputs": [
    {
     "data": {
      "text/plain": [
       "industry_categories      object\n",
       "size_categories          object\n",
       "org_profit_type          object\n",
       "hlth_insur_type          object\n",
       "hlth_insur_chng12        object\n",
       "hlth_insur_partime       object\n",
       "hlth_edu_progs           object\n",
       "work_from_home           object\n",
       "%empls_under_30          object\n",
       "%empls_over_60           object\n",
       "%empls_are_female       float64\n",
       "%empls_are_hourly        object\n",
       "%empls_other_shift       object\n",
       "%empls_work_remotely     object\n",
       "%empls_are_unionized     object\n",
       "%avg_annual_turnover     object\n",
       "gender_balance           object\n",
       "dtype: object"
      ]
     },
     "execution_count": 344,
     "metadata": {},
     "output_type": "execute_result"
    }
   ],
   "source": [
    "# Check their data type\n",
    "working_version.dtypes"
   ]
  },
  {
   "cell_type": "code",
   "execution_count": 345,
   "metadata": {},
   "outputs": [],
   "source": [
    "# Select all columns with categorical features\n",
    "cat_cols = ['industry_categories', 'size_categories', 'org_profit_type',\n",
    "       'hlth_insur_type', 'hlth_insur_chng12', 'hlth_insur_partime',\n",
    "       'hlth_edu_progs', 'work_from_home', 'gender_balance']\n",
    "# Same for numerical features\n",
    "num_cols = ['%empls_under_30', '%empls_over_60',\n",
    "       '%empls_are_female', '%empls_are_hourly', '%empls_other_shift',\n",
    "       '%empls_work_remotely', '%empls_are_unionized', '%avg_annual_turnover']"
   ]
  },
  {
   "cell_type": "code",
   "execution_count": 346,
   "metadata": {},
   "outputs": [],
   "source": [
    "# Change type from object to categorical\n",
    "working_version[cat_cols] = working_version[cat_cols].astype('category')\n",
    "# Change type from object to floar\n",
    "working_version[num_cols] = working_version[num_cols].astype('float')"
   ]
  },
  {
   "cell_type": "code",
   "execution_count": 347,
   "metadata": {},
   "outputs": [
    {
     "data": {
      "text/plain": [
       "industry_categories     category\n",
       "size_categories         category\n",
       "org_profit_type         category\n",
       "hlth_insur_type         category\n",
       "hlth_insur_chng12       category\n",
       "hlth_insur_partime      category\n",
       "hlth_edu_progs          category\n",
       "work_from_home          category\n",
       "%empls_under_30          float64\n",
       "%empls_over_60           float64\n",
       "%empls_are_female        float64\n",
       "%empls_are_hourly        float64\n",
       "%empls_other_shift       float64\n",
       "%empls_work_remotely     float64\n",
       "%empls_are_unionized     float64\n",
       "%avg_annual_turnover     float64\n",
       "gender_balance          category\n",
       "dtype: object"
      ]
     },
     "execution_count": 347,
     "metadata": {},
     "output_type": "execute_result"
    }
   ],
   "source": [
    "# Check if all the columns where changed\n",
    "working_version.dtypes"
   ]
  },
  {
   "cell_type": "markdown",
   "metadata": {},
   "source": [
    "## Problem 12\n",
    "Filter the data to only those rows that represent small workplaces that allow employees to work from home. Then report how many of these workplaces offer full insurance, partial insurance, and no insurance. Use a function that reports the percent, cumulative count, and cumulative percent in addition to the counts. [1 point]"
   ]
  },
  {
   "cell_type": "code",
   "execution_count": 439,
   "metadata": {},
   "outputs": [
    {
     "data": {
      "text/html": [
       "<div>\n",
       "<style scoped>\n",
       "    .dataframe tbody tr th:only-of-type {\n",
       "        vertical-align: middle;\n",
       "    }\n",
       "\n",
       "    .dataframe tbody tr th {\n",
       "        vertical-align: top;\n",
       "    }\n",
       "\n",
       "    .dataframe thead th {\n",
       "        text-align: right;\n",
       "    }\n",
       "</style>\n",
       "<table border=\"1\" class=\"dataframe\">\n",
       "  <thead>\n",
       "    <tr style=\"text-align: right;\">\n",
       "      <th></th>\n",
       "      <th>hlth_insur_type</th>\n",
       "      <th>count</th>\n",
       "      <th>percent</th>\n",
       "      <th>cumulative_count</th>\n",
       "      <th>cumulative_percent</th>\n",
       "    </tr>\n",
       "  </thead>\n",
       "  <tbody>\n",
       "    <tr>\n",
       "      <th>0</th>\n",
       "      <td>Full insurance</td>\n",
       "      <td>324</td>\n",
       "      <td>45.698166</td>\n",
       "      <td>324</td>\n",
       "      <td>45.698166</td>\n",
       "    </tr>\n",
       "    <tr>\n",
       "      <th>1</th>\n",
       "      <td>Partial insurance</td>\n",
       "      <td>310</td>\n",
       "      <td>43.723554</td>\n",
       "      <td>634</td>\n",
       "      <td>89.421721</td>\n",
       "    </tr>\n",
       "    <tr>\n",
       "      <th>2</th>\n",
       "      <td>No insurance</td>\n",
       "      <td>66</td>\n",
       "      <td>9.308886</td>\n",
       "      <td>700</td>\n",
       "      <td>98.730606</td>\n",
       "    </tr>\n",
       "    <tr>\n",
       "      <th>3</th>\n",
       "      <td></td>\n",
       "      <td>9</td>\n",
       "      <td>1.269394</td>\n",
       "      <td>709</td>\n",
       "      <td>100.000000</td>\n",
       "    </tr>\n",
       "  </tbody>\n",
       "</table>\n",
       "</div>"
      ],
      "text/plain": [
       "     hlth_insur_type  count    percent  cumulative_count  cumulative_percent\n",
       "0     Full insurance    324  45.698166               324           45.698166\n",
       "1  Partial insurance    310  43.723554               634           89.421721\n",
       "2       No insurance     66   9.308886               700           98.730606\n",
       "3                         9   1.269394               709          100.000000"
      ]
     },
     "execution_count": 439,
     "metadata": {},
     "output_type": "execute_result"
    }
   ],
   "source": [
    "working_version.query(\"size_categories == 'Small'& work_from_home =='Yes'\").stb.freq(['hlth_insur_type'])"
   ]
  },
  {
   "cell_type": "code",
   "execution_count": null,
   "metadata": {},
   "outputs": [],
   "source": []
  },
  {
   "cell_type": "code",
   "execution_count": null,
   "metadata": {},
   "outputs": [],
   "source": []
  },
  {
   "cell_type": "code",
   "execution_count": null,
   "metadata": {},
   "outputs": [],
   "source": []
  },
  {
   "cell_type": "markdown",
   "metadata": {},
   "source": [
    "## Problem 14\n",
    "Write `pandas` code that replicates the output of the following SQL code:\n",
    "```\n",
    "SELECT size, type, premiums AS insurance, percent_female FROM whpps\n",
    "WHERE industry = 'Hospitals' AND premium_change='Smaller'\n",
    "ORDER BY percent_female DESC;\n",
    "```\n",
    "For each of these queries, your feature names might be different from the ones listed in the query, depending on the names you chose in problem 3.\n",
    "[2 points]"
   ]
  },
  {
   "cell_type": "code",
   "execution_count": null,
   "metadata": {},
   "outputs": [],
   "source": []
  },
  {
   "cell_type": "code",
   "execution_count": null,
   "metadata": {},
   "outputs": [],
   "source": []
  },
  {
   "cell_type": "code",
   "execution_count": null,
   "metadata": {},
   "outputs": [],
   "source": []
  },
  {
   "cell_type": "markdown",
   "metadata": {},
   "source": [
    "## Problem 15\n",
    "Write `pandas` code that replicates the output of the following SQL code:\n",
    "```\n",
    "SELECT industry, \n",
    "    AVG(percent_female) as percent_female, \n",
    "    AVG(percent_under30) as percent_under30,\n",
    "    AVG(percent_over60) as percent_over60\n",
    "FROM whpps\n",
    "GROUP BY industry\n",
    "ORDER BY percent_female DESC;\n",
    "```\n",
    "[2 points]"
   ]
  },
  {
   "cell_type": "code",
   "execution_count": null,
   "metadata": {},
   "outputs": [],
   "source": []
  },
  {
   "cell_type": "code",
   "execution_count": null,
   "metadata": {},
   "outputs": [],
   "source": []
  },
  {
   "cell_type": "code",
   "execution_count": null,
   "metadata": {},
   "outputs": [],
   "source": []
  },
  {
   "cell_type": "code",
   "execution_count": null,
   "metadata": {},
   "outputs": [],
   "source": []
  },
  {
   "cell_type": "markdown",
   "metadata": {},
   "source": [
    "## Problem 16\n",
    "Write `pandas` code that replicates the output of the following SQL code:\n",
    "```\n",
    "SELECT gender_balance, premiums, COUNT(*)\n",
    "FROM whpps\n",
    "GROUP BY gender_balance, premiums\n",
    "HAVING gender_balance is NOT NULL and premiums is NOT NULL;\n",
    "```\n",
    "[2 points]"
   ]
  },
  {
   "cell_type": "code",
   "execution_count": null,
   "metadata": {},
   "outputs": [],
   "source": []
  },
  {
   "cell_type": "code",
   "execution_count": null,
   "metadata": {},
   "outputs": [],
   "source": []
  },
  {
   "cell_type": "code",
   "execution_count": null,
   "metadata": {},
   "outputs": [],
   "source": []
  },
  {
   "cell_type": "code",
   "execution_count": null,
   "metadata": {},
   "outputs": [],
   "source": []
  }
 ],
 "metadata": {
  "kernelspec": {
   "display_name": "Python 3",
   "language": "python",
   "name": "python3"
  },
  "language_info": {
   "codemirror_mode": {
    "name": "ipython",
    "version": 3
   },
   "file_extension": ".py",
   "mimetype": "text/x-python",
   "name": "python",
   "nbconvert_exporter": "python",
   "pygments_lexer": "ipython3",
   "version": "3.8.3"
  }
 },
 "nbformat": 4,
 "nbformat_minor": 4
}
