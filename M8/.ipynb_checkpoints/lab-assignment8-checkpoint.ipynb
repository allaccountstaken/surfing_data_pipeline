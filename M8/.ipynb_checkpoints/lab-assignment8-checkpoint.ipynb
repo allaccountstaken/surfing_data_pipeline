{
 "cells": [
  {
   "cell_type": "markdown",
   "metadata": {},
   "source": [
    "# Lab Assignment 8: Data Management Using `pandas`, Part 1\n",
    "## DS 6001: Practice and Application of Data Science\n",
    "\n",
    "### Instructions\n",
    "Please answer the following questions as completely as possible using text, code, and the results of code as needed. Format your answers in a Jupyter notebook. To receive full credit, make sure you address every part of the problem, and make sure your document is formatted in a clean and professional way.\n",
    "\n",
    "In this lab, you will be working with the [2017 Workplace Health in America survey](https://www.cdc.gov/workplacehealthpromotion/survey/data.html) which was conducted by the Centers for Disease Control and Prevention. According to the survey's [guidence document](https://www.cdc.gov/workplacehealthpromotion/data-surveillance/docs/2017-WHA-Guidance-Document-for-Use-of-Public-Data-files-508.pdf):\n",
    "\n",
    "> The Workplace Health in America (WHA) Survey gathered information from a cross-sectional, nationally representative sample of US worksites. The sample was drawn from the Dun & Bradstreet (D&B) database of all private and public employers in the United States with at least 10 employees. Like previous national surveys, the worksite served as the sampling unit rather than the companies or firms to which the worksites belonged. Worksites were selected using a stratified simple random sample (SRS) design, where the primary strata were ten multi-state regions defined by the Centers for Disease Control and Prevention (CDC), plus an additional stratum containing all hospital worksites. \n",
    "\n",
    "The data contain over 300 features that report the industry and type of company where the respondents are employed, what kind of health insurance and other health programs are offered, and other characteristics of the workplaces including whether employees are allowed to work from home and the gender and age makeup of the workforce. The data are full of interesting information, but in order to make use of the data a great deal of data manipulation is required first."
   ]
  },
  {
   "cell_type": "markdown",
   "metadata": {},
   "source": [
    "## Problem 0\n",
    "Import the following libraries:"
   ]
  },
  {
   "cell_type": "code",
   "execution_count": 2,
   "metadata": {},
   "outputs": [
    {
     "name": "stdout",
     "output_type": "stream",
     "text": [
      "Collecting sidetable\n",
      "  Downloading sidetable-0.9.0-py3-none-any.whl (17 kB)\n",
      "Requirement already satisfied: pandas>=1.0 in /Users/dmitrymikhaylov/opt/anaconda3/lib/python3.8/site-packages (from sidetable) (1.4.1)\n",
      "Requirement already satisfied: pytz>=2020.1 in /Users/dmitrymikhaylov/opt/anaconda3/lib/python3.8/site-packages (from pandas>=1.0->sidetable) (2020.1)\n",
      "Requirement already satisfied: python-dateutil>=2.8.1 in /Users/dmitrymikhaylov/opt/anaconda3/lib/python3.8/site-packages (from pandas>=1.0->sidetable) (2.8.1)\n",
      "Requirement already satisfied: numpy>=1.18.5 in /Users/dmitrymikhaylov/opt/anaconda3/lib/python3.8/site-packages (from pandas>=1.0->sidetable) (1.18.5)\n",
      "Requirement already satisfied: six>=1.5 in /Users/dmitrymikhaylov/opt/anaconda3/lib/python3.8/site-packages (from python-dateutil>=2.8.1->pandas>=1.0->sidetable) (1.15.0)\n",
      "Installing collected packages: sidetable\n",
      "Successfully installed sidetable-0.9.0\n",
      "\u001b[33mWARNING: You are using pip version 22.0.3; however, version 22.0.4 is available.\n",
      "You should consider upgrading via the '/Users/dmitrymikhaylov/opt/anaconda3/bin/python -m pip install --upgrade pip' command.\u001b[0m\u001b[33m\n",
      "\u001b[0m"
     ]
    }
   ],
   "source": [
    "!pip install sidetable"
   ]
  },
  {
   "cell_type": "code",
   "execution_count": 3,
   "metadata": {},
   "outputs": [],
   "source": [
    "import numpy as np\n",
    "import pandas as pd\n",
    "import sidetable\n",
    "import sqlite3\n",
    "import warnings\n",
    "warnings.filterwarnings('ignore')"
   ]
  },
  {
   "cell_type": "markdown",
   "metadata": {},
   "source": [
    "## Problem 1\n",
    "The raw data are stored in an ASCII file on the 2017 Workplace Health in America survey [homepage](https://www.cdc.gov/workplacehealthpromotion/survey/data.html). Load the raw data directly into Python without downloading the data onto your harddrive and display a dataframe with only the 14th, 28th, and 102nd rows of the data. [1 point]"
   ]
  },
  {
   "cell_type": "code",
   "execution_count": 5,
   "metadata": {},
   "outputs": [
    {
     "data": {
      "text/html": [
       "<div>\n",
       "<style scoped>\n",
       "    .dataframe tbody tr th:only-of-type {\n",
       "        vertical-align: middle;\n",
       "    }\n",
       "\n",
       "    .dataframe tbody tr th {\n",
       "        vertical-align: top;\n",
       "    }\n",
       "\n",
       "    .dataframe thead th {\n",
       "        text-align: right;\n",
       "    }\n",
       "</style>\n",
       "<table border=\"1\" class=\"dataframe\">\n",
       "  <thead>\n",
       "    <tr style=\"text-align: right;\">\n",
       "      <th></th>\n",
       "      <th>OC1</th>\n",
       "      <th>OC3</th>\n",
       "      <th>HI1</th>\n",
       "      <th>HI2</th>\n",
       "      <th>HI3</th>\n",
       "      <th>HI4</th>\n",
       "      <th>HRA1</th>\n",
       "      <th>HRA1A</th>\n",
       "      <th>HRA1B</th>\n",
       "      <th>HRA1E</th>\n",
       "      <th>...</th>\n",
       "      <th>WL3_05</th>\n",
       "      <th>E1_09</th>\n",
       "      <th>Suppquex</th>\n",
       "      <th>Id</th>\n",
       "      <th>Region</th>\n",
       "      <th>CDC_Region</th>\n",
       "      <th>Industry</th>\n",
       "      <th>Size</th>\n",
       "      <th>Varstrata</th>\n",
       "      <th>Finalwt_worksite</th>\n",
       "    </tr>\n",
       "  </thead>\n",
       "  <tbody>\n",
       "    <tr>\n",
       "      <th>0</th>\n",
       "      <td>7.0</td>\n",
       "      <td>3.0</td>\n",
       "      <td>2.0</td>\n",
       "      <td>1.0</td>\n",
       "      <td>2.0</td>\n",
       "      <td>1.0</td>\n",
       "      <td>1.0</td>\n",
       "      <td>3.0</td>\n",
       "      <td>4.0</td>\n",
       "      <td>2.0</td>\n",
       "      <td>...</td>\n",
       "      <td>b'PTO'</td>\n",
       "      <td>NaN</td>\n",
       "      <td>2.0</td>\n",
       "      <td>b'0000000217'</td>\n",
       "      <td>1.0</td>\n",
       "      <td>2.0</td>\n",
       "      <td>7.0</td>\n",
       "      <td>7.0</td>\n",
       "      <td>0.0</td>\n",
       "      <td>47.793941</td>\n",
       "    </tr>\n",
       "    <tr>\n",
       "      <th>1</th>\n",
       "      <td>2.0</td>\n",
       "      <td>3.0</td>\n",
       "      <td>2.0</td>\n",
       "      <td>3.0</td>\n",
       "      <td>1.0</td>\n",
       "      <td>1.0</td>\n",
       "      <td>1.0</td>\n",
       "      <td>3.0</td>\n",
       "      <td>3.0</td>\n",
       "      <td>1.0</td>\n",
       "      <td>...</td>\n",
       "      <td>NaN</td>\n",
       "      <td>NaN</td>\n",
       "      <td>1.0</td>\n",
       "      <td>b'0000000326'</td>\n",
       "      <td>3.0</td>\n",
       "      <td>7.0</td>\n",
       "      <td>7.0</td>\n",
       "      <td>6.0</td>\n",
       "      <td>0.0</td>\n",
       "      <td>47.793941</td>\n",
       "    </tr>\n",
       "    <tr>\n",
       "      <th>2</th>\n",
       "      <td>7.0</td>\n",
       "      <td>3.0</td>\n",
       "      <td>1.0</td>\n",
       "      <td>3.0</td>\n",
       "      <td>1.0</td>\n",
       "      <td>1.0</td>\n",
       "      <td>1.0</td>\n",
       "      <td>3.0</td>\n",
       "      <td>97.0</td>\n",
       "      <td>2.0</td>\n",
       "      <td>...</td>\n",
       "      <td>NaN</td>\n",
       "      <td>NaN</td>\n",
       "      <td>1.0</td>\n",
       "      <td>b'0000000399'</td>\n",
       "      <td>4.0</td>\n",
       "      <td>8.0</td>\n",
       "      <td>7.0</td>\n",
       "      <td>8.0</td>\n",
       "      <td>0.0</td>\n",
       "      <td>47.793941</td>\n",
       "    </tr>\n",
       "    <tr>\n",
       "      <th>3</th>\n",
       "      <td>1.0</td>\n",
       "      <td>2.0</td>\n",
       "      <td>1.0</td>\n",
       "      <td>2.0</td>\n",
       "      <td>1.0</td>\n",
       "      <td>1.0</td>\n",
       "      <td>97.0</td>\n",
       "      <td>96.0</td>\n",
       "      <td>96.0</td>\n",
       "      <td>96.0</td>\n",
       "      <td>...</td>\n",
       "      <td>NaN</td>\n",
       "      <td>NaN</td>\n",
       "      <td>1.0</td>\n",
       "      <td>b'0000000475'</td>\n",
       "      <td>5.0</td>\n",
       "      <td>9.0</td>\n",
       "      <td>7.0</td>\n",
       "      <td>4.0</td>\n",
       "      <td>0.0</td>\n",
       "      <td>47.793941</td>\n",
       "    </tr>\n",
       "    <tr>\n",
       "      <th>4</th>\n",
       "      <td>2.0</td>\n",
       "      <td>3.0</td>\n",
       "      <td>1.0</td>\n",
       "      <td>3.0</td>\n",
       "      <td>1.0</td>\n",
       "      <td>1.0</td>\n",
       "      <td>1.0</td>\n",
       "      <td>3.0</td>\n",
       "      <td>3.0</td>\n",
       "      <td>2.0</td>\n",
       "      <td>...</td>\n",
       "      <td>NaN</td>\n",
       "      <td>NaN</td>\n",
       "      <td>1.0</td>\n",
       "      <td>b'0000000489'</td>\n",
       "      <td>2.0</td>\n",
       "      <td>4.0</td>\n",
       "      <td>7.0</td>\n",
       "      <td>4.0</td>\n",
       "      <td>0.0</td>\n",
       "      <td>47.793941</td>\n",
       "    </tr>\n",
       "  </tbody>\n",
       "</table>\n",
       "<p>5 rows × 301 columns</p>\n",
       "</div>"
      ],
      "text/plain": [
       "   OC1  OC3  HI1  HI2  HI3  HI4  HRA1  HRA1A  HRA1B  HRA1E  ...  WL3_05  \\\n",
       "0  7.0  3.0  2.0  1.0  2.0  1.0   1.0    3.0    4.0    2.0  ...  b'PTO'   \n",
       "1  2.0  3.0  2.0  3.0  1.0  1.0   1.0    3.0    3.0    1.0  ...     NaN   \n",
       "2  7.0  3.0  1.0  3.0  1.0  1.0   1.0    3.0   97.0    2.0  ...     NaN   \n",
       "3  1.0  2.0  1.0  2.0  1.0  1.0  97.0   96.0   96.0   96.0  ...     NaN   \n",
       "4  2.0  3.0  1.0  3.0  1.0  1.0   1.0    3.0    3.0    2.0  ...     NaN   \n",
       "\n",
       "   E1_09  Suppquex             Id  Region  CDC_Region  Industry  Size  \\\n",
       "0    NaN       2.0  b'0000000217'     1.0         2.0       7.0   7.0   \n",
       "1    NaN       1.0  b'0000000326'     3.0         7.0       7.0   6.0   \n",
       "2    NaN       1.0  b'0000000399'     4.0         8.0       7.0   8.0   \n",
       "3    NaN       1.0  b'0000000475'     5.0         9.0       7.0   4.0   \n",
       "4    NaN       1.0  b'0000000489'     2.0         4.0       7.0   4.0   \n",
       "\n",
       "   Varstrata  Finalwt_worksite  \n",
       "0        0.0         47.793941  \n",
       "1        0.0         47.793941  \n",
       "2        0.0         47.793941  \n",
       "3        0.0         47.793941  \n",
       "4        0.0         47.793941  \n",
       "\n",
       "[5 rows x 301 columns]"
      ]
     },
     "execution_count": 5,
     "metadata": {},
     "output_type": "execute_result"
    }
   ],
   "source": [
    "#url = \"https://www.cdc.gov/workplacehealthpromotion/data-surveillance/docs/whpps_120717.csv\"\n",
    "url = \"https://www.cdc.gov/workplacehealthpromotion/data-surveillance/docs/WHA_120717.sas7bdat\"\n",
    "data = pd.read_sas(url)\n",
    "data.head()"
   ]
  },
  {
   "cell_type": "markdown",
   "metadata": {},
   "source": [
    "## Problem 2 \n",
    "The data contain 301 columns. Create a new variable in Python's memory to store a working version of the data. In the working version, delete all of the columns except for the following:\n",
    "\n",
    "* `Industry`: 7 Industry Categories with NAICS codes\n",
    "\n",
    "* `Size`: 8 Employee Size Categories\n",
    "\n",
    "* `OC3` Is your organization for profit, non-profit, government?\n",
    "\n",
    "* `HI1` In general, do you offer full, partial or no payment of premiums for personal health insurance for full-time employees?\n",
    "\n",
    "* `HI2` Over the past 12 months, were full-time employees asked to pay a larger proportion, smaller proportion or the same proportion of personal health insurance premiums?\n",
    "\n",
    "* `HI3`: Does your organization offer personal health insurance for your part-time employees?\n",
    "\n",
    "* `CP1`: Are there health education programs, which focus on skill development and lifestyle behavior change along with information dissemination and awareness building?\n",
    "\n",
    "* `WL6`: Allow employees to work from home?\n",
    "\n",
    "* Every column that begins `WD`, expressing the percentage of employees that have certain characteristics at the firm\n",
    "\n",
    "[1 point]"
   ]
  },
  {
   "cell_type": "code",
   "execution_count": null,
   "metadata": {},
   "outputs": [],
   "source": []
  },
  {
   "cell_type": "code",
   "execution_count": null,
   "metadata": {},
   "outputs": [],
   "source": []
  },
  {
   "cell_type": "code",
   "execution_count": null,
   "metadata": {},
   "outputs": [],
   "source": []
  },
  {
   "cell_type": "code",
   "execution_count": null,
   "metadata": {},
   "outputs": [],
   "source": []
  },
  {
   "cell_type": "markdown",
   "metadata": {},
   "source": [
    "## Problem 3\n",
    "The [codebook](https://www.cdc.gov/workplacehealthpromotion/data-surveillance/docs/2017-WHA-Datafile-Codebook-508.pdf) for the WHA data contain short descriptions of the meaning of each of the columns in the data. Use these descriptions to decide on better and more intuitive names for the columns in the working version of the data, and rename the columns accordingly. [1 point]"
   ]
  },
  {
   "cell_type": "code",
   "execution_count": null,
   "metadata": {},
   "outputs": [],
   "source": []
  },
  {
   "cell_type": "code",
   "execution_count": null,
   "metadata": {},
   "outputs": [],
   "source": []
  },
  {
   "cell_type": "code",
   "execution_count": null,
   "metadata": {},
   "outputs": [],
   "source": []
  },
  {
   "cell_type": "code",
   "execution_count": null,
   "metadata": {},
   "outputs": [],
   "source": []
  },
  {
   "cell_type": "markdown",
   "metadata": {},
   "source": [
    "## Problem 4\n",
    "Using the codebook and this [dictionary of NAICS industrial codes](https://www.naics.com/search-naics-codes-by-industry/), place descriptive labels on the categories of the industry column in the working data. [1 point]"
   ]
  },
  {
   "cell_type": "code",
   "execution_count": null,
   "metadata": {},
   "outputs": [],
   "source": []
  },
  {
   "cell_type": "code",
   "execution_count": null,
   "metadata": {},
   "outputs": [],
   "source": []
  },
  {
   "cell_type": "code",
   "execution_count": null,
   "metadata": {},
   "outputs": [],
   "source": []
  },
  {
   "cell_type": "code",
   "execution_count": null,
   "metadata": {},
   "outputs": [],
   "source": []
  },
  {
   "cell_type": "markdown",
   "metadata": {},
   "source": [
    "## Problem 5\n",
    "Using the codebook, recode the \"size\" column to have three categories: \"Small\" for workplaces with fewer than 100 employees, \"Medium\" for workplaces with at least 100 but fewer than 500 employees, and \"Large\" for companies with at least 500 employees. [Note: Python dataframes have an attribute `.size` that reports the space the dataframe takes up in memory. Don't confuse this attribute with the column named \"Size\" in the raw data.] [1 point]"
   ]
  },
  {
   "cell_type": "code",
   "execution_count": null,
   "metadata": {},
   "outputs": [],
   "source": []
  },
  {
   "cell_type": "code",
   "execution_count": null,
   "metadata": {},
   "outputs": [],
   "source": []
  },
  {
   "cell_type": "code",
   "execution_count": null,
   "metadata": {},
   "outputs": [],
   "source": []
  },
  {
   "cell_type": "code",
   "execution_count": null,
   "metadata": {},
   "outputs": [],
   "source": []
  },
  {
   "cell_type": "markdown",
   "metadata": {},
   "source": [
    "## Problem 6\n",
    "Use the codebook to write accurate and descriptive labels for each category for each categorical column in the working data. Then apply all of these labels to the data at once. Code \"Legitimate Skip\", \"Don't know\", \"Refused\", and \"Blank\" as missing values. [2 points]"
   ]
  },
  {
   "cell_type": "code",
   "execution_count": null,
   "metadata": {},
   "outputs": [],
   "source": []
  },
  {
   "cell_type": "code",
   "execution_count": null,
   "metadata": {},
   "outputs": [],
   "source": []
  },
  {
   "cell_type": "code",
   "execution_count": null,
   "metadata": {},
   "outputs": [],
   "source": []
  },
  {
   "cell_type": "markdown",
   "metadata": {},
   "source": [
    "## Problem 7\n",
    "The features that measure the percent of the workforce with a particular characteristic use the codes 997, 998, and 999 to represent \"Don't know\", \"Refusal\", and \"Blank/Invalid\" respectively. Replace these values with missing values for all of the percentage features at the same time. [1 point]"
   ]
  },
  {
   "cell_type": "markdown",
   "metadata": {},
   "source": [
    "## Problem 8\n",
    "Sort the working data by industry in ascending alphabetical order. Within industry categories, sort the rows by size in ascending alphabetical order. Within groups with the same industry and size, sort by percent of the workforce that is under 30 in descending numeric order. [1 point]"
   ]
  },
  {
   "cell_type": "markdown",
   "metadata": {},
   "source": [
    "## Problem 9\n",
    "There is one row in the working data that has a `NaN` value for industry. Delete this row. Use a logical expression, and not the row number. [1 point]"
   ]
  },
  {
   "cell_type": "markdown",
   "metadata": {},
   "source": [
    "## Problem 10\n",
    "Create a new feature named `gender_balance` that has three categories: \"Mostly men\" for workplaces with between 0% and 35% female employees, \"Balanced\" for workplaces with more than 35% and at most 65% female employees, and \"Mostly women\" for workplaces with more than 65% female employees. [1 point]"
   ]
  },
  {
   "cell_type": "markdown",
   "metadata": {},
   "source": [
    "## Problem 11\n",
    "Change the data type of all categorical features in the working data from \"object\" to \"category\". [1 point]"
   ]
  },
  {
   "cell_type": "markdown",
   "metadata": {},
   "source": [
    "## Problem 12\n",
    "Filter the data to only those rows that represent small workplaces that allow employees to work from home. Then report how many of these workplaces offer full insurance, partial insurance, and no insurance. Use a function that reports the percent, cumulative count, and cumulative percent in addition to the counts. [1 point]"
   ]
  },
  {
   "cell_type": "markdown",
   "metadata": {},
   "source": [
    "## Problem 13\n",
    "Anything that can be done in SQL can be done with `pandas`. The next several questions ask you to write `pandas` code to match a given SQL query. But to check that the SQL query and `pandas` code yield the same result, create a new database wsing the `sqlite3` package and input the cleaned WHA data as a table in this database. (See module 6 for a discussion of SQlite in Python.) [1 point]"
   ]
  },
  {
   "cell_type": "markdown",
   "metadata": {},
   "source": [
    "## Problem 14\n",
    "Write `pandas` code that replicates the output of the following SQL code:\n",
    "```\n",
    "SELECT size, type, premiums AS insurance, percent_female FROM whpps\n",
    "WHERE industry = 'Hospitals' AND premium_change='Smaller'\n",
    "ORDER BY percent_female DESC;\n",
    "```\n",
    "For each of these queries, your feature names might be different from the ones listed in the query, depending on the names you chose in problem 3.\n",
    "[2 points]"
   ]
  },
  {
   "cell_type": "markdown",
   "metadata": {},
   "source": [
    "## Problem 15\n",
    "Write `pandas` code that replicates the output of the following SQL code:\n",
    "```\n",
    "SELECT industry, \n",
    "    AVG(percent_female) as percent_female, \n",
    "    AVG(percent_under30) as percent_under30,\n",
    "    AVG(percent_over60) as percent_over60\n",
    "FROM whpps\n",
    "GROUP BY industry\n",
    "ORDER BY percent_female DESC;\n",
    "```\n",
    "[2 points]"
   ]
  },
  {
   "cell_type": "markdown",
   "metadata": {},
   "source": [
    "## Problem 16\n",
    "Write `pandas` code that replicates the output of the following SQL code:\n",
    "```\n",
    "SELECT gender_balance, premiums, COUNT(*)\n",
    "FROM whpps\n",
    "GROUP BY gender_balance, premiums\n",
    "HAVING gender_balance is NOT NULL and premiums is NOT NULL;\n",
    "```\n",
    "[2 points]"
   ]
  }
 ],
 "metadata": {
  "kernelspec": {
   "display_name": "Python 3",
   "language": "python",
   "name": "python3"
  },
  "language_info": {
   "codemirror_mode": {
    "name": "ipython",
    "version": 3
   },
   "file_extension": ".py",
   "mimetype": "text/x-python",
   "name": "python",
   "nbconvert_exporter": "python",
   "pygments_lexer": "ipython3",
   "version": "3.8.3"
  }
 },
 "nbformat": 4,
 "nbformat_minor": 4
}
