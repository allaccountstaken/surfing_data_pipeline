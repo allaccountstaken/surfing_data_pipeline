{
 "cells": [
  {
   "cell_type": "code",
   "execution_count": 1,
   "metadata": {},
   "outputs": [],
   "source": [
    "import pandas as pd"
   ]
  },
  {
   "cell_type": "code",
   "execution_count": 10,
   "metadata": {},
   "outputs": [],
   "source": [
    "data_dictionary = pd.read_clipboard(index_col=0)"
   ]
  },
  {
   "cell_type": "code",
   "execution_count": 11,
   "metadata": {},
   "outputs": [
    {
     "data": {
      "text/html": [
       "<div>\n",
       "<style scoped>\n",
       "    .dataframe tbody tr th:only-of-type {\n",
       "        vertical-align: middle;\n",
       "    }\n",
       "\n",
       "    .dataframe tbody tr th {\n",
       "        vertical-align: top;\n",
       "    }\n",
       "\n",
       "    .dataframe thead th {\n",
       "        text-align: right;\n",
       "    }\n",
       "</style>\n",
       "<table border=\"1\" class=\"dataframe\">\n",
       "  <thead>\n",
       "    <tr style=\"text-align: right;\">\n",
       "      <th></th>\n",
       "      <th>Column name</th>\n",
       "      <th>Description</th>\n",
       "    </tr>\n",
       "    <tr>\n",
       "      <th>Column No.</th>\n",
       "      <th></th>\n",
       "      <th></th>\n",
       "    </tr>\n",
       "  </thead>\n",
       "  <tbody>\n",
       "    <tr>\n",
       "      <th>0</th>\n",
       "      <td>person_id</td>\n",
       "      <td>Numeric: A unique id that anonymizes individua...</td>\n",
       "    </tr>\n",
       "    <tr>\n",
       "      <th>1</th>\n",
       "      <td>HearingDate</td>\n",
       "      <td>Datetime: Date of court hearing in YYYY-MM-DD ...</td>\n",
       "    </tr>\n",
       "    <tr>\n",
       "      <th>2</th>\n",
       "      <td>CodeSection</td>\n",
       "      <td>String: The section of the Virginia criminal c...</td>\n",
       "    </tr>\n",
       "    <tr>\n",
       "      <th>3</th>\n",
       "      <td>codesection</td>\n",
       "      <td>Categorical: is the code section one of the on...</td>\n",
       "    </tr>\n",
       "    <tr>\n",
       "      <th>4</th>\n",
       "      <td>ChargeType</td>\n",
       "      <td>String: Felony or Misdemeanor or rare alternat...</td>\n",
       "    </tr>\n",
       "  </tbody>\n",
       "</table>\n",
       "</div>"
      ],
      "text/plain": [
       "            Column name                                        Description\n",
       "Column No.                                                                \n",
       "0             person_id  Numeric: A unique id that anonymizes individua...\n",
       "1           HearingDate  Datetime: Date of court hearing in YYYY-MM-DD ...\n",
       "2           CodeSection  String: The section of the Virginia criminal c...\n",
       "3           codesection  Categorical: is the code section one of the on...\n",
       "4            ChargeType  String: Felony or Misdemeanor or rare alternat..."
      ]
     },
     "execution_count": 11,
     "metadata": {},
     "output_type": "execute_result"
    }
   ],
   "source": [
    "data_dictionary.head()"
   ]
  },
  {
   "cell_type": "code",
   "execution_count": 16,
   "metadata": {},
   "outputs": [],
   "source": [
    "fips = pd.read_clipboard()"
   ]
  },
  {
   "cell_type": "code",
   "execution_count": 17,
   "metadata": {},
   "outputs": [
    {
     "data": {
      "text/html": [
       "<div>\n",
       "<style scoped>\n",
       "    .dataframe tbody tr th:only-of-type {\n",
       "        vertical-align: middle;\n",
       "    }\n",
       "\n",
       "    .dataframe tbody tr th {\n",
       "        vertical-align: top;\n",
       "    }\n",
       "\n",
       "    .dataframe thead th {\n",
       "        text-align: right;\n",
       "    }\n",
       "</style>\n",
       "<table border=\"1\" class=\"dataframe\">\n",
       "  <thead>\n",
       "    <tr style=\"text-align: right;\">\n",
       "      <th></th>\n",
       "      <th>fips</th>\n",
       "      <th>name</th>\n",
       "    </tr>\n",
       "  </thead>\n",
       "  <tbody>\n",
       "    <tr>\n",
       "      <th>0</th>\n",
       "      <td>1</td>\n",
       "      <td>Accomack Circuit Court</td>\n",
       "    </tr>\n",
       "    <tr>\n",
       "      <th>1</th>\n",
       "      <td>3</td>\n",
       "      <td>Albemarle Circuit Court</td>\n",
       "    </tr>\n",
       "    <tr>\n",
       "      <th>2</th>\n",
       "      <td>5</td>\n",
       "      <td>Alleghany Circuit Court</td>\n",
       "    </tr>\n",
       "    <tr>\n",
       "      <th>3</th>\n",
       "      <td>7</td>\n",
       "      <td>Amelia Circuit Court</td>\n",
       "    </tr>\n",
       "    <tr>\n",
       "      <th>4</th>\n",
       "      <td>9</td>\n",
       "      <td>Amherst Circuit Court</td>\n",
       "    </tr>\n",
       "  </tbody>\n",
       "</table>\n",
       "</div>"
      ],
      "text/plain": [
       "   fips                     name\n",
       "0     1   Accomack Circuit Court\n",
       "1     3  Albemarle Circuit Court\n",
       "2     5  Alleghany Circuit Court\n",
       "3     7     Amelia Circuit Court\n",
       "4     9    Amherst Circuit Court"
      ]
     },
     "execution_count": 17,
     "metadata": {},
     "output_type": "execute_result"
    }
   ],
   "source": [
    "fips.head()"
   ]
  },
  {
   "cell_type": "code",
   "execution_count": 12,
   "metadata": {},
   "outputs": [
    {
     "name": "stdout",
     "output_type": "stream",
     "text": [
      "M8_codealong.ipynb    data1k.csv            lab-assignment8.ipynb\r\n"
     ]
    }
   ],
   "source": [
    "!ls"
   ]
  },
  {
   "cell_type": "code",
   "execution_count": 15,
   "metadata": {},
   "outputs": [
    {
     "data": {
      "text/html": [
       "<div>\n",
       "<style scoped>\n",
       "    .dataframe tbody tr th:only-of-type {\n",
       "        vertical-align: middle;\n",
       "    }\n",
       "\n",
       "    .dataframe tbody tr th {\n",
       "        vertical-align: top;\n",
       "    }\n",
       "\n",
       "    .dataframe thead th {\n",
       "        text-align: right;\n",
       "    }\n",
       "</style>\n",
       "<table border=\"1\" class=\"dataframe\">\n",
       "  <thead>\n",
       "    <tr style=\"text-align: right;\">\n",
       "      <th></th>\n",
       "      <th>0</th>\n",
       "    </tr>\n",
       "  </thead>\n",
       "  <tbody>\n",
       "    <tr>\n",
       "      <th>person_id</th>\n",
       "      <td>199031000000439</td>\n",
       "    </tr>\n",
       "    <tr>\n",
       "      <th>HearingDate</th>\n",
       "      <td>2018-06-01</td>\n",
       "    </tr>\n",
       "    <tr>\n",
       "      <th>CodeSection</th>\n",
       "      <td>A.46.2-862</td>\n",
       "    </tr>\n",
       "    <tr>\n",
       "      <th>codesection</th>\n",
       "      <td>covered elsewhere</td>\n",
       "    </tr>\n",
       "    <tr>\n",
       "      <th>ChargeType</th>\n",
       "      <td>Misdemeanor</td>\n",
       "    </tr>\n",
       "    <tr>\n",
       "      <th>chargetype</th>\n",
       "      <td>Misdemeanor</td>\n",
       "    </tr>\n",
       "    <tr>\n",
       "      <th>Class</th>\n",
       "      <td>NaN</td>\n",
       "    </tr>\n",
       "    <tr>\n",
       "      <th>DispositionCode</th>\n",
       "      <td>Guilty</td>\n",
       "    </tr>\n",
       "    <tr>\n",
       "      <th>disposition</th>\n",
       "      <td>Conviction</td>\n",
       "    </tr>\n",
       "    <tr>\n",
       "      <th>Plea</th>\n",
       "      <td>NaN</td>\n",
       "    </tr>\n",
       "    <tr>\n",
       "      <th>Race</th>\n",
       "      <td>Black(Non-Hispanic)</td>\n",
       "    </tr>\n",
       "    <tr>\n",
       "      <th>Sex</th>\n",
       "      <td>Female</td>\n",
       "    </tr>\n",
       "    <tr>\n",
       "      <th>fips</th>\n",
       "      <td>117</td>\n",
       "    </tr>\n",
       "    <tr>\n",
       "      <th>convictions</th>\n",
       "      <td>True</td>\n",
       "    </tr>\n",
       "    <tr>\n",
       "      <th>arrests</th>\n",
       "      <td>False</td>\n",
       "    </tr>\n",
       "    <tr>\n",
       "      <th>felony10</th>\n",
       "      <td>False</td>\n",
       "    </tr>\n",
       "    <tr>\n",
       "      <th>sevenyear</th>\n",
       "      <td>False</td>\n",
       "    </tr>\n",
       "    <tr>\n",
       "      <th>tenyear</th>\n",
       "      <td>False</td>\n",
       "    </tr>\n",
       "    <tr>\n",
       "      <th>within7</th>\n",
       "      <td>True</td>\n",
       "    </tr>\n",
       "    <tr>\n",
       "      <th>within10</th>\n",
       "      <td>True</td>\n",
       "    </tr>\n",
       "    <tr>\n",
       "      <th>class1_2</th>\n",
       "      <td>False</td>\n",
       "    </tr>\n",
       "    <tr>\n",
       "      <th>class3_4</th>\n",
       "      <td>False</td>\n",
       "    </tr>\n",
       "    <tr>\n",
       "      <th>expungable</th>\n",
       "      <td>Automatic (pending)</td>\n",
       "    </tr>\n",
       "    <tr>\n",
       "      <th>old_expungable</th>\n",
       "      <td>False</td>\n",
       "    </tr>\n",
       "    <tr>\n",
       "      <th>expungable_no_lifetimelimit</th>\n",
       "      <td>Automatic (pending)</td>\n",
       "    </tr>\n",
       "    <tr>\n",
       "      <th>reason</th>\n",
       "      <td>Conviction of misdemeanor charges listed in 19...</td>\n",
       "    </tr>\n",
       "    <tr>\n",
       "      <th>sameday</th>\n",
       "      <td>False</td>\n",
       "    </tr>\n",
       "    <tr>\n",
       "      <th>lifetime</th>\n",
       "      <td>False</td>\n",
       "    </tr>\n",
       "  </tbody>\n",
       "</table>\n",
       "</div>"
      ],
      "text/plain": [
       "                                                                             0\n",
       "person_id                                                      199031000000439\n",
       "HearingDate                                                         2018-06-01\n",
       "CodeSection                                                         A.46.2-862\n",
       "codesection                                                  covered elsewhere\n",
       "ChargeType                                                         Misdemeanor\n",
       "chargetype                                                         Misdemeanor\n",
       "Class                                                                      NaN\n",
       "DispositionCode                                                         Guilty\n",
       "disposition                                                         Conviction\n",
       "Plea                                                                       NaN\n",
       "Race                                                       Black(Non-Hispanic)\n",
       "Sex                                                                     Female\n",
       "fips                                                                       117\n",
       "convictions                                                               True\n",
       "arrests                                                                  False\n",
       "felony10                                                                 False\n",
       "sevenyear                                                                False\n",
       "tenyear                                                                  False\n",
       "within7                                                                   True\n",
       "within10                                                                  True\n",
       "class1_2                                                                 False\n",
       "class3_4                                                                 False\n",
       "expungable                                                 Automatic (pending)\n",
       "old_expungable                                                           False\n",
       "expungable_no_lifetimelimit                                Automatic (pending)\n",
       "reason                       Conviction of misdemeanor charges listed in 19...\n",
       "sameday                                                                  False\n",
       "lifetime                                                                 False"
      ]
     },
     "execution_count": 15,
     "metadata": {},
     "output_type": "execute_result"
    }
   ],
   "source": [
    "court = pd.read_csv(\"data1k.csv\")\n",
    "court.head(1).T"
   ]
  },
  {
   "cell_type": "code",
   "execution_count": 18,
   "metadata": {},
   "outputs": [
    {
     "data": {
      "text/plain": [
       "White Caucasian(Non-Hispanic)                  1093\n",
       "Black(Non-Hispanic)                             864\n",
       "White Caucasian (Non-Hispanic)                  342\n",
       "Black (Non-Hispanic)                            311\n",
       "Hispanic                                         88\n",
       "Asian Or Pacific Islander                        27\n",
       "Other(Includes Not Applicable.. Unknown)         27\n",
       "White                                            17\n",
       "Unknown (Includes Not Applicable.. Unknown)      11\n",
       "MISSING                                          10\n",
       "Black                                            10\n",
       "Other (Includes Not Applicable.. Unknown)         8\n",
       "American Indian                                   3\n",
       "Name: Race, dtype: int64"
      ]
     },
     "execution_count": 18,
     "metadata": {},
     "output_type": "execute_result"
    }
   ],
   "source": [
    "court.Race.value_counts()"
   ]
  },
  {
   "cell_type": "code",
   "execution_count": 29,
   "metadata": {},
   "outputs": [
    {
     "data": {
      "text/plain": [
       "array(['Black(Non-Hispanic)', 'White Caucasian (Non-Hispanic)',\n",
       "       'Hispanic', 'White Caucasian(Non-Hispanic)',\n",
       "       'Black (Non-Hispanic)', 'Asian Or Pacific Islander',\n",
       "       'Other(Includes Not Applicable.. Unknown)',\n",
       "       'Other (Includes Not Applicable.. Unknown)', 'MISSING',\n",
       "       'Unknown (Includes Not Applicable.. Unknown)', 'Black', 'White',\n",
       "       'American Indian'], dtype=object)"
      ]
     },
     "execution_count": 29,
     "metadata": {},
     "output_type": "execute_result"
    }
   ],
   "source": [
    "court.Race.unique()"
   ]
  },
  {
   "cell_type": "code",
   "execution_count": 31,
   "metadata": {},
   "outputs": [],
   "source": [
    "replace_map = {'Black(Non-Hispanic)': 'Black (Non-Hispanic)', \n",
    "               'Hispanic': 'Hispanic', \n",
    "               'White Caucasian(Non-Hispanic)': 'White (Non-Hispanic)',\n",
    "               'MISSING': 'Missing or Other', \n",
    "               'Asian Or Pacific Islander': 'Asian or Pacific Islander', \n",
    "               'Black (Non-Hispanic)': 'Black (Non-Hispanic)',\n",
    "               'White Caucasian (Non-Hispanic)': 'White (Non-Hispanic)',\n",
    "               'Other(Includes Not Applicable.. Unknown)': 'Missing or Other',\n",
    "               'Other (Includes Not Applicable.. Unknown)': 'Missing or Other', \n",
    "               'Black': 'Black (Non-Hispanic)', \n",
    "               'White': 'White (Non-Hispanic)',\n",
    "               'Unknown (Includes Not Applicable.. Unknown)': 'Missing or Other', \n",
    "               'American Indian': 'American Indian or Alaskan Native',\n",
    "               'Unknown': 'Missing or Other', \n",
    "               'Asian or Pacific Islander': 'Asian or Pacific Islander',\n",
    "               'American Indian Or Alaskan Native': 'American Indian or Alaskan Native'}\n",
    "\n",
    "\n",
    "court['Race']= court.Race.replace(replace_map)"
   ]
  },
  {
   "cell_type": "code",
   "execution_count": 32,
   "metadata": {},
   "outputs": [
    {
     "data": {
      "text/plain": [
       "White (Non-Hispanic)                 1452\n",
       "Black (Non-Hispanic)                 1185\n",
       "Hispanic                               88\n",
       "Missing or Other                       56\n",
       "Asian or Pacific Islander              27\n",
       "American Indian or Alaskan Native       3\n",
       "Name: Race, dtype: int64"
      ]
     },
     "execution_count": 32,
     "metadata": {},
     "output_type": "execute_result"
    }
   ],
   "source": [
    "court.Race.value_counts()"
   ]
  },
  {
   "cell_type": "code",
   "execution_count": 36,
   "metadata": {},
   "outputs": [],
   "source": [
    "my_columns = ['HearingDate', 'CodeSection', 'Race', 'disposition', 'fips', 'expungable']"
   ]
  },
  {
   "cell_type": "code",
   "execution_count": 38,
   "metadata": {},
   "outputs": [
    {
     "data": {
      "text/html": [
       "<div>\n",
       "<style scoped>\n",
       "    .dataframe tbody tr th:only-of-type {\n",
       "        vertical-align: middle;\n",
       "    }\n",
       "\n",
       "    .dataframe tbody tr th {\n",
       "        vertical-align: top;\n",
       "    }\n",
       "\n",
       "    .dataframe thead th {\n",
       "        text-align: right;\n",
       "    }\n",
       "</style>\n",
       "<table border=\"1\" class=\"dataframe\">\n",
       "  <thead>\n",
       "    <tr style=\"text-align: right;\">\n",
       "      <th></th>\n",
       "      <th>HearingDate</th>\n",
       "      <th>CodeSection</th>\n",
       "      <th>Race</th>\n",
       "      <th>disposition</th>\n",
       "      <th>fips</th>\n",
       "      <th>expungable</th>\n",
       "    </tr>\n",
       "  </thead>\n",
       "  <tbody>\n",
       "    <tr>\n",
       "      <th>0</th>\n",
       "      <td>2018-06-01</td>\n",
       "      <td>A.46.2-862</td>\n",
       "      <td>Black (Non-Hispanic)</td>\n",
       "      <td>Conviction</td>\n",
       "      <td>117</td>\n",
       "      <td>Automatic (pending)</td>\n",
       "    </tr>\n",
       "    <tr>\n",
       "      <th>1</th>\n",
       "      <td>2000-08-07</td>\n",
       "      <td>18.2-26</td>\n",
       "      <td>White (Non-Hispanic)</td>\n",
       "      <td>Conviction</td>\n",
       "      <td>191</td>\n",
       "      <td>Petition</td>\n",
       "    </tr>\n",
       "    <tr>\n",
       "      <th>2</th>\n",
       "      <td>2000-08-07</td>\n",
       "      <td>18.2-95</td>\n",
       "      <td>White (Non-Hispanic)</td>\n",
       "      <td>Conviction</td>\n",
       "      <td>191</td>\n",
       "      <td>Petition</td>\n",
       "    </tr>\n",
       "    <tr>\n",
       "      <th>3</th>\n",
       "      <td>2019-09-25</td>\n",
       "      <td>46.2-300</td>\n",
       "      <td>Hispanic</td>\n",
       "      <td>Conviction</td>\n",
       "      <td>23</td>\n",
       "      <td>Automatic (pending)</td>\n",
       "    </tr>\n",
       "    <tr>\n",
       "      <th>4</th>\n",
       "      <td>2010-05-03</td>\n",
       "      <td>46.2-613(2)</td>\n",
       "      <td>White (Non-Hispanic)</td>\n",
       "      <td>Conviction</td>\n",
       "      <td>840</td>\n",
       "      <td>Automatic</td>\n",
       "    </tr>\n",
       "  </tbody>\n",
       "</table>\n",
       "</div>"
      ],
      "text/plain": [
       "  HearingDate  CodeSection                  Race disposition  fips  \\\n",
       "0  2018-06-01   A.46.2-862  Black (Non-Hispanic)  Conviction   117   \n",
       "1  2000-08-07      18.2-26  White (Non-Hispanic)  Conviction   191   \n",
       "2  2000-08-07      18.2-95  White (Non-Hispanic)  Conviction   191   \n",
       "3  2019-09-25     46.2-300              Hispanic  Conviction    23   \n",
       "4  2010-05-03  46.2-613(2)  White (Non-Hispanic)  Conviction   840   \n",
       "\n",
       "            expungable  \n",
       "0  Automatic (pending)  \n",
       "1             Petition  \n",
       "2             Petition  \n",
       "3  Automatic (pending)  \n",
       "4            Automatic  "
      ]
     },
     "execution_count": 38,
     "metadata": {},
     "output_type": "execute_result"
    }
   ],
   "source": [
    "court_small = court[my_columns]\n",
    "court_small.head()"
   ]
  },
  {
   "cell_type": "code",
   "execution_count": 39,
   "metadata": {},
   "outputs": [
    {
     "name": "stdout",
     "output_type": "stream",
     "text": [
      "<class 'pandas.core.frame.DataFrame'>\n",
      "RangeIndex: 2811 entries, 0 to 2810\n",
      "Data columns (total 6 columns):\n",
      " #   Column       Non-Null Count  Dtype \n",
      "---  ------       --------------  ----- \n",
      " 0   HearingDate  2811 non-null   object\n",
      " 1   CodeSection  2811 non-null   object\n",
      " 2   Race         2811 non-null   object\n",
      " 3   disposition  2811 non-null   object\n",
      " 4   fips         2811 non-null   int64 \n",
      " 5   expungable   2811 non-null   object\n",
      "dtypes: int64(1), object(5)\n",
      "memory usage: 131.9+ KB\n"
     ]
    }
   ],
   "source": [
    "court_small.info()"
   ]
  },
  {
   "cell_type": "code",
   "execution_count": 41,
   "metadata": {},
   "outputs": [
    {
     "name": "stderr",
     "output_type": "stream",
     "text": [
      "<ipython-input-41-88b3e016dfd4>:1: SettingWithCopyWarning: \n",
      "A value is trying to be set on a copy of a slice from a DataFrame.\n",
      "Try using .loc[row_indexer,col_indexer] = value instead\n",
      "\n",
      "See the caveats in the documentation: https://pandas.pydata.org/pandas-docs/stable/user_guide/indexing.html#returning-a-view-versus-a-copy\n",
      "  court_small['HearingDate'] = pd.to_datetime(court_small['HearingDate'])\n"
     ]
    }
   ],
   "source": [
    "court_small['HearingDate'] = pd.to_datetime(court_small['HearingDate'])"
   ]
  },
  {
   "cell_type": "code",
   "execution_count": 52,
   "metadata": {},
   "outputs": [
    {
     "data": {
      "text/plain": [
       "0       2018\n",
       "1       2000\n",
       "2       2000\n",
       "3       2019\n",
       "4       2010\n",
       "        ... \n",
       "2806    2008\n",
       "2807    2009\n",
       "2808    2019\n",
       "2809    2013\n",
       "2810    2018\n",
       "Name: HearingDate, Length: 2811, dtype: int64"
      ]
     },
     "execution_count": 52,
     "metadata": {},
     "output_type": "execute_result"
    }
   ],
   "source": [
    "court_small['HearingDate'].dt.year"
   ]
  },
  {
   "cell_type": "code",
   "execution_count": 53,
   "metadata": {},
   "outputs": [
    {
     "name": "stderr",
     "output_type": "stream",
     "text": [
      "<ipython-input-53-22aa53206ff8>:1: SettingWithCopyWarning: \n",
      "A value is trying to be set on a copy of a slice from a DataFrame.\n",
      "Try using .loc[row_indexer,col_indexer] = value instead\n",
      "\n",
      "See the caveats in the documentation: https://pandas.pydata.org/pandas-docs/stable/user_guide/indexing.html#returning-a-view-versus-a-copy\n",
      "  court_small['Automatic'] = court_small['expungable'] == \"Automatic\"\n"
     ]
    },
    {
     "ename": "KeyError",
     "evalue": "'year'",
     "output_type": "error",
     "traceback": [
      "\u001b[0;31m---------------------------------------------------------------------------\u001b[0m",
      "\u001b[0;31mKeyError\u001b[0m                                  Traceback (most recent call last)",
      "\u001b[0;32m<ipython-input-53-22aa53206ff8>\u001b[0m in \u001b[0;36m<module>\u001b[0;34m\u001b[0m\n\u001b[1;32m      1\u001b[0m \u001b[0mcourt_small\u001b[0m\u001b[0;34m[\u001b[0m\u001b[0;34m'Automatic'\u001b[0m\u001b[0;34m]\u001b[0m \u001b[0;34m=\u001b[0m \u001b[0mcourt_small\u001b[0m\u001b[0;34m[\u001b[0m\u001b[0;34m'expungable'\u001b[0m\u001b[0;34m]\u001b[0m \u001b[0;34m==\u001b[0m \u001b[0;34m\"Automatic\"\u001b[0m\u001b[0;34m\u001b[0m\u001b[0;34m\u001b[0m\u001b[0m\n\u001b[0;32m----> 2\u001b[0;31m \u001b[0mcourt_small\u001b[0m\u001b[0;34m.\u001b[0m\u001b[0mgroupby\u001b[0m\u001b[0;34m(\u001b[0m\u001b[0;34m'year'\u001b[0m\u001b[0;34m)\u001b[0m\u001b[0;34m.\u001b[0m\u001b[0magg\u001b[0m\u001b[0;34m(\u001b[0m\u001b[0;34m{\u001b[0m\u001b[0;34m'Automatic'\u001b[0m\u001b[0;34m:\u001b[0m\u001b[0;34m'sum'\u001b[0m\u001b[0;34m}\u001b[0m\u001b[0;34m)\u001b[0m\u001b[0;34m\u001b[0m\u001b[0;34m\u001b[0m\u001b[0m\n\u001b[0m",
      "\u001b[0;32m~/opt/anaconda3/lib/python3.8/site-packages/pandas/core/frame.py\u001b[0m in \u001b[0;36mgroupby\u001b[0;34m(self, by, axis, level, as_index, sort, group_keys, squeeze, observed, dropna)\u001b[0m\n\u001b[1;32m   7712\u001b[0m         \u001b[0;31m# error: Argument \"squeeze\" to \"DataFrameGroupBy\" has incompatible type\u001b[0m\u001b[0;34m\u001b[0m\u001b[0;34m\u001b[0m\u001b[0;34m\u001b[0m\u001b[0m\n\u001b[1;32m   7713\u001b[0m         \u001b[0;31m# \"Union[bool, NoDefault]\"; expected \"bool\"\u001b[0m\u001b[0;34m\u001b[0m\u001b[0;34m\u001b[0m\u001b[0;34m\u001b[0m\u001b[0m\n\u001b[0;32m-> 7714\u001b[0;31m         return DataFrameGroupBy(\n\u001b[0m\u001b[1;32m   7715\u001b[0m             \u001b[0mobj\u001b[0m\u001b[0;34m=\u001b[0m\u001b[0mself\u001b[0m\u001b[0;34m,\u001b[0m\u001b[0;34m\u001b[0m\u001b[0;34m\u001b[0m\u001b[0m\n\u001b[1;32m   7716\u001b[0m             \u001b[0mkeys\u001b[0m\u001b[0;34m=\u001b[0m\u001b[0mby\u001b[0m\u001b[0;34m,\u001b[0m\u001b[0;34m\u001b[0m\u001b[0;34m\u001b[0m\u001b[0m\n",
      "\u001b[0;32m~/opt/anaconda3/lib/python3.8/site-packages/pandas/core/groupby/groupby.py\u001b[0m in \u001b[0;36m__init__\u001b[0;34m(self, obj, keys, axis, level, grouper, exclusions, selection, as_index, sort, group_keys, squeeze, observed, mutated, dropna)\u001b[0m\n\u001b[1;32m    880\u001b[0m             \u001b[0;32mfrom\u001b[0m \u001b[0mpandas\u001b[0m\u001b[0;34m.\u001b[0m\u001b[0mcore\u001b[0m\u001b[0;34m.\u001b[0m\u001b[0mgroupby\u001b[0m\u001b[0;34m.\u001b[0m\u001b[0mgrouper\u001b[0m \u001b[0;32mimport\u001b[0m \u001b[0mget_grouper\u001b[0m\u001b[0;34m\u001b[0m\u001b[0;34m\u001b[0m\u001b[0m\n\u001b[1;32m    881\u001b[0m \u001b[0;34m\u001b[0m\u001b[0m\n\u001b[0;32m--> 882\u001b[0;31m             grouper, exclusions, obj = get_grouper(\n\u001b[0m\u001b[1;32m    883\u001b[0m                 \u001b[0mobj\u001b[0m\u001b[0;34m,\u001b[0m\u001b[0;34m\u001b[0m\u001b[0;34m\u001b[0m\u001b[0m\n\u001b[1;32m    884\u001b[0m                 \u001b[0mkeys\u001b[0m\u001b[0;34m,\u001b[0m\u001b[0;34m\u001b[0m\u001b[0;34m\u001b[0m\u001b[0m\n",
      "\u001b[0;32m~/opt/anaconda3/lib/python3.8/site-packages/pandas/core/groupby/grouper.py\u001b[0m in \u001b[0;36mget_grouper\u001b[0;34m(obj, key, axis, level, sort, observed, mutated, validate, dropna)\u001b[0m\n\u001b[1;32m    880\u001b[0m                 \u001b[0min_axis\u001b[0m\u001b[0;34m,\u001b[0m \u001b[0mlevel\u001b[0m\u001b[0;34m,\u001b[0m \u001b[0mgpr\u001b[0m \u001b[0;34m=\u001b[0m \u001b[0;32mFalse\u001b[0m\u001b[0;34m,\u001b[0m \u001b[0mgpr\u001b[0m\u001b[0;34m,\u001b[0m \u001b[0;32mNone\u001b[0m\u001b[0;34m\u001b[0m\u001b[0;34m\u001b[0m\u001b[0m\n\u001b[1;32m    881\u001b[0m             \u001b[0;32melse\u001b[0m\u001b[0;34m:\u001b[0m\u001b[0;34m\u001b[0m\u001b[0;34m\u001b[0m\u001b[0m\n\u001b[0;32m--> 882\u001b[0;31m                 \u001b[0;32mraise\u001b[0m \u001b[0mKeyError\u001b[0m\u001b[0;34m(\u001b[0m\u001b[0mgpr\u001b[0m\u001b[0;34m)\u001b[0m\u001b[0;34m\u001b[0m\u001b[0;34m\u001b[0m\u001b[0m\n\u001b[0m\u001b[1;32m    883\u001b[0m         \u001b[0;32melif\u001b[0m \u001b[0misinstance\u001b[0m\u001b[0;34m(\u001b[0m\u001b[0mgpr\u001b[0m\u001b[0;34m,\u001b[0m \u001b[0mGrouper\u001b[0m\u001b[0;34m)\u001b[0m \u001b[0;32mand\u001b[0m \u001b[0mgpr\u001b[0m\u001b[0;34m.\u001b[0m\u001b[0mkey\u001b[0m \u001b[0;32mis\u001b[0m \u001b[0;32mnot\u001b[0m \u001b[0;32mNone\u001b[0m\u001b[0;34m:\u001b[0m\u001b[0;34m\u001b[0m\u001b[0;34m\u001b[0m\u001b[0m\n\u001b[1;32m    884\u001b[0m             \u001b[0;31m# Add key to exclusions\u001b[0m\u001b[0;34m\u001b[0m\u001b[0;34m\u001b[0m\u001b[0;34m\u001b[0m\u001b[0m\n",
      "\u001b[0;31mKeyError\u001b[0m: 'year'"
     ]
    }
   ],
   "source": [
    "court_small['Automatic'] = court_small['expungable'] == \"Automatic\"\n",
    "court_small.groupby('year').agg({'Automatic':'sum'})"
   ]
  },
  {
   "cell_type": "code",
   "execution_count": null,
   "metadata": {},
   "outputs": [],
   "source": []
  },
  {
   "cell_type": "code",
   "execution_count": null,
   "metadata": {},
   "outputs": [],
   "source": []
  },
  {
   "cell_type": "code",
   "execution_count": null,
   "metadata": {},
   "outputs": [],
   "source": []
  },
  {
   "cell_type": "code",
   "execution_count": null,
   "metadata": {},
   "outputs": [],
   "source": []
  },
  {
   "cell_type": "code",
   "execution_count": 54,
   "metadata": {},
   "outputs": [
    {
     "data": {
      "text/plain": [
       "B.46.2-301        268\n",
       "A.46.2-862        253\n",
       "46.2-300          177\n",
       "C.46.2-862        123\n",
       "18.2-250.1         96\n",
       "                 ... \n",
       "A.46.2-704          1\n",
       "4VAC20-1250-30      1\n",
       "14-104              1\n",
       "F.46.2-875          1\n",
       "46.2-1052           1\n",
       "Name: CodeSection, Length: 345, dtype: int64"
      ]
     },
     "execution_count": 54,
     "metadata": {},
     "output_type": "execute_result"
    }
   ],
   "source": [
    "court_small['CodeSection'].value_counts()"
   ]
  },
  {
   "cell_type": "markdown",
   "metadata": {},
   "source": []
  }
 ],
 "metadata": {
  "kernelspec": {
   "display_name": "Python 3",
   "language": "python",
   "name": "python3"
  },
  "language_info": {
   "codemirror_mode": {
    "name": "ipython",
    "version": 3
   },
   "file_extension": ".py",
   "mimetype": "text/x-python",
   "name": "python",
   "nbconvert_exporter": "python",
   "pygments_lexer": "ipython3",
   "version": "3.8.3"
  }
 },
 "nbformat": 4,
 "nbformat_minor": 4
}
